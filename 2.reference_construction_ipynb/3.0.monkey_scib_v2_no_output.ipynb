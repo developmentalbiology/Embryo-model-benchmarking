{
 "cells": [
  {
   "cell_type": "code",
   "execution_count": 1,
   "id": "3ca3ef68-2d43-4fa9-8f54-de75b42e598b",
   "metadata": {},
   "outputs": [
    {
     "name": "stdout",
     "output_type": "stream",
     "text": [
      "\n",
      "   ____            _     _    __                  \n",
      "  / __ \\____ ___  (_)___| |  / /__  _____________ \n",
      " / / / / __ `__ \\/ / ___/ | / / _ \\/ ___/ ___/ _ \\ \n",
      "/ /_/ / / / / / / / /__ | |/ /  __/ /  (__  )  __/ \n",
      "\\____/_/ /_/ /_/_/\\___/ |___/\\___/_/  /____/\\___/                                              \n",
      "\n",
      "Version: 1.5.3, Tutorials: https://omicverse.readthedocs.io/\n"
     ]
    },
    {
     "name": "stderr",
     "output_type": "stream",
     "text": [
      "Global seed set to 0\n",
      "/home/lanxiang/miniconda3/envs/sc/lib/python3.8/site-packages/umap/plot.py:203: NumbaDeprecationWarning: \u001b[1mThe keyword argument 'nopython=False' was supplied. From Numba 0.59.0 the default is being changed to True and use of 'nopython=False' will raise a warning as the argument will have no effect. See https://numba.readthedocs.io/en/stable/reference/deprecation.html#deprecation-of-object-mode-fall-back-behaviour-when-using-jit for details.\u001b[0m\n"
     ]
    }
   ],
   "source": [
    "from sqlite3 import SQLITE_CREATE_VIEW\n",
    "import anndata\n",
    "import scanpy as sc\n",
    "import os\n",
    "from bbknn import bbknn\n",
    "import matplotlib.pyplot as plt\n",
    "import omicverse as ov\n",
    "import scvi\n",
    "import scib\n",
    "from scvi.model.utils import mde\n",
    "from scib_metrics.benchmark import Benchmarker\n",
    "import scanorama\n",
    "import numpy as np\n",
    "import pyliger\n",
    "from harmony import harmonize\n",
    "from rich import print\n",
    "import seaborn as sns\n",
    "import bbknn\n",
    "import doubletdetection\n",
    "%matplotlib inline\n",
    "plt.rcParams.update({'font.size': 12})"
   ]
  },
  {
   "cell_type": "code",
   "execution_count": 2,
   "id": "aa421c18-a2e6-4600-b87c-7cf040f12f12",
   "metadata": {},
   "outputs": [],
   "source": [
    "# R interface\n",
    "from rpy2.robjects import pandas2ri\n",
    "from rpy2.robjects import r\n",
    "import rpy2.rinterface_lib.callbacks\n",
    "import anndata2ri\n",
    "\n",
    "pandas2ri.activate()\n",
    "anndata2ri.activate()\n",
    "\n",
    "%load_ext rpy2.ipython"
   ]
  },
  {
   "cell_type": "code",
   "execution_count": 3,
   "id": "e2e0183c-91e1-4710-9588-90888115e628",
   "metadata": {},
   "outputs": [
    {
     "name": "stdout",
     "output_type": "stream",
     "text": [
      "\n",
      "    WARNING: The R package \"reticulate\" only fixed recently\n",
      "    an issue that caused a segfault when used with rpy2:\n",
      "    https://github.com/rstudio/reticulate/pull/1188\n",
      "    Make sure that you use a version of that package that includes\n",
      "    the fix.\n",
      "    "
     ]
    },
    {
     "data": {
      "text/plain": [
       "Loading required package: SeuratObject\n",
       "Loading required package: sp\n",
       "\n",
       "Attaching package: ‘SeuratObject’\n",
       "\n",
       "The following object is masked from ‘package:base’:\n",
       "\n",
       "    intersect\n",
       "\n",
       "In addition: Warning message:\n",
       "In (function (package, help, pos = 2, lib.loc = NULL, character.only = FALSE,  :\n",
       "  library ‘/usr/lib/R/site-library’ contains no packages\n"
      ]
     },
     "metadata": {},
     "output_type": "display_data"
    }
   ],
   "source": [
    "%%R\n",
    "# R packages\n",
    "library(Seurat)"
   ]
  },
  {
   "cell_type": "code",
   "execution_count": 4,
   "id": "7eed4916-abfd-4b56-8983-e27eea2bfcf1",
   "metadata": {},
   "outputs": [
    {
     "name": "stderr",
     "output_type": "stream",
     "text": [
      "/home/lanxiang/miniconda3/envs/sc/lib/python3.8/site-packages/anndata/_io/utils.py:202: OldFormatWarning: Element '/obs/orig.ident' was written without encoding metadata.\n",
      "/home/lanxiang/miniconda3/envs/sc/lib/python3.8/site-packages/anndata/_io/utils.py:202: OldFormatWarning: Element '/obs/nCount_RNA' was written without encoding metadata.\n",
      "/home/lanxiang/miniconda3/envs/sc/lib/python3.8/site-packages/anndata/_io/utils.py:202: OldFormatWarning: Element '/obs/nFeature_RNA' was written without encoding metadata.\n",
      "/home/lanxiang/miniconda3/envs/sc/lib/python3.8/site-packages/anndata/_io/utils.py:202: OldFormatWarning: Element '/obs/sample' was written without encoding metadata.\n",
      "/home/lanxiang/miniconda3/envs/sc/lib/python3.8/site-packages/anndata/_io/utils.py:202: OldFormatWarning: Element '/obs/stage' was written without encoding metadata.\n",
      "/home/lanxiang/miniconda3/envs/sc/lib/python3.8/site-packages/anndata/_io/utils.py:202: OldFormatWarning: Element '/obs/percent.mt' was written without encoding metadata.\n",
      "/home/lanxiang/miniconda3/envs/sc/lib/python3.8/site-packages/anndata/_io/utils.py:202: OldFormatWarning: Element '/obs/species' was written without encoding metadata.\n",
      "/home/lanxiang/miniconda3/envs/sc/lib/python3.8/site-packages/anndata/_io/utils.py:202: OldFormatWarning: Element '/obs/embryo' was written without encoding metadata.\n",
      "/home/lanxiang/miniconda3/envs/sc/lib/python3.8/site-packages/anndata/_io/utils.py:202: OldFormatWarning: Element '/obs/platform' was written without encoding metadata.\n",
      "/home/lanxiang/miniconda3/envs/sc/lib/python3.8/site-packages/anndata/_io/utils.py:202: OldFormatWarning: Element '/obs/anno' was written without encoding metadata.\n",
      "/home/lanxiang/miniconda3/envs/sc/lib/python3.8/site-packages/anndata/_io/utils.py:202: OldFormatWarning: Element '/obs/sub_anno' was written without encoding metadata.\n",
      "/home/lanxiang/miniconda3/envs/sc/lib/python3.8/site-packages/anndata/_io/utils.py:202: OldFormatWarning: Element '/obs/harmo.anno' was written without encoding metadata.\n",
      "/home/lanxiang/miniconda3/envs/sc/lib/python3.8/site-packages/anndata/_io/utils.py:202: OldFormatWarning: Element '/obs/_index' was written without encoding metadata.\n",
      "/home/lanxiang/miniconda3/envs/sc/lib/python3.8/site-packages/anndata/_io/specs/registry.py:235: OldFormatWarning: Element '/obsm' was written without encoding metadata.\n",
      "/home/lanxiang/miniconda3/envs/sc/lib/python3.8/site-packages/anndata/_io/utils.py:202: OldFormatWarning: Element '/raw/var' was written without encoding metadata.\n",
      "/home/lanxiang/miniconda3/envs/sc/lib/python3.8/site-packages/anndata/_io/utils.py:202: OldFormatWarning: Element '/raw/var/_index' was written without encoding metadata.\n",
      "/home/lanxiang/miniconda3/envs/sc/lib/python3.8/site-packages/anndata/_io/utils.py:202: OldFormatWarning: Element '/var/features' was written without encoding metadata.\n",
      "/home/lanxiang/miniconda3/envs/sc/lib/python3.8/site-packages/anndata/_io/utils.py:202: OldFormatWarning: Element '/var/_index' was written without encoding metadata.\n",
      "/home/lanxiang/miniconda3/envs/sc/lib/python3.8/site-packages/anndata/_io/specs/registry.py:235: OldFormatWarning: Element '/varm' was written without encoding metadata.\n"
     ]
    }
   ],
   "source": [
    "#####Change path and Load data\n",
    "os.chdir(\"/mnt/disk5/Lanxiang/Human_integrated/integrated/8_Progress/monkey_ref_all\")\n",
    "adata = anndata.read_h5ad(\"monkey_remove_Sasaki.h5ad\")"
   ]
  },
  {
   "cell_type": "code",
   "execution_count": 5,
   "id": "2b7bf807-e8f5-4846-a83b-167f8835030a",
   "metadata": {},
   "outputs": [
    {
     "data": {
      "text/plain": [
       "AnnData object with n_obs × n_vars = 160667 × 51691\n",
       "    obs: 'orig.ident', 'nCount_RNA', 'nFeature_RNA', 'sample', 'stage', 'percent.mt', 'species', 'embryo', 'platform', 'anno', 'sub_anno', 'harmo.anno'\n",
       "    var: 'features'"
      ]
     },
     "execution_count": 5,
     "metadata": {},
     "output_type": "execute_result"
    }
   ],
   "source": [
    "adata"
   ]
  },
  {
   "cell_type": "code",
   "execution_count": 6,
   "id": "44aa6bec-95f7-462d-aa69-17fb8faf49a9",
   "metadata": {},
   "outputs": [
    {
     "data": {
      "text/html": [
       "<div>\n",
       "<style scoped>\n",
       "    .dataframe tbody tr th:only-of-type {\n",
       "        vertical-align: middle;\n",
       "    }\n",
       "\n",
       "    .dataframe tbody tr th {\n",
       "        vertical-align: top;\n",
       "    }\n",
       "\n",
       "    .dataframe thead th {\n",
       "        text-align: right;\n",
       "    }\n",
       "</style>\n",
       "<table border=\"1\" class=\"dataframe\">\n",
       "  <thead>\n",
       "    <tr style=\"text-align: right;\">\n",
       "      <th></th>\n",
       "      <th>orig.ident</th>\n",
       "      <th>nCount_RNA</th>\n",
       "      <th>nFeature_RNA</th>\n",
       "      <th>sample</th>\n",
       "      <th>stage</th>\n",
       "      <th>percent.mt</th>\n",
       "      <th>species</th>\n",
       "      <th>embryo</th>\n",
       "      <th>platform</th>\n",
       "      <th>anno</th>\n",
       "      <th>sub_anno</th>\n",
       "      <th>harmo.anno</th>\n",
       "    </tr>\n",
       "  </thead>\n",
       "  <tbody>\n",
       "    <tr>\n",
       "      <th>E13_MS10T45_1_1</th>\n",
       "      <td>Nakamura</td>\n",
       "      <td>999973.322409</td>\n",
       "      <td>10720</td>\n",
       "      <td>2</td>\n",
       "      <td>E13</td>\n",
       "      <td>0.176359</td>\n",
       "      <td>Macaca fascicularis</td>\n",
       "      <td>Real Embryo in vivo</td>\n",
       "      <td>SC3-seq</td>\n",
       "      <td>EXMC</td>\n",
       "      <td>EXMC</td>\n",
       "      <td>ExE.Mesoderm</td>\n",
       "    </tr>\n",
       "    <tr>\n",
       "      <th>E13_MS10T46_1_1</th>\n",
       "      <td>Nakamura</td>\n",
       "      <td>999951.611010</td>\n",
       "      <td>10044</td>\n",
       "      <td>2</td>\n",
       "      <td>E13</td>\n",
       "      <td>0.198974</td>\n",
       "      <td>Macaca fascicularis</td>\n",
       "      <td>Real Embryo in vivo</td>\n",
       "      <td>SC3-seq</td>\n",
       "      <td>EXMC</td>\n",
       "      <td>EXMC</td>\n",
       "      <td>ExE.Mesoderm</td>\n",
       "    </tr>\n",
       "    <tr>\n",
       "      <th>E13_MS10T48_1_1</th>\n",
       "      <td>Nakamura</td>\n",
       "      <td>999982.757048</td>\n",
       "      <td>10127</td>\n",
       "      <td>2</td>\n",
       "      <td>E13</td>\n",
       "      <td>0.187927</td>\n",
       "      <td>Macaca fascicularis</td>\n",
       "      <td>Real Embryo in vivo</td>\n",
       "      <td>SC3-seq</td>\n",
       "      <td>EXMC</td>\n",
       "      <td>EXMC</td>\n",
       "      <td>ExE.Mesoderm</td>\n",
       "    </tr>\n",
       "    <tr>\n",
       "      <th>E13_MS10T49_1_1</th>\n",
       "      <td>Nakamura</td>\n",
       "      <td>999987.594120</td>\n",
       "      <td>9805</td>\n",
       "      <td>2</td>\n",
       "      <td>E13</td>\n",
       "      <td>0.202824</td>\n",
       "      <td>Macaca fascicularis</td>\n",
       "      <td>Real Embryo in vivo</td>\n",
       "      <td>SC3-seq</td>\n",
       "      <td>EXMC</td>\n",
       "      <td>EXMC</td>\n",
       "      <td>ExE.Mesoderm</td>\n",
       "    </tr>\n",
       "    <tr>\n",
       "      <th>E13_MS13T66_1_1</th>\n",
       "      <td>Nakamura</td>\n",
       "      <td>999928.974545</td>\n",
       "      <td>11141</td>\n",
       "      <td>2</td>\n",
       "      <td>E13</td>\n",
       "      <td>0.170418</td>\n",
       "      <td>Macaca fascicularis</td>\n",
       "      <td>Real Embryo in vivo</td>\n",
       "      <td>SC3-seq</td>\n",
       "      <td>EXMC</td>\n",
       "      <td>EXMC</td>\n",
       "      <td>ExE.Mesoderm</td>\n",
       "    </tr>\n",
       "    <tr>\n",
       "      <th>...</th>\n",
       "      <td>...</td>\n",
       "      <td>...</td>\n",
       "      <td>...</td>\n",
       "      <td>...</td>\n",
       "      <td>...</td>\n",
       "      <td>...</td>\n",
       "      <td>...</td>\n",
       "      <td>...</td>\n",
       "      <td>...</td>\n",
       "      <td>...</td>\n",
       "      <td>...</td>\n",
       "      <td>...</td>\n",
       "    </tr>\n",
       "    <tr>\n",
       "      <th>X20210927.SFY.1.5_sc4</th>\n",
       "      <td>Zhai_2023</td>\n",
       "      <td>136376.000000</td>\n",
       "      <td>4440</td>\n",
       "      <td>2</td>\n",
       "      <td>E18_IVC</td>\n",
       "      <td>0.182583</td>\n",
       "      <td>Macaca fascicularis</td>\n",
       "      <td>E18-1</td>\n",
       "      <td>scChaRM-seq</td>\n",
       "      <td>Endoderm</td>\n",
       "      <td>Endoderm</td>\n",
       "      <td>Endoderm</td>\n",
       "    </tr>\n",
       "    <tr>\n",
       "      <th>X20210927.SFY.1.5_sc5</th>\n",
       "      <td>Zhai_2023</td>\n",
       "      <td>37566.000000</td>\n",
       "      <td>3267</td>\n",
       "      <td>2</td>\n",
       "      <td>E18_IVC</td>\n",
       "      <td>0.244902</td>\n",
       "      <td>Macaca fascicularis</td>\n",
       "      <td>E18-1</td>\n",
       "      <td>scChaRM-seq</td>\n",
       "      <td>EXMC</td>\n",
       "      <td>EXMC</td>\n",
       "      <td>ExE.Mesoderm</td>\n",
       "    </tr>\n",
       "    <tr>\n",
       "      <th>X20210927.SFY.1.5_sc7</th>\n",
       "      <td>Zhai_2023</td>\n",
       "      <td>206313.000000</td>\n",
       "      <td>4915</td>\n",
       "      <td>2</td>\n",
       "      <td>E18_IVC</td>\n",
       "      <td>0.133777</td>\n",
       "      <td>Macaca fascicularis</td>\n",
       "      <td>E18-1</td>\n",
       "      <td>scChaRM-seq</td>\n",
       "      <td>CTB</td>\n",
       "      <td>CTB</td>\n",
       "      <td>TE/TrB</td>\n",
       "    </tr>\n",
       "    <tr>\n",
       "      <th>X20210927.SFY.1.5_sc8</th>\n",
       "      <td>Zhai_2023</td>\n",
       "      <td>375795.000000</td>\n",
       "      <td>7880</td>\n",
       "      <td>2</td>\n",
       "      <td>E18_IVC</td>\n",
       "      <td>0.232308</td>\n",
       "      <td>Macaca fascicularis</td>\n",
       "      <td>E18-1</td>\n",
       "      <td>scChaRM-seq</td>\n",
       "      <td>CTB</td>\n",
       "      <td>CTB</td>\n",
       "      <td>TE/TrB</td>\n",
       "    </tr>\n",
       "    <tr>\n",
       "      <th>X20210927.SFY.1.5_sc9</th>\n",
       "      <td>Zhai_2023</td>\n",
       "      <td>178643.000000</td>\n",
       "      <td>4748</td>\n",
       "      <td>2</td>\n",
       "      <td>E18_IVC</td>\n",
       "      <td>0.223350</td>\n",
       "      <td>Macaca fascicularis</td>\n",
       "      <td>E18-1</td>\n",
       "      <td>scChaRM-seq</td>\n",
       "      <td>Extraembryonic Mesoderm</td>\n",
       "      <td>Extraembryonic Mesoderm</td>\n",
       "      <td>ExE.Mesoderm</td>\n",
       "    </tr>\n",
       "  </tbody>\n",
       "</table>\n",
       "<p>160667 rows × 12 columns</p>\n",
       "</div>"
      ],
      "text/plain": [
       "                      orig.ident     nCount_RNA  nFeature_RNA  sample  \\\n",
       "E13_MS10T45_1_1         Nakamura  999973.322409         10720       2   \n",
       "E13_MS10T46_1_1         Nakamura  999951.611010         10044       2   \n",
       "E13_MS10T48_1_1         Nakamura  999982.757048         10127       2   \n",
       "E13_MS10T49_1_1         Nakamura  999987.594120          9805       2   \n",
       "E13_MS13T66_1_1         Nakamura  999928.974545         11141       2   \n",
       "...                          ...            ...           ...     ...   \n",
       "X20210927.SFY.1.5_sc4  Zhai_2023  136376.000000          4440       2   \n",
       "X20210927.SFY.1.5_sc5  Zhai_2023   37566.000000          3267       2   \n",
       "X20210927.SFY.1.5_sc7  Zhai_2023  206313.000000          4915       2   \n",
       "X20210927.SFY.1.5_sc8  Zhai_2023  375795.000000          7880       2   \n",
       "X20210927.SFY.1.5_sc9  Zhai_2023  178643.000000          4748       2   \n",
       "\n",
       "                         stage  percent.mt              species  \\\n",
       "E13_MS10T45_1_1            E13    0.176359  Macaca fascicularis   \n",
       "E13_MS10T46_1_1            E13    0.198974  Macaca fascicularis   \n",
       "E13_MS10T48_1_1            E13    0.187927  Macaca fascicularis   \n",
       "E13_MS10T49_1_1            E13    0.202824  Macaca fascicularis   \n",
       "E13_MS13T66_1_1            E13    0.170418  Macaca fascicularis   \n",
       "...                        ...         ...                  ...   \n",
       "X20210927.SFY.1.5_sc4  E18_IVC    0.182583  Macaca fascicularis   \n",
       "X20210927.SFY.1.5_sc5  E18_IVC    0.244902  Macaca fascicularis   \n",
       "X20210927.SFY.1.5_sc7  E18_IVC    0.133777  Macaca fascicularis   \n",
       "X20210927.SFY.1.5_sc8  E18_IVC    0.232308  Macaca fascicularis   \n",
       "X20210927.SFY.1.5_sc9  E18_IVC    0.223350  Macaca fascicularis   \n",
       "\n",
       "                                    embryo     platform  \\\n",
       "E13_MS10T45_1_1        Real Embryo in vivo      SC3-seq   \n",
       "E13_MS10T46_1_1        Real Embryo in vivo      SC3-seq   \n",
       "E13_MS10T48_1_1        Real Embryo in vivo      SC3-seq   \n",
       "E13_MS10T49_1_1        Real Embryo in vivo      SC3-seq   \n",
       "E13_MS13T66_1_1        Real Embryo in vivo      SC3-seq   \n",
       "...                                    ...          ...   \n",
       "X20210927.SFY.1.5_sc4                E18-1  scChaRM-seq   \n",
       "X20210927.SFY.1.5_sc5                E18-1  scChaRM-seq   \n",
       "X20210927.SFY.1.5_sc7                E18-1  scChaRM-seq   \n",
       "X20210927.SFY.1.5_sc8                E18-1  scChaRM-seq   \n",
       "X20210927.SFY.1.5_sc9                E18-1  scChaRM-seq   \n",
       "\n",
       "                                          anno                 sub_anno  \\\n",
       "E13_MS10T45_1_1                           EXMC                     EXMC   \n",
       "E13_MS10T46_1_1                           EXMC                     EXMC   \n",
       "E13_MS10T48_1_1                           EXMC                     EXMC   \n",
       "E13_MS10T49_1_1                           EXMC                     EXMC   \n",
       "E13_MS13T66_1_1                           EXMC                     EXMC   \n",
       "...                                        ...                      ...   \n",
       "X20210927.SFY.1.5_sc4                 Endoderm                 Endoderm   \n",
       "X20210927.SFY.1.5_sc5                     EXMC                     EXMC   \n",
       "X20210927.SFY.1.5_sc7                      CTB                      CTB   \n",
       "X20210927.SFY.1.5_sc8                      CTB                      CTB   \n",
       "X20210927.SFY.1.5_sc9  Extraembryonic Mesoderm  Extraembryonic Mesoderm   \n",
       "\n",
       "                         harmo.anno  \n",
       "E13_MS10T45_1_1        ExE.Mesoderm  \n",
       "E13_MS10T46_1_1        ExE.Mesoderm  \n",
       "E13_MS10T48_1_1        ExE.Mesoderm  \n",
       "E13_MS10T49_1_1        ExE.Mesoderm  \n",
       "E13_MS13T66_1_1        ExE.Mesoderm  \n",
       "...                             ...  \n",
       "X20210927.SFY.1.5_sc4      Endoderm  \n",
       "X20210927.SFY.1.5_sc5  ExE.Mesoderm  \n",
       "X20210927.SFY.1.5_sc7        TE/TrB  \n",
       "X20210927.SFY.1.5_sc8        TE/TrB  \n",
       "X20210927.SFY.1.5_sc9  ExE.Mesoderm  \n",
       "\n",
       "[160667 rows x 12 columns]"
      ]
     },
     "execution_count": 6,
     "metadata": {},
     "output_type": "execute_result"
    }
   ],
   "source": [
    "adata.obs"
   ]
  },
  {
   "cell_type": "code",
   "execution_count": 7,
   "id": "42e36489-a1e8-4896-a1c5-468346421386",
   "metadata": {},
   "outputs": [
    {
     "data": {
      "text/plain": [
       "{'Endoderm',\n",
       " 'Epiblast',\n",
       " 'ExE.Endoderm',\n",
       " 'ExE.Mesoderm',\n",
       " 'Hemogenic.Endothelial.Progenitors',\n",
       " 'Hypoblast',\n",
       " 'ICM',\n",
       " 'Mesoderm',\n",
       " 'Neural.Ectoderm',\n",
       " 'Node',\n",
       " 'Non-Neural.Ectoderm',\n",
       " 'PGC',\n",
       " 'Primitive.streak',\n",
       " 'TE/TrB',\n",
       " 'Unknown'}"
      ]
     },
     "execution_count": 7,
     "metadata": {},
     "output_type": "execute_result"
    }
   ],
   "source": [
    "set(adata.obs[\"harmo.anno\"])"
   ]
  },
  {
   "cell_type": "code",
   "execution_count": null,
   "id": "00b22182-a8cb-49be-9fa9-a385186d91ca",
   "metadata": {},
   "outputs": [],
   "source": [
    "sc.pl.violin(\n",
    "    adata,\n",
    "    [\"nCount_RNA\", \"nFeature_RNA\", \"percent.mt\"],\n",
    "    jitter=0.4,\n",
    "    multi_panel=True,\n",
    "    save= \"violin_plot.pdf\"\n",
    ")"
   ]
  },
  {
   "cell_type": "code",
   "execution_count": 9,
   "id": "9df8fb0b-d2e0-4615-877a-26c8d72621cf",
   "metadata": {},
   "outputs": [],
   "source": [
    "##filter nFeature_RNA and percent.mt\n",
    "#adata = adata[adata.obs.nFeature_RNA > 2000, :]\n",
    "#adata = adata[adata.obs.nCount_RNA > 1000, :]\n",
    "#adata = adata[adata.obs[\"percent.mt\"] < 15, :]"
   ]
  },
  {
   "cell_type": "code",
   "execution_count": 10,
   "id": "58e31e42-93c5-49c6-9f45-b54035ea7d9c",
   "metadata": {},
   "outputs": [],
   "source": [
    "# remove \"empty\" genes\n",
    "sc.pp.filter_genes(adata, min_cells=1)"
   ]
  },
  {
   "cell_type": "code",
   "execution_count": 11,
   "id": "f5741967-447b-4c7b-9fc1-3d45ac7a018b",
   "metadata": {},
   "outputs": [
    {
     "data": {
      "text/plain": [
       "AnnData object with n_obs × n_vars = 160667 × 44223\n",
       "    obs: 'orig.ident', 'nCount_RNA', 'nFeature_RNA', 'sample', 'stage', 'percent.mt', 'species', 'embryo', 'platform', 'anno', 'sub_anno', 'harmo.anno'\n",
       "    var: 'features', 'n_cells'"
      ]
     },
     "execution_count": 11,
     "metadata": {},
     "output_type": "execute_result"
    }
   ],
   "source": [
    "adata"
   ]
  },
  {
   "cell_type": "code",
   "execution_count": 12,
   "id": "37bb3f2a-d8df-4151-902b-bb993b16bb5f",
   "metadata": {},
   "outputs": [
    {
     "data": {
      "application/vnd.jupyter.widget-view+json": {
       "model_id": "00f6765b6ba643999cdedd2c4c05bd01",
       "version_major": 2,
       "version_minor": 0
      },
      "text/plain": [
       "  0%|          | 0/40 [00:00<?, ?it/s]"
      ]
     },
     "metadata": {},
     "output_type": "display_data"
    }
   ],
   "source": [
    "clf = doubletdetection.BoostClassifier(\n",
    "    n_iters=40,\n",
    "    clustering_algorithm=\"louvain\",\n",
    "    standard_scaling=True,\n",
    "    pseudocount=0.1,\n",
    "    n_jobs=-1,\n",
    ")\n",
    "doublets = clf.fit(adata.X).predict(p_thresh=1e-16, voter_thresh=0.5)\n",
    "doublet_score = clf.doublet_score()"
   ]
  },
  {
   "cell_type": "code",
   "execution_count": 13,
   "id": "04059fc1-0c9f-47ba-843b-2261ad565f9e",
   "metadata": {},
   "outputs": [],
   "source": [
    "adata.obs[\"doublet\"] = doublets\n",
    "adata.obs[\"doublet_score\"] = doublet_score"
   ]
  },
  {
   "cell_type": "code",
   "execution_count": 14,
   "id": "4623a8b1-5517-441f-b0b4-9a134e5f9d0a",
   "metadata": {},
   "outputs": [
    {
     "data": {
      "text/plain": [
       "AnnData object with n_obs × n_vars = 160667 × 44223\n",
       "    obs: 'orig.ident', 'nCount_RNA', 'nFeature_RNA', 'sample', 'stage', 'percent.mt', 'species', 'embryo', 'platform', 'anno', 'sub_anno', 'harmo.anno', 'doublet', 'doublet_score'\n",
       "    var: 'features', 'n_cells'"
      ]
     },
     "execution_count": 14,
     "metadata": {},
     "output_type": "execute_result"
    }
   ],
   "source": [
    "adata"
   ]
  },
  {
   "cell_type": "code",
   "execution_count": 15,
   "id": "55651653-913b-4a04-9556-2abfafc05088",
   "metadata": {},
   "outputs": [
    {
     "data": {
      "text/html": [
       "<pre style=\"white-space:pre;overflow-x:auto;line-height:normal;font-family:Menlo,'DejaVu Sans Mono',consolas,'Courier New',monospace\">  <span style=\"font-weight: bold\">(</span><span style=\"color: #008080; text-decoration-color: #008080; font-weight: bold\">0</span>, <span style=\"color: #008080; text-decoration-color: #008080; font-weight: bold\">0</span><span style=\"font-weight: bold\">)</span>        <span style=\"color: #008080; text-decoration-color: #008080; font-weight: bold\">10.4088</span>\n",
       "  <span style=\"font-weight: bold\">(</span><span style=\"color: #008080; text-decoration-color: #008080; font-weight: bold\">0</span>, <span style=\"color: #008080; text-decoration-color: #008080; font-weight: bold\">2</span><span style=\"font-weight: bold\">)</span>        <span style=\"color: #008080; text-decoration-color: #008080; font-weight: bold\">11.8958</span>\n",
       "  <span style=\"font-weight: bold\">(</span><span style=\"color: #008080; text-decoration-color: #008080; font-weight: bold\">0</span>, <span style=\"color: #008080; text-decoration-color: #008080; font-weight: bold\">3</span><span style=\"font-weight: bold\">)</span>        <span style=\"color: #008080; text-decoration-color: #008080; font-weight: bold\">34.2003</span>\n",
       "  <span style=\"font-weight: bold\">(</span><span style=\"color: #008080; text-decoration-color: #008080; font-weight: bold\">0</span>, <span style=\"color: #008080; text-decoration-color: #008080; font-weight: bold\">26</span><span style=\"font-weight: bold\">)</span>       <span style=\"color: #008080; text-decoration-color: #008080; font-weight: bold\">7.43484</span>\n",
       "  <span style=\"font-weight: bold\">(</span><span style=\"color: #008080; text-decoration-color: #008080; font-weight: bold\">0</span>, <span style=\"color: #008080; text-decoration-color: #008080; font-weight: bold\">38</span><span style=\"font-weight: bold\">)</span>       <span style=\"color: #008080; text-decoration-color: #008080; font-weight: bold\">92.1921</span>\n",
       "  <span style=\"font-weight: bold\">(</span><span style=\"color: #008080; text-decoration-color: #008080; font-weight: bold\">0</span>, <span style=\"color: #008080; text-decoration-color: #008080; font-weight: bold\">39</span><span style=\"font-weight: bold\">)</span>       <span style=\"color: #008080; text-decoration-color: #008080; font-weight: bold\">13.3827</span>\n",
       "  <span style=\"font-weight: bold\">(</span><span style=\"color: #008080; text-decoration-color: #008080; font-weight: bold\">0</span>, <span style=\"color: #008080; text-decoration-color: #008080; font-weight: bold\">41</span><span style=\"font-weight: bold\">)</span>       <span style=\"color: #008080; text-decoration-color: #008080; font-weight: bold\">5.94788</span>\n",
       "  <span style=\"font-weight: bold\">(</span><span style=\"color: #008080; text-decoration-color: #008080; font-weight: bold\">0</span>, <span style=\"color: #008080; text-decoration-color: #008080; font-weight: bold\">42</span><span style=\"font-weight: bold\">)</span>       <span style=\"color: #008080; text-decoration-color: #008080; font-weight: bold\">2.97394</span>\n",
       "  <span style=\"font-weight: bold\">(</span><span style=\"color: #008080; text-decoration-color: #008080; font-weight: bold\">0</span>, <span style=\"color: #008080; text-decoration-color: #008080; font-weight: bold\">43</span><span style=\"font-weight: bold\">)</span>       <span style=\"color: #008080; text-decoration-color: #008080; font-weight: bold\">5.94788</span>\n",
       "  <span style=\"font-weight: bold\">(</span><span style=\"color: #008080; text-decoration-color: #008080; font-weight: bold\">0</span>, <span style=\"color: #008080; text-decoration-color: #008080; font-weight: bold\">44</span><span style=\"font-weight: bold\">)</span>       <span style=\"color: #008080; text-decoration-color: #008080; font-weight: bold\">2.97394</span>\n",
       "  <span style=\"font-weight: bold\">(</span><span style=\"color: #008080; text-decoration-color: #008080; font-weight: bold\">0</span>, <span style=\"color: #008080; text-decoration-color: #008080; font-weight: bold\">46</span><span style=\"font-weight: bold\">)</span>       <span style=\"color: #008080; text-decoration-color: #008080; font-weight: bold\">72.8615</span>\n",
       "  <span style=\"font-weight: bold\">(</span><span style=\"color: #008080; text-decoration-color: #008080; font-weight: bold\">0</span>, <span style=\"color: #008080; text-decoration-color: #008080; font-weight: bold\">48</span><span style=\"font-weight: bold\">)</span>       <span style=\"color: #008080; text-decoration-color: #008080; font-weight: bold\">26.7654</span>\n",
       "  <span style=\"font-weight: bold\">(</span><span style=\"color: #008080; text-decoration-color: #008080; font-weight: bold\">0</span>, <span style=\"color: #008080; text-decoration-color: #008080; font-weight: bold\">49</span><span style=\"font-weight: bold\">)</span>       <span style=\"color: #008080; text-decoration-color: #008080; font-weight: bold\">5.94788</span>\n",
       "  <span style=\"font-weight: bold\">(</span><span style=\"color: #008080; text-decoration-color: #008080; font-weight: bold\">0</span>, <span style=\"color: #008080; text-decoration-color: #008080; font-weight: bold\">51</span><span style=\"font-weight: bold\">)</span>       <span style=\"color: #008080; text-decoration-color: #008080; font-weight: bold\">17.8436</span>\n",
       "  <span style=\"font-weight: bold\">(</span><span style=\"color: #008080; text-decoration-color: #008080; font-weight: bold\">0</span>, <span style=\"color: #008080; text-decoration-color: #008080; font-weight: bold\">52</span><span style=\"font-weight: bold\">)</span>       <span style=\"color: #008080; text-decoration-color: #008080; font-weight: bold\">52.0439</span>\n",
       "  <span style=\"font-weight: bold\">(</span><span style=\"color: #008080; text-decoration-color: #008080; font-weight: bold\">0</span>, <span style=\"color: #008080; text-decoration-color: #008080; font-weight: bold\">54</span><span style=\"font-weight: bold\">)</span>       <span style=\"color: #008080; text-decoration-color: #008080; font-weight: bold\">20.8176</span>\n",
       "  <span style=\"font-weight: bold\">(</span><span style=\"color: #008080; text-decoration-color: #008080; font-weight: bold\">0</span>, <span style=\"color: #008080; text-decoration-color: #008080; font-weight: bold\">57</span><span style=\"font-weight: bold\">)</span>       <span style=\"color: #008080; text-decoration-color: #008080; font-weight: bold\">132.34</span>\n",
       "  <span style=\"font-weight: bold\">(</span><span style=\"color: #008080; text-decoration-color: #008080; font-weight: bold\">0</span>, <span style=\"color: #008080; text-decoration-color: #008080; font-weight: bold\">58</span><span style=\"font-weight: bold\">)</span>       <span style=\"color: #008080; text-decoration-color: #008080; font-weight: bold\">8.92181</span>\n",
       "  <span style=\"font-weight: bold\">(</span><span style=\"color: #008080; text-decoration-color: #008080; font-weight: bold\">0</span>, <span style=\"color: #008080; text-decoration-color: #008080; font-weight: bold\">59</span><span style=\"font-weight: bold\">)</span>       <span style=\"color: #008080; text-decoration-color: #008080; font-weight: bold\">303.342</span>\n",
       "  <span style=\"font-weight: bold\">(</span><span style=\"color: #008080; text-decoration-color: #008080; font-weight: bold\">0</span>, <span style=\"color: #008080; text-decoration-color: #008080; font-weight: bold\">63</span><span style=\"font-weight: bold\">)</span>       <span style=\"color: #008080; text-decoration-color: #008080; font-weight: bold\">196.28</span>\n",
       "  <span style=\"font-weight: bold\">(</span><span style=\"color: #008080; text-decoration-color: #008080; font-weight: bold\">0</span>, <span style=\"color: #008080; text-decoration-color: #008080; font-weight: bold\">64</span><span style=\"font-weight: bold\">)</span>       <span style=\"color: #008080; text-decoration-color: #008080; font-weight: bold\">92.1921</span>\n",
       "  <span style=\"font-weight: bold\">(</span><span style=\"color: #008080; text-decoration-color: #008080; font-weight: bold\">0</span>, <span style=\"color: #008080; text-decoration-color: #008080; font-weight: bold\">67</span><span style=\"font-weight: bold\">)</span>       <span style=\"color: #008080; text-decoration-color: #008080; font-weight: bold\">89.2181</span>\n",
       "  <span style=\"font-weight: bold\">(</span><span style=\"color: #008080; text-decoration-color: #008080; font-weight: bold\">0</span>, <span style=\"color: #008080; text-decoration-color: #008080; font-weight: bold\">72</span><span style=\"font-weight: bold\">)</span>       <span style=\"color: #008080; text-decoration-color: #008080; font-weight: bold\">4.46091</span>\n",
       "  <span style=\"font-weight: bold\">(</span><span style=\"color: #008080; text-decoration-color: #008080; font-weight: bold\">0</span>, <span style=\"color: #008080; text-decoration-color: #008080; font-weight: bold\">74</span><span style=\"font-weight: bold\">)</span>       <span style=\"color: #008080; text-decoration-color: #008080; font-weight: bold\">72.8615</span>\n",
       "  <span style=\"font-weight: bold\">(</span><span style=\"color: #008080; text-decoration-color: #008080; font-weight: bold\">0</span>, <span style=\"color: #008080; text-decoration-color: #008080; font-weight: bold\">76</span><span style=\"font-weight: bold\">)</span>       <span style=\"color: #008080; text-decoration-color: #008080; font-weight: bold\">59.4788</span>\n",
       "  :     :\n",
       "  <span style=\"font-weight: bold\">(</span><span style=\"color: #008080; text-decoration-color: #008080; font-weight: bold\">160666</span>, <span style=\"color: #008080; text-decoration-color: #008080; font-weight: bold\">44028</span><span style=\"font-weight: bold\">)</span>       <span style=\"color: #008080; text-decoration-color: #008080; font-weight: bold\">29.0</span>\n",
       "  <span style=\"font-weight: bold\">(</span><span style=\"color: #008080; text-decoration-color: #008080; font-weight: bold\">160666</span>, <span style=\"color: #008080; text-decoration-color: #008080; font-weight: bold\">44037</span><span style=\"font-weight: bold\">)</span>       <span style=\"color: #008080; text-decoration-color: #008080; font-weight: bold\">15.0</span>\n",
       "  <span style=\"font-weight: bold\">(</span><span style=\"color: #008080; text-decoration-color: #008080; font-weight: bold\">160666</span>, <span style=\"color: #008080; text-decoration-color: #008080; font-weight: bold\">44038</span><span style=\"font-weight: bold\">)</span>       <span style=\"color: #008080; text-decoration-color: #008080; font-weight: bold\">696.0</span>\n",
       "  <span style=\"font-weight: bold\">(</span><span style=\"color: #008080; text-decoration-color: #008080; font-weight: bold\">160666</span>, <span style=\"color: #008080; text-decoration-color: #008080; font-weight: bold\">44042</span><span style=\"font-weight: bold\">)</span>       <span style=\"color: #008080; text-decoration-color: #008080; font-weight: bold\">115.0</span>\n",
       "  <span style=\"font-weight: bold\">(</span><span style=\"color: #008080; text-decoration-color: #008080; font-weight: bold\">160666</span>, <span style=\"color: #008080; text-decoration-color: #008080; font-weight: bold\">44045</span><span style=\"font-weight: bold\">)</span>       <span style=\"color: #008080; text-decoration-color: #008080; font-weight: bold\">23.0</span>\n",
       "  <span style=\"font-weight: bold\">(</span><span style=\"color: #008080; text-decoration-color: #008080; font-weight: bold\">160666</span>, <span style=\"color: #008080; text-decoration-color: #008080; font-weight: bold\">44073</span><span style=\"font-weight: bold\">)</span>       <span style=\"color: #008080; text-decoration-color: #008080; font-weight: bold\">44.0</span>\n",
       "  <span style=\"font-weight: bold\">(</span><span style=\"color: #008080; text-decoration-color: #008080; font-weight: bold\">160666</span>, <span style=\"color: #008080; text-decoration-color: #008080; font-weight: bold\">44084</span><span style=\"font-weight: bold\">)</span>       <span style=\"color: #008080; text-decoration-color: #008080; font-weight: bold\">1.0</span>\n",
       "  <span style=\"font-weight: bold\">(</span><span style=\"color: #008080; text-decoration-color: #008080; font-weight: bold\">160666</span>, <span style=\"color: #008080; text-decoration-color: #008080; font-weight: bold\">44090</span><span style=\"font-weight: bold\">)</span>       <span style=\"color: #008080; text-decoration-color: #008080; font-weight: bold\">1.0</span>\n",
       "  <span style=\"font-weight: bold\">(</span><span style=\"color: #008080; text-decoration-color: #008080; font-weight: bold\">160666</span>, <span style=\"color: #008080; text-decoration-color: #008080; font-weight: bold\">44094</span><span style=\"font-weight: bold\">)</span>       <span style=\"color: #008080; text-decoration-color: #008080; font-weight: bold\">45.0</span>\n",
       "  <span style=\"font-weight: bold\">(</span><span style=\"color: #008080; text-decoration-color: #008080; font-weight: bold\">160666</span>, <span style=\"color: #008080; text-decoration-color: #008080; font-weight: bold\">44102</span><span style=\"font-weight: bold\">)</span>       <span style=\"color: #008080; text-decoration-color: #008080; font-weight: bold\">3.0</span>\n",
       "  <span style=\"font-weight: bold\">(</span><span style=\"color: #008080; text-decoration-color: #008080; font-weight: bold\">160666</span>, <span style=\"color: #008080; text-decoration-color: #008080; font-weight: bold\">44104</span><span style=\"font-weight: bold\">)</span>       <span style=\"color: #008080; text-decoration-color: #008080; font-weight: bold\">2.0</span>\n",
       "  <span style=\"font-weight: bold\">(</span><span style=\"color: #008080; text-decoration-color: #008080; font-weight: bold\">160666</span>, <span style=\"color: #008080; text-decoration-color: #008080; font-weight: bold\">44111</span><span style=\"font-weight: bold\">)</span>       <span style=\"color: #008080; text-decoration-color: #008080; font-weight: bold\">35.0</span>\n",
       "  <span style=\"font-weight: bold\">(</span><span style=\"color: #008080; text-decoration-color: #008080; font-weight: bold\">160666</span>, <span style=\"color: #008080; text-decoration-color: #008080; font-weight: bold\">44115</span><span style=\"font-weight: bold\">)</span>       <span style=\"color: #008080; text-decoration-color: #008080; font-weight: bold\">26.0</span>\n",
       "  <span style=\"font-weight: bold\">(</span><span style=\"color: #008080; text-decoration-color: #008080; font-weight: bold\">160666</span>, <span style=\"color: #008080; text-decoration-color: #008080; font-weight: bold\">44121</span><span style=\"font-weight: bold\">)</span>       <span style=\"color: #008080; text-decoration-color: #008080; font-weight: bold\">1.0</span>\n",
       "  <span style=\"font-weight: bold\">(</span><span style=\"color: #008080; text-decoration-color: #008080; font-weight: bold\">160666</span>, <span style=\"color: #008080; text-decoration-color: #008080; font-weight: bold\">44139</span><span style=\"font-weight: bold\">)</span>       <span style=\"color: #008080; text-decoration-color: #008080; font-weight: bold\">1.0</span>\n",
       "  <span style=\"font-weight: bold\">(</span><span style=\"color: #008080; text-decoration-color: #008080; font-weight: bold\">160666</span>, <span style=\"color: #008080; text-decoration-color: #008080; font-weight: bold\">44143</span><span style=\"font-weight: bold\">)</span>       <span style=\"color: #008080; text-decoration-color: #008080; font-weight: bold\">67.0</span>\n",
       "  <span style=\"font-weight: bold\">(</span><span style=\"color: #008080; text-decoration-color: #008080; font-weight: bold\">160666</span>, <span style=\"color: #008080; text-decoration-color: #008080; font-weight: bold\">44153</span><span style=\"font-weight: bold\">)</span>       <span style=\"color: #008080; text-decoration-color: #008080; font-weight: bold\">1.0</span>\n",
       "  <span style=\"font-weight: bold\">(</span><span style=\"color: #008080; text-decoration-color: #008080; font-weight: bold\">160666</span>, <span style=\"color: #008080; text-decoration-color: #008080; font-weight: bold\">44171</span><span style=\"font-weight: bold\">)</span>       <span style=\"color: #008080; text-decoration-color: #008080; font-weight: bold\">5.0</span>\n",
       "  <span style=\"font-weight: bold\">(</span><span style=\"color: #008080; text-decoration-color: #008080; font-weight: bold\">160666</span>, <span style=\"color: #008080; text-decoration-color: #008080; font-weight: bold\">44184</span><span style=\"font-weight: bold\">)</span>       <span style=\"color: #008080; text-decoration-color: #008080; font-weight: bold\">2.0</span>\n",
       "  <span style=\"font-weight: bold\">(</span><span style=\"color: #008080; text-decoration-color: #008080; font-weight: bold\">160666</span>, <span style=\"color: #008080; text-decoration-color: #008080; font-weight: bold\">44186</span><span style=\"font-weight: bold\">)</span>       <span style=\"color: #008080; text-decoration-color: #008080; font-weight: bold\">9.0</span>\n",
       "  <span style=\"font-weight: bold\">(</span><span style=\"color: #008080; text-decoration-color: #008080; font-weight: bold\">160666</span>, <span style=\"color: #008080; text-decoration-color: #008080; font-weight: bold\">44191</span><span style=\"font-weight: bold\">)</span>       <span style=\"color: #008080; text-decoration-color: #008080; font-weight: bold\">1.0</span>\n",
       "  <span style=\"font-weight: bold\">(</span><span style=\"color: #008080; text-decoration-color: #008080; font-weight: bold\">160666</span>, <span style=\"color: #008080; text-decoration-color: #008080; font-weight: bold\">44199</span><span style=\"font-weight: bold\">)</span>       <span style=\"color: #008080; text-decoration-color: #008080; font-weight: bold\">1.0</span>\n",
       "  <span style=\"font-weight: bold\">(</span><span style=\"color: #008080; text-decoration-color: #008080; font-weight: bold\">160666</span>, <span style=\"color: #008080; text-decoration-color: #008080; font-weight: bold\">44207</span><span style=\"font-weight: bold\">)</span>       <span style=\"color: #008080; text-decoration-color: #008080; font-weight: bold\">23.0</span>\n",
       "  <span style=\"font-weight: bold\">(</span><span style=\"color: #008080; text-decoration-color: #008080; font-weight: bold\">160666</span>, <span style=\"color: #008080; text-decoration-color: #008080; font-weight: bold\">44211</span><span style=\"font-weight: bold\">)</span>       <span style=\"color: #008080; text-decoration-color: #008080; font-weight: bold\">85.0</span>\n",
       "  <span style=\"font-weight: bold\">(</span><span style=\"color: #008080; text-decoration-color: #008080; font-weight: bold\">160666</span>, <span style=\"color: #008080; text-decoration-color: #008080; font-weight: bold\">44218</span><span style=\"font-weight: bold\">)</span>       <span style=\"color: #008080; text-decoration-color: #008080; font-weight: bold\">14.0</span>\n",
       "</pre>\n"
      ],
      "text/plain": [
       "  \u001b[1m(\u001b[0m\u001b[1;36m0\u001b[0m, \u001b[1;36m0\u001b[0m\u001b[1m)\u001b[0m        \u001b[1;36m10.4088\u001b[0m\n",
       "  \u001b[1m(\u001b[0m\u001b[1;36m0\u001b[0m, \u001b[1;36m2\u001b[0m\u001b[1m)\u001b[0m        \u001b[1;36m11.8958\u001b[0m\n",
       "  \u001b[1m(\u001b[0m\u001b[1;36m0\u001b[0m, \u001b[1;36m3\u001b[0m\u001b[1m)\u001b[0m        \u001b[1;36m34.2003\u001b[0m\n",
       "  \u001b[1m(\u001b[0m\u001b[1;36m0\u001b[0m, \u001b[1;36m26\u001b[0m\u001b[1m)\u001b[0m       \u001b[1;36m7.43484\u001b[0m\n",
       "  \u001b[1m(\u001b[0m\u001b[1;36m0\u001b[0m, \u001b[1;36m38\u001b[0m\u001b[1m)\u001b[0m       \u001b[1;36m92.1921\u001b[0m\n",
       "  \u001b[1m(\u001b[0m\u001b[1;36m0\u001b[0m, \u001b[1;36m39\u001b[0m\u001b[1m)\u001b[0m       \u001b[1;36m13.3827\u001b[0m\n",
       "  \u001b[1m(\u001b[0m\u001b[1;36m0\u001b[0m, \u001b[1;36m41\u001b[0m\u001b[1m)\u001b[0m       \u001b[1;36m5.94788\u001b[0m\n",
       "  \u001b[1m(\u001b[0m\u001b[1;36m0\u001b[0m, \u001b[1;36m42\u001b[0m\u001b[1m)\u001b[0m       \u001b[1;36m2.97394\u001b[0m\n",
       "  \u001b[1m(\u001b[0m\u001b[1;36m0\u001b[0m, \u001b[1;36m43\u001b[0m\u001b[1m)\u001b[0m       \u001b[1;36m5.94788\u001b[0m\n",
       "  \u001b[1m(\u001b[0m\u001b[1;36m0\u001b[0m, \u001b[1;36m44\u001b[0m\u001b[1m)\u001b[0m       \u001b[1;36m2.97394\u001b[0m\n",
       "  \u001b[1m(\u001b[0m\u001b[1;36m0\u001b[0m, \u001b[1;36m46\u001b[0m\u001b[1m)\u001b[0m       \u001b[1;36m72.8615\u001b[0m\n",
       "  \u001b[1m(\u001b[0m\u001b[1;36m0\u001b[0m, \u001b[1;36m48\u001b[0m\u001b[1m)\u001b[0m       \u001b[1;36m26.7654\u001b[0m\n",
       "  \u001b[1m(\u001b[0m\u001b[1;36m0\u001b[0m, \u001b[1;36m49\u001b[0m\u001b[1m)\u001b[0m       \u001b[1;36m5.94788\u001b[0m\n",
       "  \u001b[1m(\u001b[0m\u001b[1;36m0\u001b[0m, \u001b[1;36m51\u001b[0m\u001b[1m)\u001b[0m       \u001b[1;36m17.8436\u001b[0m\n",
       "  \u001b[1m(\u001b[0m\u001b[1;36m0\u001b[0m, \u001b[1;36m52\u001b[0m\u001b[1m)\u001b[0m       \u001b[1;36m52.0439\u001b[0m\n",
       "  \u001b[1m(\u001b[0m\u001b[1;36m0\u001b[0m, \u001b[1;36m54\u001b[0m\u001b[1m)\u001b[0m       \u001b[1;36m20.8176\u001b[0m\n",
       "  \u001b[1m(\u001b[0m\u001b[1;36m0\u001b[0m, \u001b[1;36m57\u001b[0m\u001b[1m)\u001b[0m       \u001b[1;36m132.34\u001b[0m\n",
       "  \u001b[1m(\u001b[0m\u001b[1;36m0\u001b[0m, \u001b[1;36m58\u001b[0m\u001b[1m)\u001b[0m       \u001b[1;36m8.92181\u001b[0m\n",
       "  \u001b[1m(\u001b[0m\u001b[1;36m0\u001b[0m, \u001b[1;36m59\u001b[0m\u001b[1m)\u001b[0m       \u001b[1;36m303.342\u001b[0m\n",
       "  \u001b[1m(\u001b[0m\u001b[1;36m0\u001b[0m, \u001b[1;36m63\u001b[0m\u001b[1m)\u001b[0m       \u001b[1;36m196.28\u001b[0m\n",
       "  \u001b[1m(\u001b[0m\u001b[1;36m0\u001b[0m, \u001b[1;36m64\u001b[0m\u001b[1m)\u001b[0m       \u001b[1;36m92.1921\u001b[0m\n",
       "  \u001b[1m(\u001b[0m\u001b[1;36m0\u001b[0m, \u001b[1;36m67\u001b[0m\u001b[1m)\u001b[0m       \u001b[1;36m89.2181\u001b[0m\n",
       "  \u001b[1m(\u001b[0m\u001b[1;36m0\u001b[0m, \u001b[1;36m72\u001b[0m\u001b[1m)\u001b[0m       \u001b[1;36m4.46091\u001b[0m\n",
       "  \u001b[1m(\u001b[0m\u001b[1;36m0\u001b[0m, \u001b[1;36m74\u001b[0m\u001b[1m)\u001b[0m       \u001b[1;36m72.8615\u001b[0m\n",
       "  \u001b[1m(\u001b[0m\u001b[1;36m0\u001b[0m, \u001b[1;36m76\u001b[0m\u001b[1m)\u001b[0m       \u001b[1;36m59.4788\u001b[0m\n",
       "  :     :\n",
       "  \u001b[1m(\u001b[0m\u001b[1;36m160666\u001b[0m, \u001b[1;36m44028\u001b[0m\u001b[1m)\u001b[0m       \u001b[1;36m29.0\u001b[0m\n",
       "  \u001b[1m(\u001b[0m\u001b[1;36m160666\u001b[0m, \u001b[1;36m44037\u001b[0m\u001b[1m)\u001b[0m       \u001b[1;36m15.0\u001b[0m\n",
       "  \u001b[1m(\u001b[0m\u001b[1;36m160666\u001b[0m, \u001b[1;36m44038\u001b[0m\u001b[1m)\u001b[0m       \u001b[1;36m696.0\u001b[0m\n",
       "  \u001b[1m(\u001b[0m\u001b[1;36m160666\u001b[0m, \u001b[1;36m44042\u001b[0m\u001b[1m)\u001b[0m       \u001b[1;36m115.0\u001b[0m\n",
       "  \u001b[1m(\u001b[0m\u001b[1;36m160666\u001b[0m, \u001b[1;36m44045\u001b[0m\u001b[1m)\u001b[0m       \u001b[1;36m23.0\u001b[0m\n",
       "  \u001b[1m(\u001b[0m\u001b[1;36m160666\u001b[0m, \u001b[1;36m44073\u001b[0m\u001b[1m)\u001b[0m       \u001b[1;36m44.0\u001b[0m\n",
       "  \u001b[1m(\u001b[0m\u001b[1;36m160666\u001b[0m, \u001b[1;36m44084\u001b[0m\u001b[1m)\u001b[0m       \u001b[1;36m1.0\u001b[0m\n",
       "  \u001b[1m(\u001b[0m\u001b[1;36m160666\u001b[0m, \u001b[1;36m44090\u001b[0m\u001b[1m)\u001b[0m       \u001b[1;36m1.0\u001b[0m\n",
       "  \u001b[1m(\u001b[0m\u001b[1;36m160666\u001b[0m, \u001b[1;36m44094\u001b[0m\u001b[1m)\u001b[0m       \u001b[1;36m45.0\u001b[0m\n",
       "  \u001b[1m(\u001b[0m\u001b[1;36m160666\u001b[0m, \u001b[1;36m44102\u001b[0m\u001b[1m)\u001b[0m       \u001b[1;36m3.0\u001b[0m\n",
       "  \u001b[1m(\u001b[0m\u001b[1;36m160666\u001b[0m, \u001b[1;36m44104\u001b[0m\u001b[1m)\u001b[0m       \u001b[1;36m2.0\u001b[0m\n",
       "  \u001b[1m(\u001b[0m\u001b[1;36m160666\u001b[0m, \u001b[1;36m44111\u001b[0m\u001b[1m)\u001b[0m       \u001b[1;36m35.0\u001b[0m\n",
       "  \u001b[1m(\u001b[0m\u001b[1;36m160666\u001b[0m, \u001b[1;36m44115\u001b[0m\u001b[1m)\u001b[0m       \u001b[1;36m26.0\u001b[0m\n",
       "  \u001b[1m(\u001b[0m\u001b[1;36m160666\u001b[0m, \u001b[1;36m44121\u001b[0m\u001b[1m)\u001b[0m       \u001b[1;36m1.0\u001b[0m\n",
       "  \u001b[1m(\u001b[0m\u001b[1;36m160666\u001b[0m, \u001b[1;36m44139\u001b[0m\u001b[1m)\u001b[0m       \u001b[1;36m1.0\u001b[0m\n",
       "  \u001b[1m(\u001b[0m\u001b[1;36m160666\u001b[0m, \u001b[1;36m44143\u001b[0m\u001b[1m)\u001b[0m       \u001b[1;36m67.0\u001b[0m\n",
       "  \u001b[1m(\u001b[0m\u001b[1;36m160666\u001b[0m, \u001b[1;36m44153\u001b[0m\u001b[1m)\u001b[0m       \u001b[1;36m1.0\u001b[0m\n",
       "  \u001b[1m(\u001b[0m\u001b[1;36m160666\u001b[0m, \u001b[1;36m44171\u001b[0m\u001b[1m)\u001b[0m       \u001b[1;36m5.0\u001b[0m\n",
       "  \u001b[1m(\u001b[0m\u001b[1;36m160666\u001b[0m, \u001b[1;36m44184\u001b[0m\u001b[1m)\u001b[0m       \u001b[1;36m2.0\u001b[0m\n",
       "  \u001b[1m(\u001b[0m\u001b[1;36m160666\u001b[0m, \u001b[1;36m44186\u001b[0m\u001b[1m)\u001b[0m       \u001b[1;36m9.0\u001b[0m\n",
       "  \u001b[1m(\u001b[0m\u001b[1;36m160666\u001b[0m, \u001b[1;36m44191\u001b[0m\u001b[1m)\u001b[0m       \u001b[1;36m1.0\u001b[0m\n",
       "  \u001b[1m(\u001b[0m\u001b[1;36m160666\u001b[0m, \u001b[1;36m44199\u001b[0m\u001b[1m)\u001b[0m       \u001b[1;36m1.0\u001b[0m\n",
       "  \u001b[1m(\u001b[0m\u001b[1;36m160666\u001b[0m, \u001b[1;36m44207\u001b[0m\u001b[1m)\u001b[0m       \u001b[1;36m23.0\u001b[0m\n",
       "  \u001b[1m(\u001b[0m\u001b[1;36m160666\u001b[0m, \u001b[1;36m44211\u001b[0m\u001b[1m)\u001b[0m       \u001b[1;36m85.0\u001b[0m\n",
       "  \u001b[1m(\u001b[0m\u001b[1;36m160666\u001b[0m, \u001b[1;36m44218\u001b[0m\u001b[1m)\u001b[0m       \u001b[1;36m14.0\u001b[0m\n"
      ]
     },
     "metadata": {},
     "output_type": "display_data"
    }
   ],
   "source": [
    "print(adata.X)"
   ]
  },
  {
   "cell_type": "code",
   "execution_count": 16,
   "id": "d565a92d-4309-4820-90e7-4281785b6162",
   "metadata": {},
   "outputs": [],
   "source": [
    "adata.layers[\"counts\"] = adata.X.copy()"
   ]
  },
  {
   "cell_type": "code",
   "execution_count": 17,
   "id": "063831be-52c5-40b7-be7d-f342629b6e57",
   "metadata": {},
   "outputs": [],
   "source": [
    "sc.settings.seed = 42\n",
    "sc.pp.normalize_total(adata, target_sum=1e4)\n",
    "sc.pp.log1p(adata)\n",
    "adata.layers[\"logcounts\"] = adata.X.copy()\n",
    "sc.pp.highly_variable_genes(adata, n_top_genes=2000, flavor=\"cell_ranger\", batch_key=\"orig.ident\")\n",
    "sc.tl.pca(adata, n_comps=30, use_highly_variable=True)"
   ]
  },
  {
   "cell_type": "code",
   "execution_count": 18,
   "id": "1500a436-13fb-45ae-b77f-837693c9a73c",
   "metadata": {},
   "outputs": [
    {
     "data": {
      "text/plain": [
       "AnnData object with n_obs × n_vars = 160667 × 44223\n",
       "    obs: 'orig.ident', 'nCount_RNA', 'nFeature_RNA', 'sample', 'stage', 'percent.mt', 'species', 'embryo', 'platform', 'anno', 'sub_anno', 'harmo.anno', 'doublet', 'doublet_score'\n",
       "    var: 'features', 'n_cells', 'highly_variable', 'means', 'dispersions', 'dispersions_norm', 'highly_variable_nbatches', 'highly_variable_intersection'\n",
       "    uns: 'log1p', 'hvg', 'pca'\n",
       "    obsm: 'X_pca'\n",
       "    varm: 'PCs'\n",
       "    layers: 'counts', 'logcounts'"
      ]
     },
     "execution_count": 18,
     "metadata": {},
     "output_type": "execute_result"
    }
   ],
   "source": [
    "adata"
   ]
  },
  {
   "cell_type": "code",
   "execution_count": 19,
   "id": "0adef804-bfcf-4599-8954-365f55c5ff36",
   "metadata": {},
   "outputs": [],
   "source": [
    "adata_hvg = adata[:, adata.var.highly_variable].copy()"
   ]
  },
  {
   "cell_type": "code",
   "execution_count": 20,
   "id": "d74da1b5-f68a-4835-b748-985a3804c6d6",
   "metadata": {},
   "outputs": [
    {
     "data": {
      "text/plain": [
       "AnnData object with n_obs × n_vars = 160667 × 2000\n",
       "    obs: 'orig.ident', 'nCount_RNA', 'nFeature_RNA', 'sample', 'stage', 'percent.mt', 'species', 'embryo', 'platform', 'anno', 'sub_anno', 'harmo.anno', 'doublet', 'doublet_score'\n",
       "    var: 'features', 'n_cells', 'highly_variable', 'means', 'dispersions', 'dispersions_norm', 'highly_variable_nbatches', 'highly_variable_intersection'\n",
       "    uns: 'log1p', 'hvg', 'pca'\n",
       "    obsm: 'X_pca'\n",
       "    varm: 'PCs'\n",
       "    layers: 'counts', 'logcounts'"
      ]
     },
     "execution_count": 20,
     "metadata": {},
     "output_type": "execute_result"
    }
   ],
   "source": [
    "adata_hvg"
   ]
  },
  {
   "cell_type": "code",
   "execution_count": null,
   "id": "7827600b-f0f9-462a-a831-2f261636132c",
   "metadata": {},
   "outputs": [],
   "source": [
    "####Unintegrated\n",
    "adata.obsm[\"Unintegrated\"] = adata_hvg.obsm[\"X_pca\"]\n",
    "adata_hvg.obsm[\"Unintegrated\"] = adata_hvg.obsm[\"X_pca\"]\n",
    "sc.pp.neighbors(adata, use_rep=\"Unintegrated\",random_state=42)\n",
    "sc.tl.leiden(adata, resolution=0.5,key_added=f\"Unintegrated_res_0.5\",random_state=42)\n",
    "sc.tl.umap(adata,random_state=42)\n",
    "adata.obsm['X_Unintegrated'] = adata.obsm['X_umap']\n",
    "sc.pl.umap(adata, color=['orig.ident'], save=\"Unintegrated_orig_ident.pdf\")\n",
    "sc.pl.umap(adata, color=['Unintegrated_res_0.5'], save=\"Unintegrated_res_0.5.pdf\")\n",
    "sc.pl.umap(adata, color=['stage'], save=\"Unintegrated_stage.pdf\")\n",
    "sc.pl.umap(adata, color=['harmo.anno'], save=\"Unintegrated_harmo.anno.pdf\")"
   ]
  },
  {
   "cell_type": "code",
   "execution_count": 22,
   "id": "7c399999-af7a-4f5f-bd29-f3d197badd8f",
   "metadata": {},
   "outputs": [
    {
     "data": {
      "text/plain": [
       "AnnData object with n_obs × n_vars = 160667 × 44223\n",
       "    obs: 'orig.ident', 'nCount_RNA', 'nFeature_RNA', 'sample', 'stage', 'percent.mt', 'species', 'embryo', 'platform', 'anno', 'sub_anno', 'harmo.anno', 'doublet', 'doublet_score', 'Unintegrated_res_0.5'\n",
       "    var: 'features', 'n_cells', 'highly_variable', 'means', 'dispersions', 'dispersions_norm', 'highly_variable_nbatches', 'highly_variable_intersection'\n",
       "    uns: 'log1p', 'hvg', 'pca', 'neighbors', 'leiden', 'umap', 'orig.ident_colors', 'Unintegrated_res_0.5_colors', 'stage_colors', 'harmo.anno_colors'\n",
       "    obsm: 'X_pca', 'Unintegrated', 'X_umap', 'X_Unintegrated'\n",
       "    varm: 'PCs'\n",
       "    layers: 'counts', 'logcounts'\n",
       "    obsp: 'distances', 'connectivities'"
      ]
     },
     "execution_count": 22,
     "metadata": {},
     "output_type": "execute_result"
    }
   ],
   "source": [
    "adata"
   ]
  },
  {
   "cell_type": "code",
   "execution_count": 23,
   "id": "006efd15-0d64-41aa-9713-2ebac56c74e3",
   "metadata": {},
   "outputs": [
    {
     "name": "stdout",
     "output_type": "stream",
     "text": [
      "Found 2000 genes among all datasets\n",
      "[[0.         0.00344116 0.         0.31833333 0.17467587 0.28212876\n",
      "  0.26494565]\n",
      " [0.         0.         0.62307692 0.02333333 0.06262904 0.01514109\n",
      "  0.00275292]\n",
      " [0.         0.         0.         0.41538462 0.17179487 0.\n",
      "  0.04871795]\n",
      " [0.         0.         0.         0.         0.47166667 0.155\n",
      "  0.39      ]\n",
      " [0.         0.         0.         0.         0.         0.16042056\n",
      "  0.0263587 ]\n",
      " [0.         0.         0.         0.         0.         0.\n",
      "  0.3076087 ]\n",
      " [0.         0.         0.         0.         0.         0.\n",
      "  0.        ]]\n",
      "Processing datasets (1, 2)\n",
      "Processing datasets (3, 4)\n",
      "Processing datasets (2, 3)\n",
      "Processing datasets (3, 6)\n",
      "Processing datasets (0, 3)\n",
      "Processing datasets (5, 6)\n",
      "Processing datasets (0, 5)\n",
      "Processing datasets (0, 6)\n",
      "Processing datasets (0, 4)\n",
      "Processing datasets (2, 4)\n",
      "Processing datasets (4, 5)\n",
      "Processing datasets (3, 5)\n"
     ]
    }
   ],
   "source": [
    "###Scanorama\n",
    "import scanorama\n",
    "batch_cats = adata_hvg.obs['orig.ident'].cat.categories\n",
    "adata_list = [adata_hvg[adata_hvg.obs['orig.ident'] == b].copy() for b in batch_cats]\n",
    "scanorama.integrate_scanpy(adata_list)\n",
    "\n",
    "adata.obsm[\"Scanorama\"] = np.zeros((adata_hvg.shape[0], adata_list[0].obsm[\"X_scanorama\"].shape[1]))\n",
    "for i, b in enumerate(batch_cats):\n",
    "    adata.obsm[\"Scanorama\"][adata_hvg.obs['orig.ident'] == b] = adata_list[i].obsm[\"X_scanorama\"]"
   ]
  },
  {
   "cell_type": "code",
   "execution_count": null,
   "id": "5a040411-520a-4d65-894f-5ee0681466e4",
   "metadata": {},
   "outputs": [],
   "source": [
    "adata_hvg.obsm[\"Scanorama\"] = adata.obsm[\"Scanorama\"]\n",
    "sc.pp.neighbors(adata, use_rep=\"Scanorama\",random_state=42)\n",
    "sc.tl.leiden(adata, resolution=0.5, key_added=f\"Scanorama_res_0.5\",random_state=42)\n",
    "sc.tl.umap(adata,random_state=42)\n",
    "adata.obsm['X_Scanorama'] = adata.obsm['X_umap']\n",
    "adata_hvg.obsm['X_Scanorama'] = adata.obsm['X_umap']\n",
    "sc.pl.umap(adata, color=['orig.ident'], save=\"Scanorama_orig_ident.pdf\")\n",
    "sc.pl.umap(adata, color=['Scanorama_res_0.5'], save=\"Scanorama_res_0.5.pdf\")\n",
    "sc.pl.umap(adata, color=['stage'], save=\"Scanorama_stage.pdf\")\n",
    "sc.pl.umap(adata, color=['harmo.anno'], save=\"Scanorama_harmo.anno.pdf\")"
   ]
  },
  {
   "cell_type": "code",
   "execution_count": 25,
   "id": "ef223c5f-89d4-40fa-acdd-f3be8c353a83",
   "metadata": {},
   "outputs": [
    {
     "name": "stderr",
     "output_type": "stream",
     "text": [
      "/home/lanxiang/miniconda3/envs/sc/lib/python3.8/site-packages/pyliger/preprocessing/_scale.py:88: RuntimeWarning: divide by zero encountered in divide\n",
      "100%|███████████████████████████████████████████████████████████████████████████████████████████████████████████████| 30/30 [23:45<00:00, 47.53s/it]\n"
     ]
    }
   ],
   "source": [
    "####Liger\n",
    "bdata = adata_hvg.copy()\n",
    "# Pyliger normalizes by library size with a size factor of 1\n",
    "# So here we give it the count data\n",
    "bdata.X = bdata.layers[\"counts\"]\n",
    "# List of adata per batch\n",
    "adata_list = [bdata[bdata.obs['orig.ident'] == b].copy() for b in batch_cats]\n",
    "for i, ad in enumerate(adata_list):\n",
    "    ad.uns[\"sample_name\"] = batch_cats[i]\n",
    "    # Hack to make sure each method uses the same genes\n",
    "    ad.uns[\"var_gene_idx\"] = np.arange(bdata.n_vars)\n",
    "\n",
    "liger_data = pyliger.create_liger(adata_list, remove_missing=False, make_sparse=False)\n",
    "# Hack to make sure each method uses the same genes\n",
    "liger_data.var_genes = bdata.var_names\n",
    "pyliger.normalize(liger_data)\n",
    "pyliger.scale_not_center(liger_data)\n",
    "pyliger.optimize_ALS(liger_data, k=30)\n",
    "pyliger.quantile_norm(liger_data)\n",
    "\n",
    "adata.obsm[\"LIGER\"] = np.zeros((adata_hvg.shape[0], liger_data.adata_list[0].obsm[\"H_norm\"].shape[1]))\n",
    "for i, b in enumerate(batch_cats):\n",
    "    adata.obsm[\"LIGER\"][adata_hvg.obs['orig.ident'] == b] = liger_data.adata_list[i].obsm[\"H_norm\"]"
   ]
  },
  {
   "cell_type": "code",
   "execution_count": null,
   "id": "4943bea0-4baf-471b-82c1-8fb03710a408",
   "metadata": {},
   "outputs": [],
   "source": [
    "adata_hvg.obsm[\"LIGER\"] = adata.obsm[\"LIGER\"]\n",
    "sc.pp.neighbors(adata, use_rep=\"LIGER\",random_state=42)\n",
    "sc.tl.leiden(adata, resolution=0.5, key_added=f\"LIGER_res_0.5\",random_state=42)\n",
    "sc.tl.umap(adata,random_state=42)\n",
    "adata.obsm['X_LIGER'] = adata.obsm['X_umap']\n",
    "adata_hvg.obsm['X_LIGER'] = adata.obsm['X_LIGER']\n",
    "sc.pl.umap(adata, color=['orig.ident'],save=\"Liger_orig.ident.pdf\")\n",
    "sc.pl.umap(adata, color=['LIGER_res_0.5'],save=\"Liger_res_0.5.pdf\")\n",
    "sc.pl.umap(adata, color=['stage'],save=\"Liger_stage.pdf\")\n",
    "sc.pl.umap(adata, color=['harmo.anno'],save=\"Liger_harmo.anno.pdf\")"
   ]
  },
  {
   "cell_type": "code",
   "execution_count": 27,
   "id": "37f40fcc-d59f-4f95-aadc-9df7ae2ce6d1",
   "metadata": {},
   "outputs": [
    {
     "name": "stdout",
     "output_type": "stream",
     "text": [
      "\tInitialization is completed.\n",
      "\tCompleted 1 / 10 iteration(s).\n",
      "\tCompleted 2 / 10 iteration(s).\n",
      "\tCompleted 3 / 10 iteration(s).\n",
      "Reach convergence after 3 iteration(s).\n"
     ]
    }
   ],
   "source": [
    "###harmony\n",
    "adata.obsm[\"Harmony\"] = harmonize(adata_hvg.obsm[\"X_pca\"], adata_hvg.obs, batch_key=\"orig.ident\")"
   ]
  },
  {
   "cell_type": "code",
   "execution_count": null,
   "id": "0fe9a9cf-2816-4ed7-8f14-9ff6692b0342",
   "metadata": {},
   "outputs": [],
   "source": [
    "adata_hvg.obsm[\"Harmony\"] = adata.obsm[\"Harmony\"]\n",
    "sc.pp.neighbors(adata, use_rep=\"Harmony\",random_state=42)\n",
    "sc.tl.leiden(adata, resolution=0.5, key_added=f\"Harmony_res_0.5\",random_state=42)\n",
    "sc.tl.umap(adata,random_state=42)\n",
    "adata.obsm['X_Harmony'] = adata.obsm['X_umap']\n",
    "adata_hvg.obsm['X_Harmony'] = adata.obsm['X_Harmony']\n",
    "sc.pl.umap(adata, color=['orig.ident'],save=\"Harmony_orig.ident.pdf\")\n",
    "sc.pl.umap(adata, color=['Harmony_res_0.5'],save=\"Harmony_res_0.5.pdf\")\n",
    "sc.pl.umap(adata, color=['stage'],save=\"Harmony_stage.pdf\")\n",
    "sc.pl.umap(adata, color=['harmo.anno'],save=\"Harmony_harmo.anno.pdf\")"
   ]
  },
  {
   "cell_type": "code",
   "execution_count": 29,
   "id": "569f7946-9119-4495-b58f-0c91e156da81",
   "metadata": {},
   "outputs": [
    {
     "data": {
      "text/html": [
       "<pre style=\"white-space:pre;overflow-x:auto;line-height:normal;font-family:Menlo,'DejaVu Sans Mono',consolas,'Courier New',monospace\">  <span style=\"font-weight: bold\">(</span><span style=\"color: #008080; text-decoration-color: #008080; font-weight: bold\">0</span>, <span style=\"color: #008080; text-decoration-color: #008080; font-weight: bold\">0</span><span style=\"font-weight: bold\">)</span>        <span style=\"color: #008080; text-decoration-color: #008080; font-weight: bold\">10.4088</span>\n",
       "  <span style=\"font-weight: bold\">(</span><span style=\"color: #008080; text-decoration-color: #008080; font-weight: bold\">0</span>, <span style=\"color: #008080; text-decoration-color: #008080; font-weight: bold\">2</span><span style=\"font-weight: bold\">)</span>        <span style=\"color: #008080; text-decoration-color: #008080; font-weight: bold\">11.8958</span>\n",
       "  <span style=\"font-weight: bold\">(</span><span style=\"color: #008080; text-decoration-color: #008080; font-weight: bold\">0</span>, <span style=\"color: #008080; text-decoration-color: #008080; font-weight: bold\">3</span><span style=\"font-weight: bold\">)</span>        <span style=\"color: #008080; text-decoration-color: #008080; font-weight: bold\">34.2003</span>\n",
       "  <span style=\"font-weight: bold\">(</span><span style=\"color: #008080; text-decoration-color: #008080; font-weight: bold\">0</span>, <span style=\"color: #008080; text-decoration-color: #008080; font-weight: bold\">26</span><span style=\"font-weight: bold\">)</span>       <span style=\"color: #008080; text-decoration-color: #008080; font-weight: bold\">7.43484</span>\n",
       "  <span style=\"font-weight: bold\">(</span><span style=\"color: #008080; text-decoration-color: #008080; font-weight: bold\">0</span>, <span style=\"color: #008080; text-decoration-color: #008080; font-weight: bold\">38</span><span style=\"font-weight: bold\">)</span>       <span style=\"color: #008080; text-decoration-color: #008080; font-weight: bold\">92.1921</span>\n",
       "  <span style=\"font-weight: bold\">(</span><span style=\"color: #008080; text-decoration-color: #008080; font-weight: bold\">0</span>, <span style=\"color: #008080; text-decoration-color: #008080; font-weight: bold\">39</span><span style=\"font-weight: bold\">)</span>       <span style=\"color: #008080; text-decoration-color: #008080; font-weight: bold\">13.3827</span>\n",
       "  <span style=\"font-weight: bold\">(</span><span style=\"color: #008080; text-decoration-color: #008080; font-weight: bold\">0</span>, <span style=\"color: #008080; text-decoration-color: #008080; font-weight: bold\">41</span><span style=\"font-weight: bold\">)</span>       <span style=\"color: #008080; text-decoration-color: #008080; font-weight: bold\">5.94788</span>\n",
       "  <span style=\"font-weight: bold\">(</span><span style=\"color: #008080; text-decoration-color: #008080; font-weight: bold\">0</span>, <span style=\"color: #008080; text-decoration-color: #008080; font-weight: bold\">42</span><span style=\"font-weight: bold\">)</span>       <span style=\"color: #008080; text-decoration-color: #008080; font-weight: bold\">2.97394</span>\n",
       "  <span style=\"font-weight: bold\">(</span><span style=\"color: #008080; text-decoration-color: #008080; font-weight: bold\">0</span>, <span style=\"color: #008080; text-decoration-color: #008080; font-weight: bold\">43</span><span style=\"font-weight: bold\">)</span>       <span style=\"color: #008080; text-decoration-color: #008080; font-weight: bold\">5.94788</span>\n",
       "  <span style=\"font-weight: bold\">(</span><span style=\"color: #008080; text-decoration-color: #008080; font-weight: bold\">0</span>, <span style=\"color: #008080; text-decoration-color: #008080; font-weight: bold\">44</span><span style=\"font-weight: bold\">)</span>       <span style=\"color: #008080; text-decoration-color: #008080; font-weight: bold\">2.97394</span>\n",
       "  <span style=\"font-weight: bold\">(</span><span style=\"color: #008080; text-decoration-color: #008080; font-weight: bold\">0</span>, <span style=\"color: #008080; text-decoration-color: #008080; font-weight: bold\">46</span><span style=\"font-weight: bold\">)</span>       <span style=\"color: #008080; text-decoration-color: #008080; font-weight: bold\">72.8615</span>\n",
       "  <span style=\"font-weight: bold\">(</span><span style=\"color: #008080; text-decoration-color: #008080; font-weight: bold\">0</span>, <span style=\"color: #008080; text-decoration-color: #008080; font-weight: bold\">48</span><span style=\"font-weight: bold\">)</span>       <span style=\"color: #008080; text-decoration-color: #008080; font-weight: bold\">26.7654</span>\n",
       "  <span style=\"font-weight: bold\">(</span><span style=\"color: #008080; text-decoration-color: #008080; font-weight: bold\">0</span>, <span style=\"color: #008080; text-decoration-color: #008080; font-weight: bold\">49</span><span style=\"font-weight: bold\">)</span>       <span style=\"color: #008080; text-decoration-color: #008080; font-weight: bold\">5.94788</span>\n",
       "  <span style=\"font-weight: bold\">(</span><span style=\"color: #008080; text-decoration-color: #008080; font-weight: bold\">0</span>, <span style=\"color: #008080; text-decoration-color: #008080; font-weight: bold\">51</span><span style=\"font-weight: bold\">)</span>       <span style=\"color: #008080; text-decoration-color: #008080; font-weight: bold\">17.8436</span>\n",
       "  <span style=\"font-weight: bold\">(</span><span style=\"color: #008080; text-decoration-color: #008080; font-weight: bold\">0</span>, <span style=\"color: #008080; text-decoration-color: #008080; font-weight: bold\">52</span><span style=\"font-weight: bold\">)</span>       <span style=\"color: #008080; text-decoration-color: #008080; font-weight: bold\">52.0439</span>\n",
       "  <span style=\"font-weight: bold\">(</span><span style=\"color: #008080; text-decoration-color: #008080; font-weight: bold\">0</span>, <span style=\"color: #008080; text-decoration-color: #008080; font-weight: bold\">54</span><span style=\"font-weight: bold\">)</span>       <span style=\"color: #008080; text-decoration-color: #008080; font-weight: bold\">20.8176</span>\n",
       "  <span style=\"font-weight: bold\">(</span><span style=\"color: #008080; text-decoration-color: #008080; font-weight: bold\">0</span>, <span style=\"color: #008080; text-decoration-color: #008080; font-weight: bold\">57</span><span style=\"font-weight: bold\">)</span>       <span style=\"color: #008080; text-decoration-color: #008080; font-weight: bold\">132.34</span>\n",
       "  <span style=\"font-weight: bold\">(</span><span style=\"color: #008080; text-decoration-color: #008080; font-weight: bold\">0</span>, <span style=\"color: #008080; text-decoration-color: #008080; font-weight: bold\">58</span><span style=\"font-weight: bold\">)</span>       <span style=\"color: #008080; text-decoration-color: #008080; font-weight: bold\">8.92181</span>\n",
       "  <span style=\"font-weight: bold\">(</span><span style=\"color: #008080; text-decoration-color: #008080; font-weight: bold\">0</span>, <span style=\"color: #008080; text-decoration-color: #008080; font-weight: bold\">59</span><span style=\"font-weight: bold\">)</span>       <span style=\"color: #008080; text-decoration-color: #008080; font-weight: bold\">303.342</span>\n",
       "  <span style=\"font-weight: bold\">(</span><span style=\"color: #008080; text-decoration-color: #008080; font-weight: bold\">0</span>, <span style=\"color: #008080; text-decoration-color: #008080; font-weight: bold\">63</span><span style=\"font-weight: bold\">)</span>       <span style=\"color: #008080; text-decoration-color: #008080; font-weight: bold\">196.28</span>\n",
       "  <span style=\"font-weight: bold\">(</span><span style=\"color: #008080; text-decoration-color: #008080; font-weight: bold\">0</span>, <span style=\"color: #008080; text-decoration-color: #008080; font-weight: bold\">64</span><span style=\"font-weight: bold\">)</span>       <span style=\"color: #008080; text-decoration-color: #008080; font-weight: bold\">92.1921</span>\n",
       "  <span style=\"font-weight: bold\">(</span><span style=\"color: #008080; text-decoration-color: #008080; font-weight: bold\">0</span>, <span style=\"color: #008080; text-decoration-color: #008080; font-weight: bold\">67</span><span style=\"font-weight: bold\">)</span>       <span style=\"color: #008080; text-decoration-color: #008080; font-weight: bold\">89.2181</span>\n",
       "  <span style=\"font-weight: bold\">(</span><span style=\"color: #008080; text-decoration-color: #008080; font-weight: bold\">0</span>, <span style=\"color: #008080; text-decoration-color: #008080; font-weight: bold\">72</span><span style=\"font-weight: bold\">)</span>       <span style=\"color: #008080; text-decoration-color: #008080; font-weight: bold\">4.46091</span>\n",
       "  <span style=\"font-weight: bold\">(</span><span style=\"color: #008080; text-decoration-color: #008080; font-weight: bold\">0</span>, <span style=\"color: #008080; text-decoration-color: #008080; font-weight: bold\">74</span><span style=\"font-weight: bold\">)</span>       <span style=\"color: #008080; text-decoration-color: #008080; font-weight: bold\">72.8615</span>\n",
       "  <span style=\"font-weight: bold\">(</span><span style=\"color: #008080; text-decoration-color: #008080; font-weight: bold\">0</span>, <span style=\"color: #008080; text-decoration-color: #008080; font-weight: bold\">76</span><span style=\"font-weight: bold\">)</span>       <span style=\"color: #008080; text-decoration-color: #008080; font-weight: bold\">59.4788</span>\n",
       "  :     :\n",
       "  <span style=\"font-weight: bold\">(</span><span style=\"color: #008080; text-decoration-color: #008080; font-weight: bold\">160666</span>, <span style=\"color: #008080; text-decoration-color: #008080; font-weight: bold\">44028</span><span style=\"font-weight: bold\">)</span>       <span style=\"color: #008080; text-decoration-color: #008080; font-weight: bold\">29.0</span>\n",
       "  <span style=\"font-weight: bold\">(</span><span style=\"color: #008080; text-decoration-color: #008080; font-weight: bold\">160666</span>, <span style=\"color: #008080; text-decoration-color: #008080; font-weight: bold\">44037</span><span style=\"font-weight: bold\">)</span>       <span style=\"color: #008080; text-decoration-color: #008080; font-weight: bold\">15.0</span>\n",
       "  <span style=\"font-weight: bold\">(</span><span style=\"color: #008080; text-decoration-color: #008080; font-weight: bold\">160666</span>, <span style=\"color: #008080; text-decoration-color: #008080; font-weight: bold\">44038</span><span style=\"font-weight: bold\">)</span>       <span style=\"color: #008080; text-decoration-color: #008080; font-weight: bold\">696.0</span>\n",
       "  <span style=\"font-weight: bold\">(</span><span style=\"color: #008080; text-decoration-color: #008080; font-weight: bold\">160666</span>, <span style=\"color: #008080; text-decoration-color: #008080; font-weight: bold\">44042</span><span style=\"font-weight: bold\">)</span>       <span style=\"color: #008080; text-decoration-color: #008080; font-weight: bold\">115.0</span>\n",
       "  <span style=\"font-weight: bold\">(</span><span style=\"color: #008080; text-decoration-color: #008080; font-weight: bold\">160666</span>, <span style=\"color: #008080; text-decoration-color: #008080; font-weight: bold\">44045</span><span style=\"font-weight: bold\">)</span>       <span style=\"color: #008080; text-decoration-color: #008080; font-weight: bold\">23.0</span>\n",
       "  <span style=\"font-weight: bold\">(</span><span style=\"color: #008080; text-decoration-color: #008080; font-weight: bold\">160666</span>, <span style=\"color: #008080; text-decoration-color: #008080; font-weight: bold\">44073</span><span style=\"font-weight: bold\">)</span>       <span style=\"color: #008080; text-decoration-color: #008080; font-weight: bold\">44.0</span>\n",
       "  <span style=\"font-weight: bold\">(</span><span style=\"color: #008080; text-decoration-color: #008080; font-weight: bold\">160666</span>, <span style=\"color: #008080; text-decoration-color: #008080; font-weight: bold\">44084</span><span style=\"font-weight: bold\">)</span>       <span style=\"color: #008080; text-decoration-color: #008080; font-weight: bold\">1.0</span>\n",
       "  <span style=\"font-weight: bold\">(</span><span style=\"color: #008080; text-decoration-color: #008080; font-weight: bold\">160666</span>, <span style=\"color: #008080; text-decoration-color: #008080; font-weight: bold\">44090</span><span style=\"font-weight: bold\">)</span>       <span style=\"color: #008080; text-decoration-color: #008080; font-weight: bold\">1.0</span>\n",
       "  <span style=\"font-weight: bold\">(</span><span style=\"color: #008080; text-decoration-color: #008080; font-weight: bold\">160666</span>, <span style=\"color: #008080; text-decoration-color: #008080; font-weight: bold\">44094</span><span style=\"font-weight: bold\">)</span>       <span style=\"color: #008080; text-decoration-color: #008080; font-weight: bold\">45.0</span>\n",
       "  <span style=\"font-weight: bold\">(</span><span style=\"color: #008080; text-decoration-color: #008080; font-weight: bold\">160666</span>, <span style=\"color: #008080; text-decoration-color: #008080; font-weight: bold\">44102</span><span style=\"font-weight: bold\">)</span>       <span style=\"color: #008080; text-decoration-color: #008080; font-weight: bold\">3.0</span>\n",
       "  <span style=\"font-weight: bold\">(</span><span style=\"color: #008080; text-decoration-color: #008080; font-weight: bold\">160666</span>, <span style=\"color: #008080; text-decoration-color: #008080; font-weight: bold\">44104</span><span style=\"font-weight: bold\">)</span>       <span style=\"color: #008080; text-decoration-color: #008080; font-weight: bold\">2.0</span>\n",
       "  <span style=\"font-weight: bold\">(</span><span style=\"color: #008080; text-decoration-color: #008080; font-weight: bold\">160666</span>, <span style=\"color: #008080; text-decoration-color: #008080; font-weight: bold\">44111</span><span style=\"font-weight: bold\">)</span>       <span style=\"color: #008080; text-decoration-color: #008080; font-weight: bold\">35.0</span>\n",
       "  <span style=\"font-weight: bold\">(</span><span style=\"color: #008080; text-decoration-color: #008080; font-weight: bold\">160666</span>, <span style=\"color: #008080; text-decoration-color: #008080; font-weight: bold\">44115</span><span style=\"font-weight: bold\">)</span>       <span style=\"color: #008080; text-decoration-color: #008080; font-weight: bold\">26.0</span>\n",
       "  <span style=\"font-weight: bold\">(</span><span style=\"color: #008080; text-decoration-color: #008080; font-weight: bold\">160666</span>, <span style=\"color: #008080; text-decoration-color: #008080; font-weight: bold\">44121</span><span style=\"font-weight: bold\">)</span>       <span style=\"color: #008080; text-decoration-color: #008080; font-weight: bold\">1.0</span>\n",
       "  <span style=\"font-weight: bold\">(</span><span style=\"color: #008080; text-decoration-color: #008080; font-weight: bold\">160666</span>, <span style=\"color: #008080; text-decoration-color: #008080; font-weight: bold\">44139</span><span style=\"font-weight: bold\">)</span>       <span style=\"color: #008080; text-decoration-color: #008080; font-weight: bold\">1.0</span>\n",
       "  <span style=\"font-weight: bold\">(</span><span style=\"color: #008080; text-decoration-color: #008080; font-weight: bold\">160666</span>, <span style=\"color: #008080; text-decoration-color: #008080; font-weight: bold\">44143</span><span style=\"font-weight: bold\">)</span>       <span style=\"color: #008080; text-decoration-color: #008080; font-weight: bold\">67.0</span>\n",
       "  <span style=\"font-weight: bold\">(</span><span style=\"color: #008080; text-decoration-color: #008080; font-weight: bold\">160666</span>, <span style=\"color: #008080; text-decoration-color: #008080; font-weight: bold\">44153</span><span style=\"font-weight: bold\">)</span>       <span style=\"color: #008080; text-decoration-color: #008080; font-weight: bold\">1.0</span>\n",
       "  <span style=\"font-weight: bold\">(</span><span style=\"color: #008080; text-decoration-color: #008080; font-weight: bold\">160666</span>, <span style=\"color: #008080; text-decoration-color: #008080; font-weight: bold\">44171</span><span style=\"font-weight: bold\">)</span>       <span style=\"color: #008080; text-decoration-color: #008080; font-weight: bold\">5.0</span>\n",
       "  <span style=\"font-weight: bold\">(</span><span style=\"color: #008080; text-decoration-color: #008080; font-weight: bold\">160666</span>, <span style=\"color: #008080; text-decoration-color: #008080; font-weight: bold\">44184</span><span style=\"font-weight: bold\">)</span>       <span style=\"color: #008080; text-decoration-color: #008080; font-weight: bold\">2.0</span>\n",
       "  <span style=\"font-weight: bold\">(</span><span style=\"color: #008080; text-decoration-color: #008080; font-weight: bold\">160666</span>, <span style=\"color: #008080; text-decoration-color: #008080; font-weight: bold\">44186</span><span style=\"font-weight: bold\">)</span>       <span style=\"color: #008080; text-decoration-color: #008080; font-weight: bold\">9.0</span>\n",
       "  <span style=\"font-weight: bold\">(</span><span style=\"color: #008080; text-decoration-color: #008080; font-weight: bold\">160666</span>, <span style=\"color: #008080; text-decoration-color: #008080; font-weight: bold\">44191</span><span style=\"font-weight: bold\">)</span>       <span style=\"color: #008080; text-decoration-color: #008080; font-weight: bold\">1.0</span>\n",
       "  <span style=\"font-weight: bold\">(</span><span style=\"color: #008080; text-decoration-color: #008080; font-weight: bold\">160666</span>, <span style=\"color: #008080; text-decoration-color: #008080; font-weight: bold\">44199</span><span style=\"font-weight: bold\">)</span>       <span style=\"color: #008080; text-decoration-color: #008080; font-weight: bold\">1.0</span>\n",
       "  <span style=\"font-weight: bold\">(</span><span style=\"color: #008080; text-decoration-color: #008080; font-weight: bold\">160666</span>, <span style=\"color: #008080; text-decoration-color: #008080; font-weight: bold\">44207</span><span style=\"font-weight: bold\">)</span>       <span style=\"color: #008080; text-decoration-color: #008080; font-weight: bold\">23.0</span>\n",
       "  <span style=\"font-weight: bold\">(</span><span style=\"color: #008080; text-decoration-color: #008080; font-weight: bold\">160666</span>, <span style=\"color: #008080; text-decoration-color: #008080; font-weight: bold\">44211</span><span style=\"font-weight: bold\">)</span>       <span style=\"color: #008080; text-decoration-color: #008080; font-weight: bold\">85.0</span>\n",
       "  <span style=\"font-weight: bold\">(</span><span style=\"color: #008080; text-decoration-color: #008080; font-weight: bold\">160666</span>, <span style=\"color: #008080; text-decoration-color: #008080; font-weight: bold\">44218</span><span style=\"font-weight: bold\">)</span>       <span style=\"color: #008080; text-decoration-color: #008080; font-weight: bold\">14.0</span>\n",
       "</pre>\n"
      ],
      "text/plain": [
       "  \u001b[1m(\u001b[0m\u001b[1;36m0\u001b[0m, \u001b[1;36m0\u001b[0m\u001b[1m)\u001b[0m        \u001b[1;36m10.4088\u001b[0m\n",
       "  \u001b[1m(\u001b[0m\u001b[1;36m0\u001b[0m, \u001b[1;36m2\u001b[0m\u001b[1m)\u001b[0m        \u001b[1;36m11.8958\u001b[0m\n",
       "  \u001b[1m(\u001b[0m\u001b[1;36m0\u001b[0m, \u001b[1;36m3\u001b[0m\u001b[1m)\u001b[0m        \u001b[1;36m34.2003\u001b[0m\n",
       "  \u001b[1m(\u001b[0m\u001b[1;36m0\u001b[0m, \u001b[1;36m26\u001b[0m\u001b[1m)\u001b[0m       \u001b[1;36m7.43484\u001b[0m\n",
       "  \u001b[1m(\u001b[0m\u001b[1;36m0\u001b[0m, \u001b[1;36m38\u001b[0m\u001b[1m)\u001b[0m       \u001b[1;36m92.1921\u001b[0m\n",
       "  \u001b[1m(\u001b[0m\u001b[1;36m0\u001b[0m, \u001b[1;36m39\u001b[0m\u001b[1m)\u001b[0m       \u001b[1;36m13.3827\u001b[0m\n",
       "  \u001b[1m(\u001b[0m\u001b[1;36m0\u001b[0m, \u001b[1;36m41\u001b[0m\u001b[1m)\u001b[0m       \u001b[1;36m5.94788\u001b[0m\n",
       "  \u001b[1m(\u001b[0m\u001b[1;36m0\u001b[0m, \u001b[1;36m42\u001b[0m\u001b[1m)\u001b[0m       \u001b[1;36m2.97394\u001b[0m\n",
       "  \u001b[1m(\u001b[0m\u001b[1;36m0\u001b[0m, \u001b[1;36m43\u001b[0m\u001b[1m)\u001b[0m       \u001b[1;36m5.94788\u001b[0m\n",
       "  \u001b[1m(\u001b[0m\u001b[1;36m0\u001b[0m, \u001b[1;36m44\u001b[0m\u001b[1m)\u001b[0m       \u001b[1;36m2.97394\u001b[0m\n",
       "  \u001b[1m(\u001b[0m\u001b[1;36m0\u001b[0m, \u001b[1;36m46\u001b[0m\u001b[1m)\u001b[0m       \u001b[1;36m72.8615\u001b[0m\n",
       "  \u001b[1m(\u001b[0m\u001b[1;36m0\u001b[0m, \u001b[1;36m48\u001b[0m\u001b[1m)\u001b[0m       \u001b[1;36m26.7654\u001b[0m\n",
       "  \u001b[1m(\u001b[0m\u001b[1;36m0\u001b[0m, \u001b[1;36m49\u001b[0m\u001b[1m)\u001b[0m       \u001b[1;36m5.94788\u001b[0m\n",
       "  \u001b[1m(\u001b[0m\u001b[1;36m0\u001b[0m, \u001b[1;36m51\u001b[0m\u001b[1m)\u001b[0m       \u001b[1;36m17.8436\u001b[0m\n",
       "  \u001b[1m(\u001b[0m\u001b[1;36m0\u001b[0m, \u001b[1;36m52\u001b[0m\u001b[1m)\u001b[0m       \u001b[1;36m52.0439\u001b[0m\n",
       "  \u001b[1m(\u001b[0m\u001b[1;36m0\u001b[0m, \u001b[1;36m54\u001b[0m\u001b[1m)\u001b[0m       \u001b[1;36m20.8176\u001b[0m\n",
       "  \u001b[1m(\u001b[0m\u001b[1;36m0\u001b[0m, \u001b[1;36m57\u001b[0m\u001b[1m)\u001b[0m       \u001b[1;36m132.34\u001b[0m\n",
       "  \u001b[1m(\u001b[0m\u001b[1;36m0\u001b[0m, \u001b[1;36m58\u001b[0m\u001b[1m)\u001b[0m       \u001b[1;36m8.92181\u001b[0m\n",
       "  \u001b[1m(\u001b[0m\u001b[1;36m0\u001b[0m, \u001b[1;36m59\u001b[0m\u001b[1m)\u001b[0m       \u001b[1;36m303.342\u001b[0m\n",
       "  \u001b[1m(\u001b[0m\u001b[1;36m0\u001b[0m, \u001b[1;36m63\u001b[0m\u001b[1m)\u001b[0m       \u001b[1;36m196.28\u001b[0m\n",
       "  \u001b[1m(\u001b[0m\u001b[1;36m0\u001b[0m, \u001b[1;36m64\u001b[0m\u001b[1m)\u001b[0m       \u001b[1;36m92.1921\u001b[0m\n",
       "  \u001b[1m(\u001b[0m\u001b[1;36m0\u001b[0m, \u001b[1;36m67\u001b[0m\u001b[1m)\u001b[0m       \u001b[1;36m89.2181\u001b[0m\n",
       "  \u001b[1m(\u001b[0m\u001b[1;36m0\u001b[0m, \u001b[1;36m72\u001b[0m\u001b[1m)\u001b[0m       \u001b[1;36m4.46091\u001b[0m\n",
       "  \u001b[1m(\u001b[0m\u001b[1;36m0\u001b[0m, \u001b[1;36m74\u001b[0m\u001b[1m)\u001b[0m       \u001b[1;36m72.8615\u001b[0m\n",
       "  \u001b[1m(\u001b[0m\u001b[1;36m0\u001b[0m, \u001b[1;36m76\u001b[0m\u001b[1m)\u001b[0m       \u001b[1;36m59.4788\u001b[0m\n",
       "  :     :\n",
       "  \u001b[1m(\u001b[0m\u001b[1;36m160666\u001b[0m, \u001b[1;36m44028\u001b[0m\u001b[1m)\u001b[0m       \u001b[1;36m29.0\u001b[0m\n",
       "  \u001b[1m(\u001b[0m\u001b[1;36m160666\u001b[0m, \u001b[1;36m44037\u001b[0m\u001b[1m)\u001b[0m       \u001b[1;36m15.0\u001b[0m\n",
       "  \u001b[1m(\u001b[0m\u001b[1;36m160666\u001b[0m, \u001b[1;36m44038\u001b[0m\u001b[1m)\u001b[0m       \u001b[1;36m696.0\u001b[0m\n",
       "  \u001b[1m(\u001b[0m\u001b[1;36m160666\u001b[0m, \u001b[1;36m44042\u001b[0m\u001b[1m)\u001b[0m       \u001b[1;36m115.0\u001b[0m\n",
       "  \u001b[1m(\u001b[0m\u001b[1;36m160666\u001b[0m, \u001b[1;36m44045\u001b[0m\u001b[1m)\u001b[0m       \u001b[1;36m23.0\u001b[0m\n",
       "  \u001b[1m(\u001b[0m\u001b[1;36m160666\u001b[0m, \u001b[1;36m44073\u001b[0m\u001b[1m)\u001b[0m       \u001b[1;36m44.0\u001b[0m\n",
       "  \u001b[1m(\u001b[0m\u001b[1;36m160666\u001b[0m, \u001b[1;36m44084\u001b[0m\u001b[1m)\u001b[0m       \u001b[1;36m1.0\u001b[0m\n",
       "  \u001b[1m(\u001b[0m\u001b[1;36m160666\u001b[0m, \u001b[1;36m44090\u001b[0m\u001b[1m)\u001b[0m       \u001b[1;36m1.0\u001b[0m\n",
       "  \u001b[1m(\u001b[0m\u001b[1;36m160666\u001b[0m, \u001b[1;36m44094\u001b[0m\u001b[1m)\u001b[0m       \u001b[1;36m45.0\u001b[0m\n",
       "  \u001b[1m(\u001b[0m\u001b[1;36m160666\u001b[0m, \u001b[1;36m44102\u001b[0m\u001b[1m)\u001b[0m       \u001b[1;36m3.0\u001b[0m\n",
       "  \u001b[1m(\u001b[0m\u001b[1;36m160666\u001b[0m, \u001b[1;36m44104\u001b[0m\u001b[1m)\u001b[0m       \u001b[1;36m2.0\u001b[0m\n",
       "  \u001b[1m(\u001b[0m\u001b[1;36m160666\u001b[0m, \u001b[1;36m44111\u001b[0m\u001b[1m)\u001b[0m       \u001b[1;36m35.0\u001b[0m\n",
       "  \u001b[1m(\u001b[0m\u001b[1;36m160666\u001b[0m, \u001b[1;36m44115\u001b[0m\u001b[1m)\u001b[0m       \u001b[1;36m26.0\u001b[0m\n",
       "  \u001b[1m(\u001b[0m\u001b[1;36m160666\u001b[0m, \u001b[1;36m44121\u001b[0m\u001b[1m)\u001b[0m       \u001b[1;36m1.0\u001b[0m\n",
       "  \u001b[1m(\u001b[0m\u001b[1;36m160666\u001b[0m, \u001b[1;36m44139\u001b[0m\u001b[1m)\u001b[0m       \u001b[1;36m1.0\u001b[0m\n",
       "  \u001b[1m(\u001b[0m\u001b[1;36m160666\u001b[0m, \u001b[1;36m44143\u001b[0m\u001b[1m)\u001b[0m       \u001b[1;36m67.0\u001b[0m\n",
       "  \u001b[1m(\u001b[0m\u001b[1;36m160666\u001b[0m, \u001b[1;36m44153\u001b[0m\u001b[1m)\u001b[0m       \u001b[1;36m1.0\u001b[0m\n",
       "  \u001b[1m(\u001b[0m\u001b[1;36m160666\u001b[0m, \u001b[1;36m44171\u001b[0m\u001b[1m)\u001b[0m       \u001b[1;36m5.0\u001b[0m\n",
       "  \u001b[1m(\u001b[0m\u001b[1;36m160666\u001b[0m, \u001b[1;36m44184\u001b[0m\u001b[1m)\u001b[0m       \u001b[1;36m2.0\u001b[0m\n",
       "  \u001b[1m(\u001b[0m\u001b[1;36m160666\u001b[0m, \u001b[1;36m44186\u001b[0m\u001b[1m)\u001b[0m       \u001b[1;36m9.0\u001b[0m\n",
       "  \u001b[1m(\u001b[0m\u001b[1;36m160666\u001b[0m, \u001b[1;36m44191\u001b[0m\u001b[1m)\u001b[0m       \u001b[1;36m1.0\u001b[0m\n",
       "  \u001b[1m(\u001b[0m\u001b[1;36m160666\u001b[0m, \u001b[1;36m44199\u001b[0m\u001b[1m)\u001b[0m       \u001b[1;36m1.0\u001b[0m\n",
       "  \u001b[1m(\u001b[0m\u001b[1;36m160666\u001b[0m, \u001b[1;36m44207\u001b[0m\u001b[1m)\u001b[0m       \u001b[1;36m23.0\u001b[0m\n",
       "  \u001b[1m(\u001b[0m\u001b[1;36m160666\u001b[0m, \u001b[1;36m44211\u001b[0m\u001b[1m)\u001b[0m       \u001b[1;36m85.0\u001b[0m\n",
       "  \u001b[1m(\u001b[0m\u001b[1;36m160666\u001b[0m, \u001b[1;36m44218\u001b[0m\u001b[1m)\u001b[0m       \u001b[1;36m14.0\u001b[0m\n"
      ]
     },
     "metadata": {},
     "output_type": "display_data"
    }
   ],
   "source": [
    "print(adata.layers[\"counts\"])"
   ]
  },
  {
   "cell_type": "code",
   "execution_count": 30,
   "id": "e48ce92f-227d-448d-bcfd-21dac8ff6265",
   "metadata": {},
   "outputs": [
    {
     "name": "stderr",
     "output_type": "stream",
     "text": [
      "No GPU/TPU found, falling back to CPU. (Set TF_CPP_MIN_LOG_LEVEL=0 and rerun for more info.)\n",
      "GPU available: False, used: False\n",
      "TPU available: False, using: 0 TPU cores\n",
      "IPU available: False, using: 0 IPUs\n",
      "HPU available: False, using: 0 HPUs\n"
     ]
    },
    {
     "name": "stdout",
     "output_type": "stream",
     "text": [
      "Epoch 50/50: 100%|██████████████████████████████████████████████████████████████████████████| 50/50 [12:39<00:00, 14.08s/it, loss=1.56e+03, v_num=1]"
     ]
    },
    {
     "name": "stderr",
     "output_type": "stream",
     "text": [
      "`Trainer.fit` stopped: `max_epochs=50` reached.\n"
     ]
    },
    {
     "name": "stdout",
     "output_type": "stream",
     "text": [
      "Epoch 50/50: 100%|██████████████████████████████████████████████████████████████████████████| 50/50 [12:39<00:00, 15.20s/it, loss=1.56e+03, v_num=1]\n"
     ]
    }
   ],
   "source": [
    "###scVI\n",
    "scvi.model.SCVI.setup_anndata(adata_hvg, layer=\"counts\", batch_key=\"orig.ident\")\n",
    "vae = scvi.model.SCVI(adata_hvg, gene_likelihood=\"nb\", n_layers=2, n_latent=30)\n",
    "vae.train()\n",
    "adata.obsm[\"scVI\"] = vae.get_latent_representation()"
   ]
  },
  {
   "cell_type": "code",
   "execution_count": null,
   "id": "d7f180e9-56a4-43bb-a846-a3bc9be0bc02",
   "metadata": {},
   "outputs": [],
   "source": [
    "adata_hvg.obsm[\"scVI\"] = adata.obsm[\"scVI\"]\n",
    "sc.pp.neighbors(adata, use_rep=\"scVI\",random_state=42)\n",
    "sc.tl.leiden(adata, resolution=0.5,key_added=f\"scVI_res_0.5\",random_state=42)\n",
    "sc.tl.umap(adata,random_state=42)\n",
    "adata.obsm['X_scVI'] = adata.obsm['X_umap']\n",
    "adata_hvg.obsm['X_scVI'] = adata.obsm['X_scVI']\n",
    "sc.pl.umap(adata, color=['orig.ident'],save=\"scVI_orig.ident.pdf\")\n",
    "sc.pl.umap(adata, color=['scVI_res_0.5'],save=\"scVI_res_0.5.pdf\")\n",
    "sc.pl.umap(adata, color=['stage'],save=\"scVI_stage.pdf\")\n",
    "sc.pl.umap(adata, color=['harmo.anno'],save=\"scVI_harmo.anno.pdf\")"
   ]
  },
  {
   "cell_type": "code",
   "execution_count": 32,
   "id": "c83750bd-2359-4672-affb-4251b81c6a65",
   "metadata": {},
   "outputs": [
    {
     "name": "stdout",
     "output_type": "stream",
     "text": [
      "\u001b[34mINFO    \u001b[0m Training for \u001b[1;36m20\u001b[0m epochs.                                                                                   \n"
     ]
    },
    {
     "name": "stderr",
     "output_type": "stream",
     "text": [
      "GPU available: False, used: False\n",
      "TPU available: False, using: 0 TPU cores\n",
      "IPU available: False, using: 0 IPUs\n",
      "HPU available: False, using: 0 HPUs\n"
     ]
    },
    {
     "name": "stdout",
     "output_type": "stream",
     "text": [
      "Epoch 20/20: 100%|██████████████████████████████████████████████████████████████████████████| 20/20 [11:02<00:00, 33.46s/it, loss=1.64e+03, v_num=1]"
     ]
    },
    {
     "name": "stderr",
     "output_type": "stream",
     "text": [
      "`Trainer.fit` stopped: `max_epochs=20` reached.\n"
     ]
    },
    {
     "name": "stdout",
     "output_type": "stream",
     "text": [
      "Epoch 20/20: 100%|██████████████████████████████████████████████████████████████████████████| 20/20 [11:02<00:00, 33.12s/it, loss=1.64e+03, v_num=1]\n"
     ]
    }
   ],
   "source": [
    "###scANVI\n",
    "lvae = scvi.model.SCANVI.from_scvi_model(\n",
    "    vae,\n",
    "    adata=adata_hvg,\n",
    "    labels_key=\"harmo.anno\",\n",
    "    unlabeled_category=\"Unknown\",\n",
    ")\n",
    "lvae.train(max_epochs=20, n_samples_per_label=100)\n",
    "adata.obsm[\"scANVI\"] = lvae.get_latent_representation()"
   ]
  },
  {
   "cell_type": "code",
   "execution_count": null,
   "id": "6a72f345-0ec6-4bbe-aa5c-4dbe5d64c7b8",
   "metadata": {},
   "outputs": [],
   "source": [
    "adata_hvg.obsm[\"scANVI\"] = adata.obsm[\"scANVI\"]\n",
    "sc.pp.neighbors(adata, use_rep=\"scANVI\",random_state=42)\n",
    "sc.tl.leiden(adata, resolution=0.5,key_added=f\"scANVI_res_0.5\",random_state=42)\n",
    "sc.tl.umap(adata,random_state=42)\n",
    "adata.obsm['X_scANVI'] = adata.obsm['X_umap']\n",
    "adata_hvg.obsm['X_scANVI'] = adata.obsm['X_scANVI']\n",
    "sc.pl.umap(adata, color=['orig.ident'],save=\"scANVI_orig.ident.pdf\")\n",
    "sc.pl.umap(adata, color=['scANVI_res_0.5'],save=\"scANVI_res_0.5.pdf\")\n",
    "sc.pl.umap(adata, color=['stage'],save=\"scANVI_stage.pdf\")\n",
    "sc.pl.umap(adata, color=['harmo.anno'],save=\"scANVI_harmo.anno.pdf\")"
   ]
  },
  {
   "cell_type": "code",
   "execution_count": 34,
   "id": "49a18f4b-d2dd-48e7-b226-cfe5a438b0d8",
   "metadata": {},
   "outputs": [
    {
     "data": {
      "text/plain": [
       "AnnData object with n_obs × n_vars = 160667 × 2000\n",
       "    obs: 'orig.ident', 'nCount_RNA', 'nFeature_RNA', 'sample', 'stage', 'percent.mt', 'species', 'embryo', 'platform', 'anno', 'sub_anno', 'harmo.anno', 'doublet', 'doublet_score', '_scvi_batch', '_scvi_labels'\n",
       "    var: 'features', 'n_cells', 'highly_variable', 'means', 'dispersions', 'dispersions_norm', 'highly_variable_nbatches', 'highly_variable_intersection'\n",
       "    obsm: 'X_pca', 'Unintegrated', 'Scanorama', 'X_Scanorama', 'LIGER', 'X_LIGER', 'Harmony', 'X_Harmony', 'scVI', 'X_scVI', 'scANVI', 'X_scANVI'\n",
       "    varm: 'PCs'\n",
       "    layers: 'counts', 'logcounts'"
      ]
     },
     "execution_count": 34,
     "metadata": {},
     "output_type": "execute_result"
    }
   ],
   "source": [
    "####CCA\n",
    "adata_seurat = adata_hvg.copy()\n",
    "\n",
    "adata_seurat.obs[\"orig.ident\"] = adata_seurat.obs[\"orig.ident\"].astype(str)\n",
    "adata_seurat.obs[\"harmo.anno\"] = adata_seurat.obs[\"harmo.anno\"].astype(str)\n",
    "\n",
    "del adata_seurat.uns\n",
    "adata_seurat"
   ]
  },
  {
   "cell_type": "code",
   "execution_count": 35,
   "id": "ae805304-ac70-4c32-91be-2c4e6a8eb65b",
   "metadata": {},
   "outputs": [
    {
     "data": {
      "text/plain": [
       "In addition: Warning messages:\n",
       "1: In (function (package, help, pos = 2, lib.loc = NULL, character.only = FALSE,  :\n",
       "  library ‘/usr/lib/R/site-library’ contains no packages\n",
       "2: In (function (package, help, pos = 2, lib.loc = NULL, character.only = FALSE,  :\n",
       "  library ‘/usr/lib/R/site-library’ contains no packages\n",
       "3: In (function (package, help, pos = 2, lib.loc = NULL, character.only = FALSE,  :\n",
       "  library ‘/usr/lib/R/site-library’ contains no packages\n",
       "4: In (function (package, help, pos = 2, lib.loc = NULL, character.only = FALSE,  :\n",
       "  library ‘/usr/lib/R/site-library’ contains no packages\n"
      ]
     },
     "metadata": {},
     "output_type": "display_data"
    },
    {
     "data": {
      "text/plain": [
       "AnnData object with n_obs × n_vars = 160667 × 2000\n",
       "    obs: 'orig.ident', 'nCount_RNA', 'nFeature_RNA', 'sample', 'stage', 'percent.mt', 'species', 'embryo', 'platform', 'anno', 'sub_anno', 'harmo.anno', 'doublet', 'doublet_score', '_scvi_batch', '_scvi_labels'\n",
       "    var: 'features', 'n_cells', 'highly_variable', 'means', 'dispersions', 'dispersions_norm', 'highly_variable_nbatches', 'highly_variable_intersection'\n",
       "    obsm: 'X_pca', 'Unintegrated', 'Scanorama', 'X_Scanorama', 'LIGER', 'X_LIGER', 'Harmony', 'X_Harmony', 'scVI', 'X_scVI', 'scANVI', 'X_scANVI'\n",
       "    varm: 'PCs'\n",
       "    layers: 'counts', 'logcounts'"
      ]
     },
     "execution_count": 35,
     "metadata": {},
     "output_type": "execute_result"
    }
   ],
   "source": [
    "#####to R\n",
    "%R -i adata_seurat\n",
    "adata_seurat"
   ]
  },
  {
   "cell_type": "code",
   "execution_count": 36,
   "id": "07c807de-fce3-4c0d-a4d8-ad386592ce0c",
   "metadata": {},
   "outputs": [
    {
     "name": "stdout",
     "output_type": "stream",
     "text": [
      "An object of class Seurat \n",
      "2000 features across 160667 samples within 1 assay \n",
      "Active assay: originalexp (2000 features, 0 variable features)\n",
      " 2 layers present: counts, data\n",
      " 12 dimensional reductions calculated: PCA, Unintegrated, Scanorama, X_Scanorama, LIGER, X_LIGER, Harmony, X_Harmony, scVI, X_scVI, scANVI, X_scANVI\n"
     ]
    },
    {
     "data": {
      "text/plain": [
       "Warning: Keys should be one or more alphanumeric characters followed by an underscore, setting key from X_Scanorama_ to XScanorama_\n",
       "Warning: Keys should be one or more alphanumeric characters followed by an underscore, setting key from X_LIGER_ to XLIGER_\n",
       "Warning: Keys should be one or more alphanumeric characters followed by an underscore, setting key from X_Harmony_ to XHarmony_\n",
       "Warning: Keys should be one or more alphanumeric characters followed by an underscore, setting key from X_scVI_ to XscVI_\n",
       "Warning: Keys should be one or more alphanumeric characters followed by an underscore, setting key from X_scANVI_ to XscANVI_\n"
      ]
     },
     "metadata": {},
     "output_type": "display_data"
    }
   ],
   "source": [
    "%%R -i adata_seurat\n",
    "library(Seurat)\n",
    "seurat <- as.Seurat(adata_seurat, counts = \"counts\", data = \"logcounts\")\n",
    "seurat"
   ]
  },
  {
   "cell_type": "code",
   "execution_count": 37,
   "id": "65325d32-ddb6-4c44-b7f3-d0a447ab9c4e",
   "metadata": {},
   "outputs": [],
   "source": [
    "label_key = \"harmo.anno\"\n",
    "batch_key = \"orig.ident\""
   ]
  },
  {
   "cell_type": "code",
   "execution_count": 38,
   "id": "10ace03c-f824-4e6e-8b65-9e8d0f2c0156",
   "metadata": {},
   "outputs": [
    {
     "name": "stdout",
     "output_type": "stream",
     "text": [
      "$Nakamura\n",
      "An object of class Seurat \n",
      "2000 features across 390 samples within 1 assay \n",
      "Active assay: originalexp (2000 features, 0 variable features)\n",
      " 2 layers present: counts, data\n",
      " 12 dimensional reductions calculated: PCA, Unintegrated, Scanorama, X_Scanorama, LIGER, X_LIGER, Harmony, X_Harmony, scVI, X_scVI, scANVI, X_scANVI\n",
      "\n",
      "$Zhai_2022\n",
      "An object of class Seurat \n",
      "2000 features across 64575 samples within 1 assay \n",
      "Active assay: originalexp (2000 features, 0 variable features)\n",
      " 2 layers present: counts, data\n",
      " 12 dimensional reductions calculated: PCA, Unintegrated, Scanorama, X_Scanorama, LIGER, X_LIGER, Harmony, X_Harmony, scVI, X_scVI, scANVI, X_scANVI\n",
      "\n",
      "$Ma\n",
      "An object of class Seurat \n",
      "2000 features across 1453 samples within 1 assay \n",
      "Active assay: originalexp (2000 features, 0 variable features)\n",
      " 2 layers present: counts, data\n",
      " 12 dimensional reductions calculated: PCA, Unintegrated, Scanorama, X_Scanorama, LIGER, X_LIGER, Harmony, X_Harmony, scVI, X_scVI, scANVI, X_scANVI\n",
      "\n",
      "$Niu\n",
      "An object of class Seurat \n",
      "2000 features across 600 samples within 1 assay \n",
      "Active assay: originalexp (2000 features, 0 variable features)\n",
      " 2 layers present: counts, data\n",
      " 12 dimensional reductions calculated: PCA, Unintegrated, Scanorama, X_Scanorama, LIGER, X_LIGER, Harmony, X_Harmony, scVI, X_scVI, scANVI, X_scANVI\n",
      "\n",
      "$Yang\n",
      "An object of class Seurat \n",
      "2000 features across 15503 samples within 1 assay \n",
      "Active assay: originalexp (2000 features, 0 variable features)\n",
      " 2 layers present: counts, data\n",
      " 12 dimensional reductions calculated: PCA, Unintegrated, Scanorama, X_Scanorama, LIGER, X_LIGER, Harmony, X_Harmony, scVI, X_scVI, scANVI, X_scANVI\n",
      "\n",
      "$Gong\n",
      "An object of class Seurat \n",
      "2000 features across 74466 samples within 1 assay \n",
      "Active assay: originalexp (2000 features, 0 variable features)\n",
      " 2 layers present: counts, data\n",
      " 12 dimensional reductions calculated: PCA, Unintegrated, Scanorama, X_Scanorama, LIGER, X_LIGER, Harmony, X_Harmony, scVI, X_scVI, scANVI, X_scANVI\n",
      "\n",
      "$Zhai_2023\n",
      "An object of class Seurat \n",
      "2000 features across 3680 samples within 1 assay \n",
      "Active assay: originalexp (2000 features, 0 variable features)\n",
      " 2 layers present: counts, data\n",
      " 12 dimensional reductions calculated: PCA, Unintegrated, Scanorama, X_Scanorama, LIGER, X_LIGER, Harmony, X_Harmony, scVI, X_scVI, scANVI, X_scANVI\n",
      "\n"
     ]
    }
   ],
   "source": [
    "%%R -i batch_key\n",
    "batch_list <- SplitObject(seurat, split.by = \"orig.ident\")\n",
    "batch_list"
   ]
  },
  {
   "cell_type": "code",
   "execution_count": 39,
   "id": "8695cea9-5f20-4864-8fcb-c4fc3a137a40",
   "metadata": {},
   "outputs": [
    {
     "name": "stdout",
     "output_type": "stream",
     "text": [
      "  |                                                  | 0 % ~calculating   |++++++++                                          | 14% ~00s           |+++++++++++++++                                   | 29% ~13s           |++++++++++++++++++++++                            | 43% ~07s           |+++++++++++++++++++++++++++++                     | 57% ~04s           |++++++++++++++++++++++++++++++++++++              | 71% ~03s           |+++++++++++++++++++++++++++++++++++++++++++       | 86% ~02s           |++++++++++++++++++++++++++++++++++++++++++++++++++| 100% elapsed=13s  \n",
      "  |                                                  | 0 % ~calculating   |+++                                               | 5 % ~15m 50s       |+++++                                             | 10% ~07m 57s       |++++++++                                          | 14% ~54m 32s       |++++++++++                                        | 19% ~39m 10s       |++++++++++++                                      | 24% ~47m 03s       |+++++++++++++++                                   | 29% ~36m 59s       |+++++++++++++++++                                 | 33% ~29m 58s       |++++++++++++++++++++                              | 38% ~01h 11m 56s   |++++++++++++++++++++++                            | 43% ~59m 32s       |++++++++++++++++++++++++                          | 48% ~49m 23s       |+++++++++++++++++++++++++++                       | 52% ~41m 42s       |+++++++++++++++++++++++++++++                     | 57% ~01h 17m 21s   |+++++++++++++++++++++++++++++++                   | 62% ~01h 04m 18s   |++++++++++++++++++++++++++++++++++                | 67% ~52m 47s       |++++++++++++++++++++++++++++++++++++              | 71% ~45m 27s       |+++++++++++++++++++++++++++++++++++++++           | 76% ~35m 32s       |+++++++++++++++++++++++++++++++++++++++++         | 81% ~29m 29s       |+++++++++++++++++++++++++++++++++++++++++++       | 86% ~20m 54s       |++++++++++++++++++++++++++++++++++++++++++++++    | 90% ~13m 13s       |++++++++++++++++++++++++++++++++++++++++++++++++  | 95% ~06m 24s       |++++++++++++++++++++++++++++++++++++++++++++++++++| 100% elapsed=02h 24m 15s\n",
      "An AnchorSet object containing 132212 anchors between 7 Seurat objects \n",
      " This can be used as input to IntegrateData.\n"
     ]
    },
    {
     "data": {
      "text/plain": [
       "Scaling features for provided objects\n",
       "Finding all pairwise anchors\n",
       "Running CCA\n",
       "Merging objects\n",
       "Finding neighborhoods\n",
       "Finding anchors\n",
       "\tFound 1929 anchors\n",
       "Filtering anchors\n",
       "\tRetained 208 anchors\n",
       "Running CCA\n",
       "Merging objects\n",
       "Finding neighborhoods\n",
       "Finding anchors\n",
       "\tFound 1573 anchors\n",
       "Filtering anchors\n",
       "\tRetained 1048 anchors\n",
       "Running CCA\n",
       "Merging objects\n",
       "Finding neighborhoods\n",
       "Finding anchors\n",
       "\tFound 5899 anchors\n",
       "Filtering anchors\n",
       "\tRetained 4179 anchors\n",
       "Running CCA\n",
       "Merging objects\n",
       "Finding neighborhoods\n",
       "Finding anchors\n",
       "\tFound 1333 anchors\n",
       "Filtering anchors\n",
       "\tRetained 1101 anchors\n",
       "Running CCA\n",
       "Merging objects\n",
       "Finding neighborhoods\n",
       "Finding anchors\n",
       "\tFound 2842 anchors\n",
       "Filtering anchors\n",
       "\tRetained 2379 anchors\n",
       "Running CCA\n",
       "Merging objects\n",
       "Finding neighborhoods\n",
       "Finding anchors\n",
       "\tFound 2143 anchors\n",
       "Filtering anchors\n",
       "\tRetained 1989 anchors\n",
       "Running CCA\n",
       "Merging objects\n",
       "Finding neighborhoods\n",
       "Finding anchors\n",
       "\tFound 1820 anchors\n",
       "Filtering anchors\n",
       "\tRetained 717 anchors\n",
       "Running CCA\n",
       "Merging objects\n",
       "Finding neighborhoods\n",
       "Finding anchors\n",
       "\tFound 29285 anchors\n",
       "Filtering anchors\n",
       "\tRetained 5846 anchors\n",
       "Running CCA\n",
       "Merging objects\n",
       "Finding neighborhoods\n",
       "Finding anchors\n",
       "\tFound 5221 anchors\n",
       "Filtering anchors\n",
       "\tRetained 2284 anchors\n",
       "Running CCA\n",
       "Merging objects\n",
       "Finding neighborhoods\n",
       "Finding anchors\n",
       "\tFound 2539 anchors\n",
       "Filtering anchors\n",
       "\tRetained 1115 anchors\n",
       "Running CCA\n",
       "Merging objects\n",
       "Finding neighborhoods\n",
       "Finding anchors\n",
       "\tFound 1894 anchors\n",
       "Filtering anchors\n",
       "\tRetained 152 anchors\n",
       "Running CCA\n",
       "Merging objects\n",
       "Finding neighborhoods\n",
       "Finding anchors\n",
       "\tFound 55571 anchors\n",
       "Filtering anchors\n",
       "\tRetained 12987 anchors\n",
       "Running CCA\n",
       "Merging objects\n",
       "Finding neighborhoods\n",
       "Finding anchors\n",
       "\tFound 6011 anchors\n",
       "Filtering anchors\n",
       "\tRetained 866 anchors\n",
       "Running CCA\n",
       "Merging objects\n",
       "Finding neighborhoods\n",
       "Finding anchors\n",
       "\tFound 2708 anchors\n",
       "Filtering anchors\n",
       "\tRetained 560 anchors\n",
       "Running CCA\n",
       "Merging objects\n",
       "Finding neighborhoods\n",
       "Finding anchors\n",
       "\tFound 29657 anchors\n",
       "Filtering anchors\n",
       "\tRetained 4439 anchors\n",
       "Running CCA\n",
       "Merging objects\n",
       "Finding neighborhoods\n",
       "Finding anchors\n",
       "\tFound 1746 anchors\n",
       "Filtering anchors\n",
       "\tRetained 583 anchors\n",
       "Running CCA\n",
       "Merging objects\n",
       "Finding neighborhoods\n",
       "Finding anchors\n",
       "\tFound 11252 anchors\n",
       "Filtering anchors\n",
       "\tRetained 5561 anchors\n",
       "Running CCA\n",
       "Merging objects\n",
       "Finding neighborhoods\n",
       "Finding anchors\n",
       "\tFound 4180 anchors\n",
       "Filtering anchors\n",
       "\tRetained 2535 anchors\n",
       "Running CCA\n",
       "Merging objects\n",
       "Finding neighborhoods\n",
       "Finding anchors\n",
       "\tFound 2270 anchors\n",
       "Filtering anchors\n",
       "\tRetained 1501 anchors\n",
       "Running CCA\n",
       "Merging objects\n",
       "Finding neighborhoods\n",
       "Finding anchors\n",
       "\tFound 9687 anchors\n",
       "Filtering anchors\n",
       "\tRetained 5025 anchors\n",
       "Running CCA\n",
       "Merging objects\n",
       "Finding neighborhoods\n",
       "Finding anchors\n",
       "\tFound 14157 anchors\n",
       "Filtering anchors\n",
       "\tRetained 11031 anchors\n"
      ]
     },
     "metadata": {},
     "output_type": "display_data"
    }
   ],
   "source": [
    "%%R\n",
    "anchors <- FindIntegrationAnchors(batch_list, anchor.features = rownames(seurat))\n",
    "anchors"
   ]
  },
  {
   "cell_type": "code",
   "execution_count": 40,
   "id": "053f94f6-8b10-40dc-b95c-22ef06cdcf8c",
   "metadata": {},
   "outputs": [
    {
     "name": "stdout",
     "output_type": "stream",
     "text": [
      "An object of class Seurat \n",
      "4000 features across 160667 samples within 2 assays \n",
      "Active assay: integrated (2000 features, 2000 variable features)\n",
      " 1 layer present: data\n",
      " 1 other assay present: originalexp\n"
     ]
    },
    {
     "data": {
      "text/plain": [
       "Merging dataset 4 into 2\n",
       "Extracting anchors for merged samples\n",
       "Finding integration vectors\n",
       "Finding integration vector weights\n",
       "0%   10   20   30   40   50   60   70   80   90   100%\n",
       "[----|----|----|----|----|----|----|----|----|----|\n",
       "**************************************************|\n",
       "Integrating data\n",
       "Merging dataset 7 into 6\n",
       "Extracting anchors for merged samples\n",
       "Finding integration vectors\n",
       "Finding integration vector weights\n",
       "0%   10   20   30   40   50   60   70   80   90   100%\n",
       "[----|----|----|----|----|----|----|----|----|----|\n",
       "**************************************************|\n",
       "Integrating data\n",
       "Merging dataset 3 into 2 4\n",
       "Extracting anchors for merged samples\n",
       "Finding integration vectors\n",
       "Finding integration vector weights\n",
       "0%   10   20   30   40   50   60   70   80   90   100%\n",
       "[----|----|----|----|----|----|----|----|----|----|\n",
       "**************************************************|\n",
       "Integrating data\n",
       "Merging dataset 1 into 5\n",
       "Extracting anchors for merged samples\n",
       "Finding integration vectors\n",
       "Finding integration vector weights\n",
       "0%   10   20   30   40   50   60   70   80   90   100%\n",
       "[----|----|----|----|----|----|----|----|----|----|\n",
       "**************************************************|\n",
       "Integrating data\n",
       "Merging dataset 5 1 into 2 4 3\n",
       "Extracting anchors for merged samples\n",
       "Finding integration vectors\n",
       "Finding integration vector weights\n",
       "0%   10   20   30   40   50   60   70   80   90   100%\n",
       "[----|----|----|----|----|----|----|----|----|----|\n",
       "**************************************************|\n",
       "Integrating data\n",
       "Merging dataset 6 7 into 2 4 3 5 1\n",
       "Extracting anchors for merged samples\n",
       "Finding integration vectors\n",
       "Finding integration vector weights\n",
       "0%   10   20   30   40   50   60   70   80   90   100%\n",
       "[----|----|----|----|----|----|----|----|----|----|\n",
       "**************************************************|\n",
       "Integrating data\n"
      ]
     },
     "metadata": {},
     "output_type": "display_data"
    }
   ],
   "source": [
    "%%R\n",
    "integrated <- IntegrateData(anchors)\n",
    "integrated"
   ]
  },
  {
   "cell_type": "code",
   "execution_count": 41,
   "id": "2a4745f3-510f-4bee-8eb1-7afb0f8e98a2",
   "metadata": {},
   "outputs": [
    {
     "name": "stdout",
     "output_type": "stream",
     "text": [
      "An object of class Seurat \n",
      "4000 features across 160667 samples within 2 assays \n",
      "Active assay: integrated (2000 features, 2000 variable features)\n",
      " 1 layer present: data\n",
      " 1 other assay present: originalexp\n"
     ]
    }
   ],
   "source": [
    "%%R\n",
    "integrated"
   ]
  },
  {
   "cell_type": "code",
   "execution_count": 42,
   "id": "02fc1a4d-cab5-4f02-8472-165fe074c5a2",
   "metadata": {},
   "outputs": [
    {
     "name": "stdout",
     "output_type": "stream",
     "text": [
      "10 x 10 sparse Matrix of class \"dgCMatrix\"\n",
      "                                                                      \n",
      "E13_MS10T45_1_1 0.6667583 0.04934495 0.2398668  0.17903400  0.11350276\n",
      "E13_MS10T46_1_1 0.5565302 0.00824349 0.1832880 -0.01924275 -0.12075684\n",
      "E13_MS10T48_1_1 1.0172319 0.05879730 0.2449456 -0.06301326  0.12344772\n",
      "E13_MS10T49_1_1 0.7218265 0.04218439 0.1859685  0.26752462 -0.05500853\n",
      "E13_MS13T66_1_1 0.6406536 0.04907167 0.2367585  0.20997918  0.46285080\n",
      "E13_MS13T67_1_1 0.6059875 0.06462054 0.2690634 -0.10038470  0.01444083\n",
      "E13_MS13T68_1_1 0.6207846 0.05700810 0.2571653  0.31183046  0.25380806\n",
      "E13_MS13T69_1_1 0.9305673 0.07307878 0.2662938 -0.01423268  0.12064346\n",
      "E13_MS13T70_1_1 0.6216592 0.05275685 0.2593982  0.37094252  0.03792298\n",
      "E13_MS13T71_1_1 0.5697991 0.04919405 0.2325725  0.13434759  0.54675845\n",
      "                                                                        \n",
      "E13_MS10T45_1_1 1.0998358 -0.007173378  0.38810258 0.18174656 -0.1877693\n",
      "E13_MS10T46_1_1 1.2875444 -0.006031933 -0.05648481 0.63025888  0.3152602\n",
      "E13_MS10T48_1_1 1.1276564 -0.007202973 -0.13461893 0.13507541 -0.4299825\n",
      "E13_MS10T49_1_1 1.0381553  0.006715002  0.25333587 0.49236065 -0.1478200\n",
      "E13_MS13T66_1_1 0.9581123 -0.001965356  0.04524191 0.08065263 -0.1018535\n",
      "E13_MS13T67_1_1 1.0829696  0.012541938 -0.09611028 0.09636422 -0.2781838\n",
      "E13_MS13T68_1_1 1.2735798  0.034512114  0.23964710 0.10411545  0.6373793\n",
      "E13_MS13T69_1_1 1.1546379  0.017194245 -0.13442002 0.41407607  0.8163875\n",
      "E13_MS13T70_1_1 1.0073137  0.016746493 -0.11745337 0.44157978 -0.4868243\n",
      "E13_MS13T71_1_1 1.2752816  0.032368053 -0.08969164 0.67788289 -0.1205935\n"
     ]
    },
    {
     "data": {
      "text/plain": [
       "  [[ suppressing 10 column names ‘KIF26B’, ‘PLD5’, ‘RYR2’ ... ]]\n"
      ]
     },
     "metadata": {},
     "output_type": "display_data"
    }
   ],
   "source": [
    "%%R -o integrated_expr\n",
    "integrated_expr <- GetAssayData(integrated)\n",
    "\n",
    "integrated_expr <- integrated_expr[rownames(seurat), colnames(seurat)]\n",
    "\n",
    "integrated_expr <- t(integrated_expr)\n",
    "print(integrated_expr[1:10, 1:10])"
   ]
  },
  {
   "cell_type": "code",
   "execution_count": 43,
   "id": "5acb646b-7d84-4adc-a849-88d73301702a",
   "metadata": {},
   "outputs": [
    {
     "data": {
      "text/html": [
       "<pre style=\"white-space:pre;overflow-x:auto;line-height:normal;font-family:Menlo,'DejaVu Sans Mono',consolas,'Courier New',monospace\">AnnData object with n_obs × n_vars = <span style=\"color: #008080; text-decoration-color: #008080; font-weight: bold\">160667</span> × <span style=\"color: #008080; text-decoration-color: #008080; font-weight: bold\">2000</span>\n",
       "    obs: <span style=\"color: #008000; text-decoration-color: #008000\">'orig.ident'</span>, <span style=\"color: #008000; text-decoration-color: #008000\">'nCount_RNA'</span>, <span style=\"color: #008000; text-decoration-color: #008000\">'nFeature_RNA'</span>, <span style=\"color: #008000; text-decoration-color: #008000\">'sample'</span>, <span style=\"color: #008000; text-decoration-color: #008000\">'stage'</span>, <span style=\"color: #008000; text-decoration-color: #008000\">'percent.mt'</span>, <span style=\"color: #008000; text-decoration-color: #008000\">'species'</span>, <span style=\"color: #008000; text-decoration-color: #008000\">'embryo'</span>, \n",
       "<span style=\"color: #008000; text-decoration-color: #008000\">'platform'</span>, <span style=\"color: #008000; text-decoration-color: #008000\">'anno'</span>, <span style=\"color: #008000; text-decoration-color: #008000\">'sub_anno'</span>, <span style=\"color: #008000; text-decoration-color: #008000\">'harmo.anno'</span>, <span style=\"color: #008000; text-decoration-color: #008000\">'doublet'</span>, <span style=\"color: #008000; text-decoration-color: #008000\">'doublet_score'</span>, <span style=\"color: #008000; text-decoration-color: #008000\">'_scvi_batch'</span>, <span style=\"color: #008000; text-decoration-color: #008000\">'_scvi_labels'</span>\n",
       "    var: <span style=\"color: #008000; text-decoration-color: #008000\">'features'</span>, <span style=\"color: #008000; text-decoration-color: #008000\">'n_cells'</span>, <span style=\"color: #008000; text-decoration-color: #008000\">'highly_variable'</span>, <span style=\"color: #008000; text-decoration-color: #008000\">'means'</span>, <span style=\"color: #008000; text-decoration-color: #008000\">'dispersions'</span>, <span style=\"color: #008000; text-decoration-color: #008000\">'dispersions_norm'</span>, \n",
       "<span style=\"color: #008000; text-decoration-color: #008000\">'highly_variable_nbatches'</span>, <span style=\"color: #008000; text-decoration-color: #008000\">'highly_variable_intersection'</span>\n",
       "    obsm: <span style=\"color: #008000; text-decoration-color: #008000\">'X_pca'</span>, <span style=\"color: #008000; text-decoration-color: #008000\">'Unintegrated'</span>, <span style=\"color: #008000; text-decoration-color: #008000\">'Scanorama'</span>, <span style=\"color: #008000; text-decoration-color: #008000\">'X_Scanorama'</span>, <span style=\"color: #008000; text-decoration-color: #008000\">'LIGER'</span>, <span style=\"color: #008000; text-decoration-color: #008000\">'X_LIGER'</span>, <span style=\"color: #008000; text-decoration-color: #008000\">'Harmony'</span>, <span style=\"color: #008000; text-decoration-color: #008000\">'X_Harmony'</span>, <span style=\"color: #008000; text-decoration-color: #008000\">'scVI'</span>, \n",
       "<span style=\"color: #008000; text-decoration-color: #008000\">'X_scVI'</span>, <span style=\"color: #008000; text-decoration-color: #008000\">'scANVI'</span>, <span style=\"color: #008000; text-decoration-color: #008000\">'X_scANVI'</span>\n",
       "    varm: <span style=\"color: #008000; text-decoration-color: #008000\">'PCs'</span>\n",
       "    layers: <span style=\"color: #008000; text-decoration-color: #008000\">'counts'</span>, <span style=\"color: #008000; text-decoration-color: #008000\">'logcounts'</span>, <span style=\"color: #008000; text-decoration-color: #008000\">'seurat'</span>\n",
       "</pre>\n"
      ],
      "text/plain": [
       "AnnData object with n_obs × n_vars = \u001b[1;36m160667\u001b[0m × \u001b[1;36m2000\u001b[0m\n",
       "    obs: \u001b[32m'orig.ident'\u001b[0m, \u001b[32m'nCount_RNA'\u001b[0m, \u001b[32m'nFeature_RNA'\u001b[0m, \u001b[32m'sample'\u001b[0m, \u001b[32m'stage'\u001b[0m, \u001b[32m'percent.mt'\u001b[0m, \u001b[32m'species'\u001b[0m, \u001b[32m'embryo'\u001b[0m, \n",
       "\u001b[32m'platform'\u001b[0m, \u001b[32m'anno'\u001b[0m, \u001b[32m'sub_anno'\u001b[0m, \u001b[32m'harmo.anno'\u001b[0m, \u001b[32m'doublet'\u001b[0m, \u001b[32m'doublet_score'\u001b[0m, \u001b[32m'_scvi_batch'\u001b[0m, \u001b[32m'_scvi_labels'\u001b[0m\n",
       "    var: \u001b[32m'features'\u001b[0m, \u001b[32m'n_cells'\u001b[0m, \u001b[32m'highly_variable'\u001b[0m, \u001b[32m'means'\u001b[0m, \u001b[32m'dispersions'\u001b[0m, \u001b[32m'dispersions_norm'\u001b[0m, \n",
       "\u001b[32m'highly_variable_nbatches'\u001b[0m, \u001b[32m'highly_variable_intersection'\u001b[0m\n",
       "    obsm: \u001b[32m'X_pca'\u001b[0m, \u001b[32m'Unintegrated'\u001b[0m, \u001b[32m'Scanorama'\u001b[0m, \u001b[32m'X_Scanorama'\u001b[0m, \u001b[32m'LIGER'\u001b[0m, \u001b[32m'X_LIGER'\u001b[0m, \u001b[32m'Harmony'\u001b[0m, \u001b[32m'X_Harmony'\u001b[0m, \u001b[32m'scVI'\u001b[0m, \n",
       "\u001b[32m'X_scVI'\u001b[0m, \u001b[32m'scANVI'\u001b[0m, \u001b[32m'X_scANVI'\u001b[0m\n",
       "    varm: \u001b[32m'PCs'\u001b[0m\n",
       "    layers: \u001b[32m'counts'\u001b[0m, \u001b[32m'logcounts'\u001b[0m, \u001b[32m'seurat'\u001b[0m\n"
      ]
     },
     "metadata": {},
     "output_type": "display_data"
    },
    {
     "data": {
      "text/plain": [
       "<160667x44223 sparse matrix of type '<class 'numpy.float64'>'\n",
       "\twith 842301664 stored elements in Compressed Sparse Row format>"
      ]
     },
     "execution_count": 43,
     "metadata": {},
     "output_type": "execute_result"
    }
   ],
   "source": [
    "## save to adata key\n",
    "adata_seurat.X = integrated_expr\n",
    "adata_seurat.layers[\"seurat\"] = integrated_expr\n",
    "print(adata_seurat)\n",
    "adata.X"
   ]
  },
  {
   "cell_type": "code",
   "execution_count": 44,
   "id": "66e76007-f58b-4981-9fcf-f82ddd361ec5",
   "metadata": {},
   "outputs": [],
   "source": [
    "sc.tl.pca(adata_seurat)\n",
    "adata.obsm[\"CCA\"] = adata_seurat.obsm[\"X_pca\"]\n",
    "adata_hvg.obsm[\"CCA\"] = adata_seurat.obsm[\"X_pca\"]"
   ]
  },
  {
   "cell_type": "code",
   "execution_count": null,
   "id": "0ed06819-9a8f-4c7e-a59b-e049d707bc2f",
   "metadata": {},
   "outputs": [],
   "source": [
    "sc.pp.neighbors(adata, use_rep=\"CCA\",random_state=42)\n",
    "sc.tl.leiden(adata, resolution=0.5, key_added=f\"CCA_res_0.5\",random_state=42)\n",
    "sc.tl.umap(adata,random_state=42)\n",
    "adata.obsm['X_CCA'] = adata.obsm['X_umap']\n",
    "adata_hvg.obsm['X_CCA'] = adata.obsm['X_CCA']\n",
    "sc.pl.umap(adata, color=['orig.ident'],save=\"CCA_orig.ident.pdf\")\n",
    "sc.pl.umap(adata, color=['CCA_res_0.5'],save=\"CCA_res_0.5.pdf\")\n",
    "sc.pl.umap(adata, color=['stage'],save=\"CCA_stage.pdf\")\n",
    "sc.pl.umap(adata, color=['harmo.anno'],save=\"CCA_harmo.anno.pdf\")"
   ]
  },
  {
   "cell_type": "code",
   "execution_count": 46,
   "id": "c7244719-1a76-446f-ad62-da0ad35ad51f",
   "metadata": {},
   "outputs": [
    {
     "data": {
      "text/plain": [
       "AnnData object with n_obs × n_vars = 160667 × 2000\n",
       "    obs: 'orig.ident', 'nCount_RNA', 'nFeature_RNA', 'sample', 'stage', 'percent.mt', 'species', 'embryo', 'platform', 'anno', 'sub_anno', 'harmo.anno', 'doublet', 'doublet_score', '_scvi_batch', '_scvi_labels'\n",
       "    var: 'features', 'n_cells', 'highly_variable', 'means', 'dispersions', 'dispersions_norm', 'highly_variable_nbatches', 'highly_variable_intersection'\n",
       "    uns: 'log1p', 'hvg', 'pca', '_scvi_uuid', '_scvi_manager_uuid'\n",
       "    obsm: 'X_pca', 'Unintegrated', 'Scanorama', 'X_Scanorama', 'LIGER', 'X_LIGER', 'Harmony', 'X_Harmony', 'scVI', 'X_scVI', 'scANVI', 'X_scANVI', 'CCA', 'X_CCA'\n",
       "    varm: 'PCs'\n",
       "    layers: 'counts', 'logcounts'"
      ]
     },
     "execution_count": 46,
     "metadata": {},
     "output_type": "execute_result"
    }
   ],
   "source": [
    "###fastmnn\n",
    "adata_fastmnn = adata_hvg.copy()\n",
    "adata_fastmnn"
   ]
  },
  {
   "cell_type": "code",
   "execution_count": 47,
   "id": "03099ce2-e4c8-4c9c-88b7-7c0b7fa47e9a",
   "metadata": {},
   "outputs": [
    {
     "data": {
      "text/plain": [
       "AnnData object with n_obs × n_vars = 160667 × 2000\n",
       "    obs: 'orig.ident', 'nCount_RNA', 'nFeature_RNA', 'sample', 'stage', 'percent.mt', 'species', 'embryo', 'platform', 'anno', 'sub_anno', 'harmo.anno', 'doublet', 'doublet_score', '_scvi_batch', '_scvi_labels'\n",
       "    var: 'features', 'n_cells', 'highly_variable', 'means', 'dispersions', 'dispersions_norm', 'highly_variable_nbatches', 'highly_variable_intersection'\n",
       "    obsm: 'X_pca', 'Unintegrated', 'Scanorama', 'X_Scanorama', 'LIGER', 'X_LIGER', 'Harmony', 'X_Harmony', 'scVI', 'X_scVI', 'scANVI', 'X_scANVI', 'CCA', 'X_CCA'\n",
       "    varm: 'PCs'\n",
       "    layers: 'counts', 'logcounts'"
      ]
     },
     "execution_count": 47,
     "metadata": {},
     "output_type": "execute_result"
    }
   ],
   "source": [
    "adata_fastmnn.obs[\"orig.ident\"] = adata_fastmnn.obs[\"orig.ident\"].astype(str)\n",
    "adata_fastmnn.obs[\"harmo.anno\"] = adata_fastmnn.obs[\"harmo.anno\"].astype(str)\n",
    "\n",
    "del adata_fastmnn.uns\n",
    "adata_fastmnn"
   ]
  },
  {
   "cell_type": "code",
   "execution_count": 48,
   "id": "f73148f9-05f5-449a-8de1-271f1cfdcb71",
   "metadata": {},
   "outputs": [
    {
     "data": {
      "text/plain": [
       "AnnData object with n_obs × n_vars = 160667 × 2000\n",
       "    obs: 'orig.ident', 'nCount_RNA', 'nFeature_RNA', 'sample', 'stage', 'percent.mt', 'species', 'embryo', 'platform', 'anno', 'sub_anno', 'harmo.anno', 'doublet', 'doublet_score', '_scvi_batch', '_scvi_labels'\n",
       "    var: 'features', 'n_cells', 'highly_variable', 'means', 'dispersions', 'dispersions_norm', 'highly_variable_nbatches', 'highly_variable_intersection'\n",
       "    obsm: 'X_pca', 'Unintegrated', 'Scanorama', 'X_Scanorama', 'LIGER', 'X_LIGER', 'Harmony', 'X_Harmony', 'scVI', 'X_scVI', 'scANVI', 'X_scANVI', 'CCA', 'X_CCA'\n",
       "    varm: 'PCs'\n",
       "    layers: 'counts', 'logcounts'"
      ]
     },
     "execution_count": 48,
     "metadata": {},
     "output_type": "execute_result"
    }
   ],
   "source": [
    "#####to R\n",
    "%R -i adata_fastmnn\n",
    "adata_fastmnn"
   ]
  },
  {
   "cell_type": "code",
   "execution_count": 49,
   "id": "ad719dba-afb8-48c6-81bd-626c4e9354aa",
   "metadata": {},
   "outputs": [
    {
     "name": "stdout",
     "output_type": "stream",
     "text": [
      "An object of class Seurat \n",
      "2000 features across 160667 samples within 1 assay \n",
      "Active assay: originalexp (2000 features, 0 variable features)\n",
      " 2 layers present: counts, data\n",
      " 14 dimensional reductions calculated: PCA, Unintegrated, Scanorama, X_Scanorama, LIGER, X_LIGER, Harmony, X_Harmony, scVI, X_scVI, scANVI, X_scANVI, CCA, X_CCA\n"
     ]
    },
    {
     "data": {
      "text/plain": [
       "Warning: Keys should be one or more alphanumeric characters followed by an underscore, setting key from X_Scanorama_ to XScanorama_\n",
       "Warning: Keys should be one or more alphanumeric characters followed by an underscore, setting key from X_LIGER_ to XLIGER_\n",
       "Warning: Keys should be one or more alphanumeric characters followed by an underscore, setting key from X_Harmony_ to XHarmony_\n",
       "Warning: Keys should be one or more alphanumeric characters followed by an underscore, setting key from X_scVI_ to XscVI_\n",
       "Warning: Keys should be one or more alphanumeric characters followed by an underscore, setting key from X_scANVI_ to XscANVI_\n",
       "Warning: Keys should be one or more alphanumeric characters followed by an underscore, setting key from X_CCA_ to XCCA_\n"
      ]
     },
     "metadata": {},
     "output_type": "display_data"
    }
   ],
   "source": [
    "%%R -i adata_fastmnn\n",
    "library(Seurat)\n",
    "fastmnn <- as.Seurat(adata_fastmnn, counts = \"counts\", data = \"logcounts\")\n",
    "fastmnn"
   ]
  },
  {
   "cell_type": "code",
   "execution_count": 50,
   "id": "5accd140-89c9-434c-ab9e-f72bc89fc23e",
   "metadata": {},
   "outputs": [],
   "source": [
    "label_key = \"harmo.anno\"\n",
    "batch_key = \"orig.ident\""
   ]
  },
  {
   "cell_type": "code",
   "execution_count": 51,
   "id": "5cb9ae57-4c4f-43d5-9979-701a51839bc1",
   "metadata": {},
   "outputs": [
    {
     "name": "stdout",
     "output_type": "stream",
     "text": [
      "$Nakamura\n",
      "An object of class Seurat \n",
      "2000 features across 390 samples within 1 assay \n",
      "Active assay: originalexp (2000 features, 0 variable features)\n",
      " 2 layers present: counts, data\n",
      " 14 dimensional reductions calculated: PCA, Unintegrated, Scanorama, X_Scanorama, LIGER, X_LIGER, Harmony, X_Harmony, scVI, X_scVI, scANVI, X_scANVI, CCA, X_CCA\n",
      "\n",
      "$Zhai_2022\n",
      "An object of class Seurat \n",
      "2000 features across 64575 samples within 1 assay \n",
      "Active assay: originalexp (2000 features, 0 variable features)\n",
      " 2 layers present: counts, data\n",
      " 14 dimensional reductions calculated: PCA, Unintegrated, Scanorama, X_Scanorama, LIGER, X_LIGER, Harmony, X_Harmony, scVI, X_scVI, scANVI, X_scANVI, CCA, X_CCA\n",
      "\n",
      "$Ma\n",
      "An object of class Seurat \n",
      "2000 features across 1453 samples within 1 assay \n",
      "Active assay: originalexp (2000 features, 0 variable features)\n",
      " 2 layers present: counts, data\n",
      " 14 dimensional reductions calculated: PCA, Unintegrated, Scanorama, X_Scanorama, LIGER, X_LIGER, Harmony, X_Harmony, scVI, X_scVI, scANVI, X_scANVI, CCA, X_CCA\n",
      "\n",
      "$Niu\n",
      "An object of class Seurat \n",
      "2000 features across 600 samples within 1 assay \n",
      "Active assay: originalexp (2000 features, 0 variable features)\n",
      " 2 layers present: counts, data\n",
      " 14 dimensional reductions calculated: PCA, Unintegrated, Scanorama, X_Scanorama, LIGER, X_LIGER, Harmony, X_Harmony, scVI, X_scVI, scANVI, X_scANVI, CCA, X_CCA\n",
      "\n",
      "$Yang\n",
      "An object of class Seurat \n",
      "2000 features across 15503 samples within 1 assay \n",
      "Active assay: originalexp (2000 features, 0 variable features)\n",
      " 2 layers present: counts, data\n",
      " 14 dimensional reductions calculated: PCA, Unintegrated, Scanorama, X_Scanorama, LIGER, X_LIGER, Harmony, X_Harmony, scVI, X_scVI, scANVI, X_scANVI, CCA, X_CCA\n",
      "\n",
      "$Gong\n",
      "An object of class Seurat \n",
      "2000 features across 74466 samples within 1 assay \n",
      "Active assay: originalexp (2000 features, 0 variable features)\n",
      " 2 layers present: counts, data\n",
      " 14 dimensional reductions calculated: PCA, Unintegrated, Scanorama, X_Scanorama, LIGER, X_LIGER, Harmony, X_Harmony, scVI, X_scVI, scANVI, X_scANVI, CCA, X_CCA\n",
      "\n",
      "$Zhai_2023\n",
      "An object of class Seurat \n",
      "2000 features across 3680 samples within 1 assay \n",
      "Active assay: originalexp (2000 features, 0 variable features)\n",
      " 2 layers present: counts, data\n",
      " 14 dimensional reductions calculated: PCA, Unintegrated, Scanorama, X_Scanorama, LIGER, X_LIGER, Harmony, X_Harmony, scVI, X_scVI, scANVI, X_scANVI, CCA, X_CCA\n",
      "\n"
     ]
    }
   ],
   "source": [
    "%%R -i batch_key\n",
    "batch_list <- SplitObject(fastmnn, split.by = \"orig.ident\")\n",
    "batch_list"
   ]
  },
  {
   "cell_type": "code",
   "execution_count": 52,
   "id": "6d64dd30-fde1-49af-ae4e-af61286a11a4",
   "metadata": {},
   "outputs": [
    {
     "name": "stdout",
     "output_type": "stream",
     "text": [
      "── Attaching core tidyverse packages ──────────────────────── tidyverse 2.0.0 ──\n",
      "✔ dplyr     1.1.4     ✔ readr     2.1.5\n",
      "✔ forcats   1.0.0     ✔ stringr   1.5.1\n",
      "✔ ggplot2   3.5.0     ✔ tibble    3.2.1\n",
      "✔ lubridate 1.9.3     ✔ tidyr     1.3.1\n",
      "✔ purrr     1.0.2     \n",
      "── Conflicts ────────────────────────────────────────── tidyverse_conflicts() ──\n",
      "✖ lubridate::%within%() masks IRanges::%within%()\n",
      "✖ dplyr::collapse()     masks IRanges::collapse()\n",
      "✖ dplyr::combine()      masks Biobase::combine(), BiocGenerics::combine()\n",
      "✖ dplyr::count()        masks matrixStats::count()\n",
      "✖ dplyr::desc()         masks IRanges::desc()\n",
      "✖ tidyr::expand()       masks Matrix::expand(), S4Vectors::expand()\n",
      "✖ dplyr::filter()       masks stats::filter()\n",
      "✖ dplyr::first()        masks S4Vectors::first()\n",
      "✖ dplyr::lag()          masks stats::lag()\n",
      "✖ tidyr::pack()         masks Matrix::pack()\n",
      "✖ ggplot2::Position()   masks BiocGenerics::Position(), base::Position()\n",
      "✖ purrr::reduce()       masks GenomicRanges::reduce(), IRanges::reduce()\n",
      "✖ dplyr::rename()       masks S4Vectors::rename()\n",
      "✖ lubridate::second()   masks S4Vectors::second()\n",
      "✖ lubridate::second<-() masks S4Vectors::second<-()\n",
      "✖ dplyr::slice()        masks IRanges::slice()\n",
      "✖ tidyr::unpack()       masks Matrix::unpack()\n",
      "ℹ Use the conflicted package (<http://conflicted.r-lib.org/>) to force all conflicts to become errors\n",
      "An object of class Seurat \n",
      "4000 features across 160667 samples within 2 assays \n",
      "Active assay: originalexp (2000 features, 0 variable features)\n",
      " 2 layers present: counts, data\n",
      " 1 other assay present: mnn.reconstructed\n",
      " 1 dimensional reduction calculated: mnn\n"
     ]
    },
    {
     "data": {
      "text/plain": [
       "Computing 2000 integration features\n",
       "No variable features found for object1 in the object.list. Running FindVariableFeatures ...\n",
       "Calculating gene variances\n",
       "0%   10   20   30   40   50   60   70   80   90   100%\n",
       "[----|----|----|----|----|----|----|----|----|----|\n",
       "**************************************************|\n",
       "Calculating feature variances of standardized and clipped values\n",
       "0%   10   20   30   40   50   60   70   80   90   100%\n",
       "[----|----|----|----|----|----|----|----|----|----|\n",
       "**************************************************|\n",
       "No variable features found for object2 in the object.list. Running FindVariableFeatures ...\n",
       "Calculating gene variances\n",
       "0%   10   20   30   40   50   60   70   80   90   100%\n",
       "[----|----|----|----|----|----|----|----|----|----|\n",
       "**************************************************|\n",
       "Calculating feature variances of standardized and clipped values\n",
       "0%   10   20   30   40   50   60   70   80   90   100%\n",
       "[----|----|----|----|----|----|----|----|----|----|\n",
       "**************************************************|\n",
       "No variable features found for object3 in the object.list. Running FindVariableFeatures ...\n",
       "Calculating gene variances\n",
       "0%   10   20   30   40   50   60   70   80   90   100%\n",
       "[----|----|----|----|----|----|----|----|----|----|\n",
       "**************************************************|\n",
       "Calculating feature variances of standardized and clipped values\n",
       "0%   10   20   30   40   50   60   70   80   90   100%\n",
       "[----|----|----|----|----|----|----|----|----|----|\n",
       "**************************************************|\n",
       "No variable features found for object4 in the object.list. Running FindVariableFeatures ...\n",
       "Calculating gene variances\n",
       "0%   10   20   30   40   50   60   70   80   90   100%\n",
       "[----|----|----|----|----|----|----|----|----|----|\n",
       "**************************************************|\n",
       "Calculating feature variances of standardized and clipped values\n",
       "0%   10   20   30   40   50   60   70   80   90   100%\n",
       "[----|----|----|----|----|----|----|----|----|----|\n",
       "**************************************************|\n",
       "No variable features found for object5 in the object.list. Running FindVariableFeatures ...\n",
       "Calculating gene variances\n",
       "0%   10   20   30   40   50   60   70   80   90   100%\n",
       "[----|----|----|----|----|----|----|----|----|----|\n",
       "**************************************************|\n",
       "Calculating feature variances of standardized and clipped values\n",
       "0%   10   20   30   40   50   60   70   80   90   100%\n",
       "[----|----|----|----|----|----|----|----|----|----|\n",
       "**************************************************|\n",
       "No variable features found for object6 in the object.list. Running FindVariableFeatures ...\n",
       "Calculating gene variances\n",
       "0%   10   20   30   40   50   60   70   80   90   100%\n",
       "[----|----|----|----|----|----|----|----|----|----|\n",
       "**************************************************|\n",
       "Calculating feature variances of standardized and clipped values\n",
       "0%   10   20   30   40   50   60   70   80   90   100%\n",
       "[----|----|----|----|----|----|----|----|----|----|\n",
       "**************************************************|\n",
       "No variable features found for object7 in the object.list. Running FindVariableFeatures ...\n",
       "Calculating gene variances\n",
       "0%   10   20   30   40   50   60   70   80   90   100%\n",
       "[----|----|----|----|----|----|----|----|----|----|\n",
       "**************************************************|\n",
       "Calculating feature variances of standardized and clipped values\n",
       "0%   10   20   30   40   50   60   70   80   90   100%\n",
       "[----|----|----|----|----|----|----|----|----|----|\n",
       "**************************************************|\n"
      ]
     },
     "metadata": {},
     "output_type": "display_data"
    }
   ],
   "source": [
    "%%R\n",
    "library(Seurat)\n",
    "library(tidyverse)\n",
    "library(patchwork)\n",
    "library(SeuratWrappers)\n",
    "fastmnn_test <- RunFastMNN(object.list = batch_list)\n",
    "fastmnn_test"
   ]
  },
  {
   "cell_type": "code",
   "execution_count": 53,
   "id": "9d729789-0ac8-4175-894a-79b5327c92dd",
   "metadata": {},
   "outputs": [
    {
     "name": "stdout",
     "output_type": "stream",
     "text": [
      "An object of class Seurat \n",
      "4000 features across 160667 samples within 2 assays \n",
      "Active assay: originalexp (2000 features, 0 variable features)\n",
      " 2 layers present: counts, data\n",
      " 1 other assay present: mnn.reconstructed\n",
      " 1 dimensional reduction calculated: mnn\n"
     ]
    }
   ],
   "source": [
    "%%R\n",
    "fastmnn_test"
   ]
  },
  {
   "cell_type": "code",
   "execution_count": 54,
   "id": "70291264-6aa4-4233-b41a-80f15e1928b9",
   "metadata": {},
   "outputs": [
    {
     "name": "stdout",
     "output_type": "stream",
     "text": [
      "10 x 10 sparse Matrix of class \"dgCMatrix\"\n",
      "                                                                              \n",
      "E13_MS10T45_1_1 -0.005001656  2.878095e-04 -0.008739553 0.006702612 0.02444431\n",
      "E13_MS10T46_1_1 -0.008538606 -8.776049e-04 -0.007584642 0.005903818 0.02335280\n",
      "E13_MS10T48_1_1 -0.005763724 -8.466320e-04 -0.007652116 0.005794694 0.02461755\n",
      "E13_MS10T49_1_1 -0.009387452 -1.064435e-04 -0.005464187 0.006269262 0.01983828\n",
      "E13_MS13T66_1_1 -0.010742164  8.168143e-06 -0.005589340 0.005898746 0.02220069\n",
      "E13_MS13T67_1_1 -0.007948626 -1.398696e-04 -0.004903757 0.005707800 0.02196407\n",
      "E13_MS13T68_1_1 -0.005540180 -6.755594e-04 -0.006798039 0.005119124 0.02471964\n",
      "E13_MS13T69_1_1 -0.004282820 -1.495993e-03 -0.007653990 0.004623036 0.02313484\n",
      "E13_MS13T70_1_1 -0.009303541 -1.062261e-03 -0.007603347 0.005300486 0.02539109\n",
      "E13_MS13T71_1_1 -0.009504860 -1.931008e-04 -0.005296080 0.006236873 0.02355503\n",
      "                                                                               \n",
      "E13_MS10T45_1_1 -0.01559771 -1.597058e-04  0.0005608580 0.0015865698 0.02447384\n",
      "E13_MS10T46_1_1 -0.01533488 -4.890041e-05 -0.0008546888 0.0021127261 0.02569603\n",
      "E13_MS10T48_1_1 -0.01866072 -5.821169e-05 -0.0012509587 0.0010620890 0.02266050\n",
      "E13_MS10T49_1_1 -0.01945001  3.653542e-04  0.0006639106 0.0012396176 0.02328492\n",
      "E13_MS13T66_1_1 -0.01843725  6.034183e-05 -0.0002652809 0.0006219386 0.02317405\n",
      "E13_MS13T67_1_1 -0.01598906  4.842055e-05 -0.0015314897 0.0001460327 0.02439606\n",
      "E13_MS13T68_1_1 -0.01514646 -5.685993e-04 -0.0010977261 0.0010008916 0.02659211\n",
      "E13_MS13T69_1_1 -0.01254287 -6.769721e-04 -0.0013196561 0.0017191229 0.02550536\n",
      "E13_MS13T70_1_1 -0.02243683 -3.581503e-04 -0.0005317418 0.0007336704 0.02295997\n",
      "E13_MS13T71_1_1 -0.01977074  4.528748e-04  0.0002028248 0.0005797809 0.02320276\n"
     ]
    },
    {
     "data": {
      "text/plain": [
       "  [[ suppressing 10 column names ‘KIF26B’, ‘PLD5’, ‘RYR2’ ... ]]\n"
      ]
     },
     "metadata": {},
     "output_type": "display_data"
    }
   ],
   "source": [
    "%%R -o fastmnn_expr\n",
    "fastmnn_expr <- GetAssayData(fastmnn_test, assay = \"mnn.reconstructed\")\n",
    "\n",
    "fastmnn_expr <- fastmnn_expr[rownames(fastmnn), colnames(fastmnn)]\n",
    "\n",
    "fastmnn_expr <- t(fastmnn_expr)\n",
    "print(fastmnn_expr[1:10, 1:10])"
   ]
  },
  {
   "cell_type": "code",
   "execution_count": 55,
   "id": "2c191c8d-8a59-4c50-8daa-aafa7cbc5fe3",
   "metadata": {},
   "outputs": [
    {
     "data": {
      "text/html": [
       "<pre style=\"white-space:pre;overflow-x:auto;line-height:normal;font-family:Menlo,'DejaVu Sans Mono',consolas,'Courier New',monospace\">AnnData object with n_obs × n_vars = <span style=\"color: #008080; text-decoration-color: #008080; font-weight: bold\">160667</span> × <span style=\"color: #008080; text-decoration-color: #008080; font-weight: bold\">2000</span>\n",
       "    obs: <span style=\"color: #008000; text-decoration-color: #008000\">'orig.ident'</span>, <span style=\"color: #008000; text-decoration-color: #008000\">'nCount_RNA'</span>, <span style=\"color: #008000; text-decoration-color: #008000\">'nFeature_RNA'</span>, <span style=\"color: #008000; text-decoration-color: #008000\">'sample'</span>, <span style=\"color: #008000; text-decoration-color: #008000\">'stage'</span>, <span style=\"color: #008000; text-decoration-color: #008000\">'percent.mt'</span>, <span style=\"color: #008000; text-decoration-color: #008000\">'species'</span>, <span style=\"color: #008000; text-decoration-color: #008000\">'embryo'</span>, \n",
       "<span style=\"color: #008000; text-decoration-color: #008000\">'platform'</span>, <span style=\"color: #008000; text-decoration-color: #008000\">'anno'</span>, <span style=\"color: #008000; text-decoration-color: #008000\">'sub_anno'</span>, <span style=\"color: #008000; text-decoration-color: #008000\">'harmo.anno'</span>, <span style=\"color: #008000; text-decoration-color: #008000\">'doublet'</span>, <span style=\"color: #008000; text-decoration-color: #008000\">'doublet_score'</span>, <span style=\"color: #008000; text-decoration-color: #008000\">'_scvi_batch'</span>, <span style=\"color: #008000; text-decoration-color: #008000\">'_scvi_labels'</span>\n",
       "    var: <span style=\"color: #008000; text-decoration-color: #008000\">'features'</span>, <span style=\"color: #008000; text-decoration-color: #008000\">'n_cells'</span>, <span style=\"color: #008000; text-decoration-color: #008000\">'highly_variable'</span>, <span style=\"color: #008000; text-decoration-color: #008000\">'means'</span>, <span style=\"color: #008000; text-decoration-color: #008000\">'dispersions'</span>, <span style=\"color: #008000; text-decoration-color: #008000\">'dispersions_norm'</span>, \n",
       "<span style=\"color: #008000; text-decoration-color: #008000\">'highly_variable_nbatches'</span>, <span style=\"color: #008000; text-decoration-color: #008000\">'highly_variable_intersection'</span>\n",
       "    obsm: <span style=\"color: #008000; text-decoration-color: #008000\">'X_pca'</span>, <span style=\"color: #008000; text-decoration-color: #008000\">'Unintegrated'</span>, <span style=\"color: #008000; text-decoration-color: #008000\">'Scanorama'</span>, <span style=\"color: #008000; text-decoration-color: #008000\">'X_Scanorama'</span>, <span style=\"color: #008000; text-decoration-color: #008000\">'LIGER'</span>, <span style=\"color: #008000; text-decoration-color: #008000\">'X_LIGER'</span>, <span style=\"color: #008000; text-decoration-color: #008000\">'Harmony'</span>, <span style=\"color: #008000; text-decoration-color: #008000\">'X_Harmony'</span>, <span style=\"color: #008000; text-decoration-color: #008000\">'scVI'</span>, \n",
       "<span style=\"color: #008000; text-decoration-color: #008000\">'X_scVI'</span>, <span style=\"color: #008000; text-decoration-color: #008000\">'scANVI'</span>, <span style=\"color: #008000; text-decoration-color: #008000\">'X_scANVI'</span>, <span style=\"color: #008000; text-decoration-color: #008000\">'CCA'</span>, <span style=\"color: #008000; text-decoration-color: #008000\">'X_CCA'</span>\n",
       "    varm: <span style=\"color: #008000; text-decoration-color: #008000\">'PCs'</span>\n",
       "    layers: <span style=\"color: #008000; text-decoration-color: #008000\">'counts'</span>, <span style=\"color: #008000; text-decoration-color: #008000\">'logcounts'</span>, <span style=\"color: #008000; text-decoration-color: #008000\">'fastmnn'</span>\n",
       "</pre>\n"
      ],
      "text/plain": [
       "AnnData object with n_obs × n_vars = \u001b[1;36m160667\u001b[0m × \u001b[1;36m2000\u001b[0m\n",
       "    obs: \u001b[32m'orig.ident'\u001b[0m, \u001b[32m'nCount_RNA'\u001b[0m, \u001b[32m'nFeature_RNA'\u001b[0m, \u001b[32m'sample'\u001b[0m, \u001b[32m'stage'\u001b[0m, \u001b[32m'percent.mt'\u001b[0m, \u001b[32m'species'\u001b[0m, \u001b[32m'embryo'\u001b[0m, \n",
       "\u001b[32m'platform'\u001b[0m, \u001b[32m'anno'\u001b[0m, \u001b[32m'sub_anno'\u001b[0m, \u001b[32m'harmo.anno'\u001b[0m, \u001b[32m'doublet'\u001b[0m, \u001b[32m'doublet_score'\u001b[0m, \u001b[32m'_scvi_batch'\u001b[0m, \u001b[32m'_scvi_labels'\u001b[0m\n",
       "    var: \u001b[32m'features'\u001b[0m, \u001b[32m'n_cells'\u001b[0m, \u001b[32m'highly_variable'\u001b[0m, \u001b[32m'means'\u001b[0m, \u001b[32m'dispersions'\u001b[0m, \u001b[32m'dispersions_norm'\u001b[0m, \n",
       "\u001b[32m'highly_variable_nbatches'\u001b[0m, \u001b[32m'highly_variable_intersection'\u001b[0m\n",
       "    obsm: \u001b[32m'X_pca'\u001b[0m, \u001b[32m'Unintegrated'\u001b[0m, \u001b[32m'Scanorama'\u001b[0m, \u001b[32m'X_Scanorama'\u001b[0m, \u001b[32m'LIGER'\u001b[0m, \u001b[32m'X_LIGER'\u001b[0m, \u001b[32m'Harmony'\u001b[0m, \u001b[32m'X_Harmony'\u001b[0m, \u001b[32m'scVI'\u001b[0m, \n",
       "\u001b[32m'X_scVI'\u001b[0m, \u001b[32m'scANVI'\u001b[0m, \u001b[32m'X_scANVI'\u001b[0m, \u001b[32m'CCA'\u001b[0m, \u001b[32m'X_CCA'\u001b[0m\n",
       "    varm: \u001b[32m'PCs'\u001b[0m\n",
       "    layers: \u001b[32m'counts'\u001b[0m, \u001b[32m'logcounts'\u001b[0m, \u001b[32m'fastmnn'\u001b[0m\n"
      ]
     },
     "metadata": {},
     "output_type": "display_data"
    },
    {
     "data": {
      "text/plain": [
       "<160667x44223 sparse matrix of type '<class 'numpy.float64'>'\n",
       "\twith 842301664 stored elements in Compressed Sparse Row format>"
      ]
     },
     "execution_count": 55,
     "metadata": {},
     "output_type": "execute_result"
    }
   ],
   "source": [
    "## save to adata key\n",
    "adata_fastmnn.X = fastmnn_expr\n",
    "adata_fastmnn.layers[\"fastmnn\"] = fastmnn_expr\n",
    "print(adata_fastmnn)\n",
    "adata.X"
   ]
  },
  {
   "cell_type": "code",
   "execution_count": 56,
   "id": "5bac5c67-3b2d-43bc-82e7-e7884cbedf70",
   "metadata": {},
   "outputs": [],
   "source": [
    "sc.tl.pca(adata_fastmnn)\n",
    "adata.obsm[\"FastMNN\"] = adata_fastmnn.obsm[\"X_pca\"]\n",
    "adata_hvg.obsm[\"FastMNN\"] = adata_fastmnn.obsm[\"X_pca\"]"
   ]
  },
  {
   "cell_type": "code",
   "execution_count": null,
   "id": "1fe806ed-d03f-4ae7-9d74-9d0ee98ceb68",
   "metadata": {},
   "outputs": [],
   "source": [
    "sc.pp.neighbors(adata, use_rep=\"FastMNN\",random_state=42)\n",
    "sc.tl.leiden(adata, resolution=0.5, key_added=f\"FastMNN_res_0.5\",random_state=42)\n",
    "sc.tl.umap(adata,random_state=42)\n",
    "adata.obsm['X_FastMNN'] = adata.obsm['X_umap']\n",
    "adata_hvg.obsm['X_FastMNN'] = adata.obsm['X_FastMNN']\n",
    "sc.pl.umap(adata, color=['orig.ident'],save=\"FastMNN_orig.ident.pdf\")\n",
    "sc.pl.umap(adata, color=['FastMNN_res_0.5'],save=\"FastMNN_res_0.5.pdf\")\n",
    "sc.pl.umap(adata, color=['stage'],save=\"FastMNN_stage.pdf\")\n",
    "sc.pl.umap(adata, color=['harmo.anno'],save=\"FastMNN_harmo.anno.pdf\")"
   ]
  },
  {
   "cell_type": "code",
   "execution_count": 58,
   "id": "62483a9d-f884-464a-a2f5-616edef2870b",
   "metadata": {},
   "outputs": [
    {
     "data": {
      "text/plain": [
       "AnnData object with n_obs × n_vars = 160667 × 44223\n",
       "    obs: 'orig.ident', 'nCount_RNA', 'nFeature_RNA', 'sample', 'stage', 'percent.mt', 'species', 'embryo', 'platform', 'anno', 'sub_anno', 'harmo.anno', 'doublet', 'doublet_score', 'Unintegrated_res_0.5', 'Scanorama_res_0.5', 'LIGER_res_0.5', 'Harmony_res_0.5', 'scVI_res_0.5', 'scANVI_res_0.5', 'CCA_res_0.5', 'FastMNN_res_0.5'\n",
       "    var: 'features', 'n_cells', 'highly_variable', 'means', 'dispersions', 'dispersions_norm', 'highly_variable_nbatches', 'highly_variable_intersection'\n",
       "    uns: 'log1p', 'hvg', 'pca', 'neighbors', 'leiden', 'umap', 'orig.ident_colors', 'Unintegrated_res_0.5_colors', 'stage_colors', 'harmo.anno_colors', 'Scanorama_res_0.5_colors', 'LIGER_res_0.5_colors', 'Harmony_res_0.5_colors', 'scVI_res_0.5_colors', 'scANVI_res_0.5_colors', 'CCA_res_0.5_colors', 'FastMNN_res_0.5_colors'\n",
       "    obsm: 'X_pca', 'Unintegrated', 'X_umap', 'X_Unintegrated', 'Scanorama', 'X_Scanorama', 'LIGER', 'X_LIGER', 'Harmony', 'X_Harmony', 'scVI', 'X_scVI', 'scANVI', 'X_scANVI', 'CCA', 'X_CCA', 'FastMNN', 'X_FastMNN'\n",
       "    varm: 'PCs'\n",
       "    layers: 'counts', 'logcounts'\n",
       "    obsp: 'distances', 'connectivities'"
      ]
     },
     "execution_count": 58,
     "metadata": {},
     "output_type": "execute_result"
    }
   ],
   "source": [
    "adata"
   ]
  },
  {
   "cell_type": "code",
   "execution_count": 59,
   "id": "7e559c79-3c62-4eef-8b6c-da2745d02068",
   "metadata": {},
   "outputs": [
    {
     "data": {
      "text/html": [
       "<pre style=\"white-space:pre;overflow-x:auto;line-height:normal;font-family:Menlo,'DejaVu Sans Mono',consolas,'Courier New',monospace\">  <span style=\"font-weight: bold\">(</span><span style=\"color: #008080; text-decoration-color: #008080; font-weight: bold\">0</span>, <span style=\"color: #008080; text-decoration-color: #008080; font-weight: bold\">0</span><span style=\"font-weight: bold\">)</span>        <span style=\"color: #008080; text-decoration-color: #008080; font-weight: bold\">10.4088</span>\n",
       "  <span style=\"font-weight: bold\">(</span><span style=\"color: #008080; text-decoration-color: #008080; font-weight: bold\">0</span>, <span style=\"color: #008080; text-decoration-color: #008080; font-weight: bold\">2</span><span style=\"font-weight: bold\">)</span>        <span style=\"color: #008080; text-decoration-color: #008080; font-weight: bold\">11.8958</span>\n",
       "  <span style=\"font-weight: bold\">(</span><span style=\"color: #008080; text-decoration-color: #008080; font-weight: bold\">0</span>, <span style=\"color: #008080; text-decoration-color: #008080; font-weight: bold\">3</span><span style=\"font-weight: bold\">)</span>        <span style=\"color: #008080; text-decoration-color: #008080; font-weight: bold\">34.2003</span>\n",
       "  <span style=\"font-weight: bold\">(</span><span style=\"color: #008080; text-decoration-color: #008080; font-weight: bold\">0</span>, <span style=\"color: #008080; text-decoration-color: #008080; font-weight: bold\">26</span><span style=\"font-weight: bold\">)</span>       <span style=\"color: #008080; text-decoration-color: #008080; font-weight: bold\">7.43484</span>\n",
       "  <span style=\"font-weight: bold\">(</span><span style=\"color: #008080; text-decoration-color: #008080; font-weight: bold\">0</span>, <span style=\"color: #008080; text-decoration-color: #008080; font-weight: bold\">38</span><span style=\"font-weight: bold\">)</span>       <span style=\"color: #008080; text-decoration-color: #008080; font-weight: bold\">92.1921</span>\n",
       "  <span style=\"font-weight: bold\">(</span><span style=\"color: #008080; text-decoration-color: #008080; font-weight: bold\">0</span>, <span style=\"color: #008080; text-decoration-color: #008080; font-weight: bold\">39</span><span style=\"font-weight: bold\">)</span>       <span style=\"color: #008080; text-decoration-color: #008080; font-weight: bold\">13.3827</span>\n",
       "  <span style=\"font-weight: bold\">(</span><span style=\"color: #008080; text-decoration-color: #008080; font-weight: bold\">0</span>, <span style=\"color: #008080; text-decoration-color: #008080; font-weight: bold\">41</span><span style=\"font-weight: bold\">)</span>       <span style=\"color: #008080; text-decoration-color: #008080; font-weight: bold\">5.94788</span>\n",
       "  <span style=\"font-weight: bold\">(</span><span style=\"color: #008080; text-decoration-color: #008080; font-weight: bold\">0</span>, <span style=\"color: #008080; text-decoration-color: #008080; font-weight: bold\">42</span><span style=\"font-weight: bold\">)</span>       <span style=\"color: #008080; text-decoration-color: #008080; font-weight: bold\">2.97394</span>\n",
       "  <span style=\"font-weight: bold\">(</span><span style=\"color: #008080; text-decoration-color: #008080; font-weight: bold\">0</span>, <span style=\"color: #008080; text-decoration-color: #008080; font-weight: bold\">43</span><span style=\"font-weight: bold\">)</span>       <span style=\"color: #008080; text-decoration-color: #008080; font-weight: bold\">5.94788</span>\n",
       "  <span style=\"font-weight: bold\">(</span><span style=\"color: #008080; text-decoration-color: #008080; font-weight: bold\">0</span>, <span style=\"color: #008080; text-decoration-color: #008080; font-weight: bold\">44</span><span style=\"font-weight: bold\">)</span>       <span style=\"color: #008080; text-decoration-color: #008080; font-weight: bold\">2.97394</span>\n",
       "  <span style=\"font-weight: bold\">(</span><span style=\"color: #008080; text-decoration-color: #008080; font-weight: bold\">0</span>, <span style=\"color: #008080; text-decoration-color: #008080; font-weight: bold\">46</span><span style=\"font-weight: bold\">)</span>       <span style=\"color: #008080; text-decoration-color: #008080; font-weight: bold\">72.8615</span>\n",
       "  <span style=\"font-weight: bold\">(</span><span style=\"color: #008080; text-decoration-color: #008080; font-weight: bold\">0</span>, <span style=\"color: #008080; text-decoration-color: #008080; font-weight: bold\">48</span><span style=\"font-weight: bold\">)</span>       <span style=\"color: #008080; text-decoration-color: #008080; font-weight: bold\">26.7654</span>\n",
       "  <span style=\"font-weight: bold\">(</span><span style=\"color: #008080; text-decoration-color: #008080; font-weight: bold\">0</span>, <span style=\"color: #008080; text-decoration-color: #008080; font-weight: bold\">49</span><span style=\"font-weight: bold\">)</span>       <span style=\"color: #008080; text-decoration-color: #008080; font-weight: bold\">5.94788</span>\n",
       "  <span style=\"font-weight: bold\">(</span><span style=\"color: #008080; text-decoration-color: #008080; font-weight: bold\">0</span>, <span style=\"color: #008080; text-decoration-color: #008080; font-weight: bold\">51</span><span style=\"font-weight: bold\">)</span>       <span style=\"color: #008080; text-decoration-color: #008080; font-weight: bold\">17.8436</span>\n",
       "  <span style=\"font-weight: bold\">(</span><span style=\"color: #008080; text-decoration-color: #008080; font-weight: bold\">0</span>, <span style=\"color: #008080; text-decoration-color: #008080; font-weight: bold\">52</span><span style=\"font-weight: bold\">)</span>       <span style=\"color: #008080; text-decoration-color: #008080; font-weight: bold\">52.0439</span>\n",
       "  <span style=\"font-weight: bold\">(</span><span style=\"color: #008080; text-decoration-color: #008080; font-weight: bold\">0</span>, <span style=\"color: #008080; text-decoration-color: #008080; font-weight: bold\">54</span><span style=\"font-weight: bold\">)</span>       <span style=\"color: #008080; text-decoration-color: #008080; font-weight: bold\">20.8176</span>\n",
       "  <span style=\"font-weight: bold\">(</span><span style=\"color: #008080; text-decoration-color: #008080; font-weight: bold\">0</span>, <span style=\"color: #008080; text-decoration-color: #008080; font-weight: bold\">57</span><span style=\"font-weight: bold\">)</span>       <span style=\"color: #008080; text-decoration-color: #008080; font-weight: bold\">132.34</span>\n",
       "  <span style=\"font-weight: bold\">(</span><span style=\"color: #008080; text-decoration-color: #008080; font-weight: bold\">0</span>, <span style=\"color: #008080; text-decoration-color: #008080; font-weight: bold\">58</span><span style=\"font-weight: bold\">)</span>       <span style=\"color: #008080; text-decoration-color: #008080; font-weight: bold\">8.92181</span>\n",
       "  <span style=\"font-weight: bold\">(</span><span style=\"color: #008080; text-decoration-color: #008080; font-weight: bold\">0</span>, <span style=\"color: #008080; text-decoration-color: #008080; font-weight: bold\">59</span><span style=\"font-weight: bold\">)</span>       <span style=\"color: #008080; text-decoration-color: #008080; font-weight: bold\">303.342</span>\n",
       "  <span style=\"font-weight: bold\">(</span><span style=\"color: #008080; text-decoration-color: #008080; font-weight: bold\">0</span>, <span style=\"color: #008080; text-decoration-color: #008080; font-weight: bold\">63</span><span style=\"font-weight: bold\">)</span>       <span style=\"color: #008080; text-decoration-color: #008080; font-weight: bold\">196.28</span>\n",
       "  <span style=\"font-weight: bold\">(</span><span style=\"color: #008080; text-decoration-color: #008080; font-weight: bold\">0</span>, <span style=\"color: #008080; text-decoration-color: #008080; font-weight: bold\">64</span><span style=\"font-weight: bold\">)</span>       <span style=\"color: #008080; text-decoration-color: #008080; font-weight: bold\">92.1921</span>\n",
       "  <span style=\"font-weight: bold\">(</span><span style=\"color: #008080; text-decoration-color: #008080; font-weight: bold\">0</span>, <span style=\"color: #008080; text-decoration-color: #008080; font-weight: bold\">67</span><span style=\"font-weight: bold\">)</span>       <span style=\"color: #008080; text-decoration-color: #008080; font-weight: bold\">89.2181</span>\n",
       "  <span style=\"font-weight: bold\">(</span><span style=\"color: #008080; text-decoration-color: #008080; font-weight: bold\">0</span>, <span style=\"color: #008080; text-decoration-color: #008080; font-weight: bold\">72</span><span style=\"font-weight: bold\">)</span>       <span style=\"color: #008080; text-decoration-color: #008080; font-weight: bold\">4.46091</span>\n",
       "  <span style=\"font-weight: bold\">(</span><span style=\"color: #008080; text-decoration-color: #008080; font-weight: bold\">0</span>, <span style=\"color: #008080; text-decoration-color: #008080; font-weight: bold\">74</span><span style=\"font-weight: bold\">)</span>       <span style=\"color: #008080; text-decoration-color: #008080; font-weight: bold\">72.8615</span>\n",
       "  <span style=\"font-weight: bold\">(</span><span style=\"color: #008080; text-decoration-color: #008080; font-weight: bold\">0</span>, <span style=\"color: #008080; text-decoration-color: #008080; font-weight: bold\">76</span><span style=\"font-weight: bold\">)</span>       <span style=\"color: #008080; text-decoration-color: #008080; font-weight: bold\">59.4788</span>\n",
       "  :     :\n",
       "  <span style=\"font-weight: bold\">(</span><span style=\"color: #008080; text-decoration-color: #008080; font-weight: bold\">160666</span>, <span style=\"color: #008080; text-decoration-color: #008080; font-weight: bold\">44028</span><span style=\"font-weight: bold\">)</span>       <span style=\"color: #008080; text-decoration-color: #008080; font-weight: bold\">29.0</span>\n",
       "  <span style=\"font-weight: bold\">(</span><span style=\"color: #008080; text-decoration-color: #008080; font-weight: bold\">160666</span>, <span style=\"color: #008080; text-decoration-color: #008080; font-weight: bold\">44037</span><span style=\"font-weight: bold\">)</span>       <span style=\"color: #008080; text-decoration-color: #008080; font-weight: bold\">15.0</span>\n",
       "  <span style=\"font-weight: bold\">(</span><span style=\"color: #008080; text-decoration-color: #008080; font-weight: bold\">160666</span>, <span style=\"color: #008080; text-decoration-color: #008080; font-weight: bold\">44038</span><span style=\"font-weight: bold\">)</span>       <span style=\"color: #008080; text-decoration-color: #008080; font-weight: bold\">696.0</span>\n",
       "  <span style=\"font-weight: bold\">(</span><span style=\"color: #008080; text-decoration-color: #008080; font-weight: bold\">160666</span>, <span style=\"color: #008080; text-decoration-color: #008080; font-weight: bold\">44042</span><span style=\"font-weight: bold\">)</span>       <span style=\"color: #008080; text-decoration-color: #008080; font-weight: bold\">115.0</span>\n",
       "  <span style=\"font-weight: bold\">(</span><span style=\"color: #008080; text-decoration-color: #008080; font-weight: bold\">160666</span>, <span style=\"color: #008080; text-decoration-color: #008080; font-weight: bold\">44045</span><span style=\"font-weight: bold\">)</span>       <span style=\"color: #008080; text-decoration-color: #008080; font-weight: bold\">23.0</span>\n",
       "  <span style=\"font-weight: bold\">(</span><span style=\"color: #008080; text-decoration-color: #008080; font-weight: bold\">160666</span>, <span style=\"color: #008080; text-decoration-color: #008080; font-weight: bold\">44073</span><span style=\"font-weight: bold\">)</span>       <span style=\"color: #008080; text-decoration-color: #008080; font-weight: bold\">44.0</span>\n",
       "  <span style=\"font-weight: bold\">(</span><span style=\"color: #008080; text-decoration-color: #008080; font-weight: bold\">160666</span>, <span style=\"color: #008080; text-decoration-color: #008080; font-weight: bold\">44084</span><span style=\"font-weight: bold\">)</span>       <span style=\"color: #008080; text-decoration-color: #008080; font-weight: bold\">1.0</span>\n",
       "  <span style=\"font-weight: bold\">(</span><span style=\"color: #008080; text-decoration-color: #008080; font-weight: bold\">160666</span>, <span style=\"color: #008080; text-decoration-color: #008080; font-weight: bold\">44090</span><span style=\"font-weight: bold\">)</span>       <span style=\"color: #008080; text-decoration-color: #008080; font-weight: bold\">1.0</span>\n",
       "  <span style=\"font-weight: bold\">(</span><span style=\"color: #008080; text-decoration-color: #008080; font-weight: bold\">160666</span>, <span style=\"color: #008080; text-decoration-color: #008080; font-weight: bold\">44094</span><span style=\"font-weight: bold\">)</span>       <span style=\"color: #008080; text-decoration-color: #008080; font-weight: bold\">45.0</span>\n",
       "  <span style=\"font-weight: bold\">(</span><span style=\"color: #008080; text-decoration-color: #008080; font-weight: bold\">160666</span>, <span style=\"color: #008080; text-decoration-color: #008080; font-weight: bold\">44102</span><span style=\"font-weight: bold\">)</span>       <span style=\"color: #008080; text-decoration-color: #008080; font-weight: bold\">3.0</span>\n",
       "  <span style=\"font-weight: bold\">(</span><span style=\"color: #008080; text-decoration-color: #008080; font-weight: bold\">160666</span>, <span style=\"color: #008080; text-decoration-color: #008080; font-weight: bold\">44104</span><span style=\"font-weight: bold\">)</span>       <span style=\"color: #008080; text-decoration-color: #008080; font-weight: bold\">2.0</span>\n",
       "  <span style=\"font-weight: bold\">(</span><span style=\"color: #008080; text-decoration-color: #008080; font-weight: bold\">160666</span>, <span style=\"color: #008080; text-decoration-color: #008080; font-weight: bold\">44111</span><span style=\"font-weight: bold\">)</span>       <span style=\"color: #008080; text-decoration-color: #008080; font-weight: bold\">35.0</span>\n",
       "  <span style=\"font-weight: bold\">(</span><span style=\"color: #008080; text-decoration-color: #008080; font-weight: bold\">160666</span>, <span style=\"color: #008080; text-decoration-color: #008080; font-weight: bold\">44115</span><span style=\"font-weight: bold\">)</span>       <span style=\"color: #008080; text-decoration-color: #008080; font-weight: bold\">26.0</span>\n",
       "  <span style=\"font-weight: bold\">(</span><span style=\"color: #008080; text-decoration-color: #008080; font-weight: bold\">160666</span>, <span style=\"color: #008080; text-decoration-color: #008080; font-weight: bold\">44121</span><span style=\"font-weight: bold\">)</span>       <span style=\"color: #008080; text-decoration-color: #008080; font-weight: bold\">1.0</span>\n",
       "  <span style=\"font-weight: bold\">(</span><span style=\"color: #008080; text-decoration-color: #008080; font-weight: bold\">160666</span>, <span style=\"color: #008080; text-decoration-color: #008080; font-weight: bold\">44139</span><span style=\"font-weight: bold\">)</span>       <span style=\"color: #008080; text-decoration-color: #008080; font-weight: bold\">1.0</span>\n",
       "  <span style=\"font-weight: bold\">(</span><span style=\"color: #008080; text-decoration-color: #008080; font-weight: bold\">160666</span>, <span style=\"color: #008080; text-decoration-color: #008080; font-weight: bold\">44143</span><span style=\"font-weight: bold\">)</span>       <span style=\"color: #008080; text-decoration-color: #008080; font-weight: bold\">67.0</span>\n",
       "  <span style=\"font-weight: bold\">(</span><span style=\"color: #008080; text-decoration-color: #008080; font-weight: bold\">160666</span>, <span style=\"color: #008080; text-decoration-color: #008080; font-weight: bold\">44153</span><span style=\"font-weight: bold\">)</span>       <span style=\"color: #008080; text-decoration-color: #008080; font-weight: bold\">1.0</span>\n",
       "  <span style=\"font-weight: bold\">(</span><span style=\"color: #008080; text-decoration-color: #008080; font-weight: bold\">160666</span>, <span style=\"color: #008080; text-decoration-color: #008080; font-weight: bold\">44171</span><span style=\"font-weight: bold\">)</span>       <span style=\"color: #008080; text-decoration-color: #008080; font-weight: bold\">5.0</span>\n",
       "  <span style=\"font-weight: bold\">(</span><span style=\"color: #008080; text-decoration-color: #008080; font-weight: bold\">160666</span>, <span style=\"color: #008080; text-decoration-color: #008080; font-weight: bold\">44184</span><span style=\"font-weight: bold\">)</span>       <span style=\"color: #008080; text-decoration-color: #008080; font-weight: bold\">2.0</span>\n",
       "  <span style=\"font-weight: bold\">(</span><span style=\"color: #008080; text-decoration-color: #008080; font-weight: bold\">160666</span>, <span style=\"color: #008080; text-decoration-color: #008080; font-weight: bold\">44186</span><span style=\"font-weight: bold\">)</span>       <span style=\"color: #008080; text-decoration-color: #008080; font-weight: bold\">9.0</span>\n",
       "  <span style=\"font-weight: bold\">(</span><span style=\"color: #008080; text-decoration-color: #008080; font-weight: bold\">160666</span>, <span style=\"color: #008080; text-decoration-color: #008080; font-weight: bold\">44191</span><span style=\"font-weight: bold\">)</span>       <span style=\"color: #008080; text-decoration-color: #008080; font-weight: bold\">1.0</span>\n",
       "  <span style=\"font-weight: bold\">(</span><span style=\"color: #008080; text-decoration-color: #008080; font-weight: bold\">160666</span>, <span style=\"color: #008080; text-decoration-color: #008080; font-weight: bold\">44199</span><span style=\"font-weight: bold\">)</span>       <span style=\"color: #008080; text-decoration-color: #008080; font-weight: bold\">1.0</span>\n",
       "  <span style=\"font-weight: bold\">(</span><span style=\"color: #008080; text-decoration-color: #008080; font-weight: bold\">160666</span>, <span style=\"color: #008080; text-decoration-color: #008080; font-weight: bold\">44207</span><span style=\"font-weight: bold\">)</span>       <span style=\"color: #008080; text-decoration-color: #008080; font-weight: bold\">23.0</span>\n",
       "  <span style=\"font-weight: bold\">(</span><span style=\"color: #008080; text-decoration-color: #008080; font-weight: bold\">160666</span>, <span style=\"color: #008080; text-decoration-color: #008080; font-weight: bold\">44211</span><span style=\"font-weight: bold\">)</span>       <span style=\"color: #008080; text-decoration-color: #008080; font-weight: bold\">85.0</span>\n",
       "  <span style=\"font-weight: bold\">(</span><span style=\"color: #008080; text-decoration-color: #008080; font-weight: bold\">160666</span>, <span style=\"color: #008080; text-decoration-color: #008080; font-weight: bold\">44218</span><span style=\"font-weight: bold\">)</span>       <span style=\"color: #008080; text-decoration-color: #008080; font-weight: bold\">14.0</span>\n",
       "</pre>\n"
      ],
      "text/plain": [
       "  \u001b[1m(\u001b[0m\u001b[1;36m0\u001b[0m, \u001b[1;36m0\u001b[0m\u001b[1m)\u001b[0m        \u001b[1;36m10.4088\u001b[0m\n",
       "  \u001b[1m(\u001b[0m\u001b[1;36m0\u001b[0m, \u001b[1;36m2\u001b[0m\u001b[1m)\u001b[0m        \u001b[1;36m11.8958\u001b[0m\n",
       "  \u001b[1m(\u001b[0m\u001b[1;36m0\u001b[0m, \u001b[1;36m3\u001b[0m\u001b[1m)\u001b[0m        \u001b[1;36m34.2003\u001b[0m\n",
       "  \u001b[1m(\u001b[0m\u001b[1;36m0\u001b[0m, \u001b[1;36m26\u001b[0m\u001b[1m)\u001b[0m       \u001b[1;36m7.43484\u001b[0m\n",
       "  \u001b[1m(\u001b[0m\u001b[1;36m0\u001b[0m, \u001b[1;36m38\u001b[0m\u001b[1m)\u001b[0m       \u001b[1;36m92.1921\u001b[0m\n",
       "  \u001b[1m(\u001b[0m\u001b[1;36m0\u001b[0m, \u001b[1;36m39\u001b[0m\u001b[1m)\u001b[0m       \u001b[1;36m13.3827\u001b[0m\n",
       "  \u001b[1m(\u001b[0m\u001b[1;36m0\u001b[0m, \u001b[1;36m41\u001b[0m\u001b[1m)\u001b[0m       \u001b[1;36m5.94788\u001b[0m\n",
       "  \u001b[1m(\u001b[0m\u001b[1;36m0\u001b[0m, \u001b[1;36m42\u001b[0m\u001b[1m)\u001b[0m       \u001b[1;36m2.97394\u001b[0m\n",
       "  \u001b[1m(\u001b[0m\u001b[1;36m0\u001b[0m, \u001b[1;36m43\u001b[0m\u001b[1m)\u001b[0m       \u001b[1;36m5.94788\u001b[0m\n",
       "  \u001b[1m(\u001b[0m\u001b[1;36m0\u001b[0m, \u001b[1;36m44\u001b[0m\u001b[1m)\u001b[0m       \u001b[1;36m2.97394\u001b[0m\n",
       "  \u001b[1m(\u001b[0m\u001b[1;36m0\u001b[0m, \u001b[1;36m46\u001b[0m\u001b[1m)\u001b[0m       \u001b[1;36m72.8615\u001b[0m\n",
       "  \u001b[1m(\u001b[0m\u001b[1;36m0\u001b[0m, \u001b[1;36m48\u001b[0m\u001b[1m)\u001b[0m       \u001b[1;36m26.7654\u001b[0m\n",
       "  \u001b[1m(\u001b[0m\u001b[1;36m0\u001b[0m, \u001b[1;36m49\u001b[0m\u001b[1m)\u001b[0m       \u001b[1;36m5.94788\u001b[0m\n",
       "  \u001b[1m(\u001b[0m\u001b[1;36m0\u001b[0m, \u001b[1;36m51\u001b[0m\u001b[1m)\u001b[0m       \u001b[1;36m17.8436\u001b[0m\n",
       "  \u001b[1m(\u001b[0m\u001b[1;36m0\u001b[0m, \u001b[1;36m52\u001b[0m\u001b[1m)\u001b[0m       \u001b[1;36m52.0439\u001b[0m\n",
       "  \u001b[1m(\u001b[0m\u001b[1;36m0\u001b[0m, \u001b[1;36m54\u001b[0m\u001b[1m)\u001b[0m       \u001b[1;36m20.8176\u001b[0m\n",
       "  \u001b[1m(\u001b[0m\u001b[1;36m0\u001b[0m, \u001b[1;36m57\u001b[0m\u001b[1m)\u001b[0m       \u001b[1;36m132.34\u001b[0m\n",
       "  \u001b[1m(\u001b[0m\u001b[1;36m0\u001b[0m, \u001b[1;36m58\u001b[0m\u001b[1m)\u001b[0m       \u001b[1;36m8.92181\u001b[0m\n",
       "  \u001b[1m(\u001b[0m\u001b[1;36m0\u001b[0m, \u001b[1;36m59\u001b[0m\u001b[1m)\u001b[0m       \u001b[1;36m303.342\u001b[0m\n",
       "  \u001b[1m(\u001b[0m\u001b[1;36m0\u001b[0m, \u001b[1;36m63\u001b[0m\u001b[1m)\u001b[0m       \u001b[1;36m196.28\u001b[0m\n",
       "  \u001b[1m(\u001b[0m\u001b[1;36m0\u001b[0m, \u001b[1;36m64\u001b[0m\u001b[1m)\u001b[0m       \u001b[1;36m92.1921\u001b[0m\n",
       "  \u001b[1m(\u001b[0m\u001b[1;36m0\u001b[0m, \u001b[1;36m67\u001b[0m\u001b[1m)\u001b[0m       \u001b[1;36m89.2181\u001b[0m\n",
       "  \u001b[1m(\u001b[0m\u001b[1;36m0\u001b[0m, \u001b[1;36m72\u001b[0m\u001b[1m)\u001b[0m       \u001b[1;36m4.46091\u001b[0m\n",
       "  \u001b[1m(\u001b[0m\u001b[1;36m0\u001b[0m, \u001b[1;36m74\u001b[0m\u001b[1m)\u001b[0m       \u001b[1;36m72.8615\u001b[0m\n",
       "  \u001b[1m(\u001b[0m\u001b[1;36m0\u001b[0m, \u001b[1;36m76\u001b[0m\u001b[1m)\u001b[0m       \u001b[1;36m59.4788\u001b[0m\n",
       "  :     :\n",
       "  \u001b[1m(\u001b[0m\u001b[1;36m160666\u001b[0m, \u001b[1;36m44028\u001b[0m\u001b[1m)\u001b[0m       \u001b[1;36m29.0\u001b[0m\n",
       "  \u001b[1m(\u001b[0m\u001b[1;36m160666\u001b[0m, \u001b[1;36m44037\u001b[0m\u001b[1m)\u001b[0m       \u001b[1;36m15.0\u001b[0m\n",
       "  \u001b[1m(\u001b[0m\u001b[1;36m160666\u001b[0m, \u001b[1;36m44038\u001b[0m\u001b[1m)\u001b[0m       \u001b[1;36m696.0\u001b[0m\n",
       "  \u001b[1m(\u001b[0m\u001b[1;36m160666\u001b[0m, \u001b[1;36m44042\u001b[0m\u001b[1m)\u001b[0m       \u001b[1;36m115.0\u001b[0m\n",
       "  \u001b[1m(\u001b[0m\u001b[1;36m160666\u001b[0m, \u001b[1;36m44045\u001b[0m\u001b[1m)\u001b[0m       \u001b[1;36m23.0\u001b[0m\n",
       "  \u001b[1m(\u001b[0m\u001b[1;36m160666\u001b[0m, \u001b[1;36m44073\u001b[0m\u001b[1m)\u001b[0m       \u001b[1;36m44.0\u001b[0m\n",
       "  \u001b[1m(\u001b[0m\u001b[1;36m160666\u001b[0m, \u001b[1;36m44084\u001b[0m\u001b[1m)\u001b[0m       \u001b[1;36m1.0\u001b[0m\n",
       "  \u001b[1m(\u001b[0m\u001b[1;36m160666\u001b[0m, \u001b[1;36m44090\u001b[0m\u001b[1m)\u001b[0m       \u001b[1;36m1.0\u001b[0m\n",
       "  \u001b[1m(\u001b[0m\u001b[1;36m160666\u001b[0m, \u001b[1;36m44094\u001b[0m\u001b[1m)\u001b[0m       \u001b[1;36m45.0\u001b[0m\n",
       "  \u001b[1m(\u001b[0m\u001b[1;36m160666\u001b[0m, \u001b[1;36m44102\u001b[0m\u001b[1m)\u001b[0m       \u001b[1;36m3.0\u001b[0m\n",
       "  \u001b[1m(\u001b[0m\u001b[1;36m160666\u001b[0m, \u001b[1;36m44104\u001b[0m\u001b[1m)\u001b[0m       \u001b[1;36m2.0\u001b[0m\n",
       "  \u001b[1m(\u001b[0m\u001b[1;36m160666\u001b[0m, \u001b[1;36m44111\u001b[0m\u001b[1m)\u001b[0m       \u001b[1;36m35.0\u001b[0m\n",
       "  \u001b[1m(\u001b[0m\u001b[1;36m160666\u001b[0m, \u001b[1;36m44115\u001b[0m\u001b[1m)\u001b[0m       \u001b[1;36m26.0\u001b[0m\n",
       "  \u001b[1m(\u001b[0m\u001b[1;36m160666\u001b[0m, \u001b[1;36m44121\u001b[0m\u001b[1m)\u001b[0m       \u001b[1;36m1.0\u001b[0m\n",
       "  \u001b[1m(\u001b[0m\u001b[1;36m160666\u001b[0m, \u001b[1;36m44139\u001b[0m\u001b[1m)\u001b[0m       \u001b[1;36m1.0\u001b[0m\n",
       "  \u001b[1m(\u001b[0m\u001b[1;36m160666\u001b[0m, \u001b[1;36m44143\u001b[0m\u001b[1m)\u001b[0m       \u001b[1;36m67.0\u001b[0m\n",
       "  \u001b[1m(\u001b[0m\u001b[1;36m160666\u001b[0m, \u001b[1;36m44153\u001b[0m\u001b[1m)\u001b[0m       \u001b[1;36m1.0\u001b[0m\n",
       "  \u001b[1m(\u001b[0m\u001b[1;36m160666\u001b[0m, \u001b[1;36m44171\u001b[0m\u001b[1m)\u001b[0m       \u001b[1;36m5.0\u001b[0m\n",
       "  \u001b[1m(\u001b[0m\u001b[1;36m160666\u001b[0m, \u001b[1;36m44184\u001b[0m\u001b[1m)\u001b[0m       \u001b[1;36m2.0\u001b[0m\n",
       "  \u001b[1m(\u001b[0m\u001b[1;36m160666\u001b[0m, \u001b[1;36m44186\u001b[0m\u001b[1m)\u001b[0m       \u001b[1;36m9.0\u001b[0m\n",
       "  \u001b[1m(\u001b[0m\u001b[1;36m160666\u001b[0m, \u001b[1;36m44191\u001b[0m\u001b[1m)\u001b[0m       \u001b[1;36m1.0\u001b[0m\n",
       "  \u001b[1m(\u001b[0m\u001b[1;36m160666\u001b[0m, \u001b[1;36m44199\u001b[0m\u001b[1m)\u001b[0m       \u001b[1;36m1.0\u001b[0m\n",
       "  \u001b[1m(\u001b[0m\u001b[1;36m160666\u001b[0m, \u001b[1;36m44207\u001b[0m\u001b[1m)\u001b[0m       \u001b[1;36m23.0\u001b[0m\n",
       "  \u001b[1m(\u001b[0m\u001b[1;36m160666\u001b[0m, \u001b[1;36m44211\u001b[0m\u001b[1m)\u001b[0m       \u001b[1;36m85.0\u001b[0m\n",
       "  \u001b[1m(\u001b[0m\u001b[1;36m160666\u001b[0m, \u001b[1;36m44218\u001b[0m\u001b[1m)\u001b[0m       \u001b[1;36m14.0\u001b[0m\n"
      ]
     },
     "metadata": {},
     "output_type": "display_data"
    }
   ],
   "source": [
    "print(adata.layers[\"counts\"])"
   ]
  },
  {
   "cell_type": "code",
   "execution_count": 60,
   "id": "4435d4cf-05ea-485b-bbff-6d336cd4edf2",
   "metadata": {},
   "outputs": [
    {
     "name": "stderr",
     "output_type": "stream",
     "text": [
      "Computing neighbors: 100%|███████████████████████████████████████████████████████████████████████████████████████████| 8/8 [17:52<00:00, 134.10s/it]\n",
      "Embeddings:   0%|\u001b[32m                                                                                                             \u001b[0m| 0/8 [00:00<?, ?it/s]\u001b[0m\n",
      "Metrics:   0%|\u001b[34m                                                                                                               \u001b[0m| 0/10 [00:00<?, ?it/s]\u001b[0m\u001b[A\n",
      "Metrics:   0%|\u001b[34m                                                                            \u001b[0m| 0/10 [00:00<?, ?it/s, Bio conservation: isolated_labels]\u001b[0m\u001b[A\n",
      "Metrics:  10%|\u001b[34m██████▋                                                            \u001b[0m| 1/10 [03:24<30:39, 204.36s/it, Bio conservation: isolated_labels]\u001b[0m\u001b[A\n",
      "Metrics:  10%|\u001b[34m█████▎                                               \u001b[0m| 1/10 [03:24<30:39, 204.36s/it, Bio conservation: nmi_ari_cluster_labels_kmeans]\u001b[0m\u001b[A\n",
      "Metrics:  20%|\u001b[34m██████████▊                                           \u001b[0m| 2/10 [03:36<12:08, 91.11s/it, Bio conservation: nmi_ari_cluster_labels_kmeans]\u001b[0m\u001b[A\n",
      "Metrics:  20%|\u001b[34m█████████████▍                                                     \u001b[0m| 2/10 [03:36<12:08, 91.11s/it, Bio conservation: silhouette_label]\u001b[0m\u001b[A\n",
      "Metrics:  30%|\u001b[34m████████████████████                                               \u001b[0m| 3/10 [05:14<11:00, 94.34s/it, Bio conservation: silhouette_label]\u001b[0m\u001b[A\n",
      "Metrics:  30%|\u001b[34m██████████████████████▏                                                   \u001b[0m| 3/10 [05:14<11:00, 94.34s/it, Bio conservation: clisi_knn]\u001b[0m\u001b[A\n",
      "Metrics:  40%|\u001b[34m█████████████████████████████▌                                            \u001b[0m| 4/10 [05:17<05:50, 58.34s/it, Bio conservation: clisi_knn]\u001b[0m\u001b[A\n",
      "Metrics:  40%|\u001b[34m██████████████████████████▊                                        \u001b[0m| 4/10 [05:17<05:50, 58.34s/it, Batch correction: silhouette_batch]\u001b[0m\u001b[A\n",
      "Metrics:  50%|\u001b[34m█████████████████████████████████▌                                 \u001b[0m| 5/10 [05:39<03:47, 45.40s/it, Batch correction: silhouette_batch]\u001b[0m\u001b[A\n",
      "Metrics:  50%|\u001b[34m█████████████████████████████████████                                     \u001b[0m| 5/10 [05:40<03:47, 45.40s/it, Batch correction: ilisi_knn]\u001b[0m\u001b[A\n",
      "Metrics:  60%|\u001b[34m████████████████████████████████████████████▍                             \u001b[0m| 6/10 [05:42<02:02, 30.73s/it, Batch correction: ilisi_knn]\u001b[0m\u001b[A\n",
      "Metrics:  60%|\u001b[34m█████████████████████████████████████████▍                           \u001b[0m| 6/10 [05:42<02:02, 30.73s/it, Batch correction: kbet_per_label]\u001b[0m\u001b[A"
     ]
    },
    {
     "name": "stdout",
     "output_type": "stream",
     "text": [
      "\u001b[34mINFO    \u001b[0m ICM consists of a single batch or is too small. Skip.                                                     \n",
      "\u001b[34mINFO    \u001b[0m Node consists of a single batch or is too small. Skip.                                                    \n"
     ]
    },
    {
     "name": "stderr",
     "output_type": "stream",
     "text": [
      "\n",
      "Metrics:  70%|\u001b[34m████████████████████████████████████████████████▎                    \u001b[0m| 7/10 [07:12<02:31, 50.34s/it, Batch correction: kbet_per_label]\u001b[0m\u001b[A\n",
      "Metrics:  70%|\u001b[34m█████████████████████████████████████████████▌                   \u001b[0m| 7/10 [07:12<02:31, 50.34s/it, Batch correction: graph_connectivity]\u001b[0m\u001b[A\n",
      "Metrics:  80%|\u001b[34m████████████████████████████████████████████████████             \u001b[0m| 8/10 [07:13<01:08, 34.39s/it, Batch correction: graph_connectivity]\u001b[0m\u001b[A\n",
      "Metrics:  80%|\u001b[34m███████████████████████████████████████████████████████▏             \u001b[0m| 8/10 [07:13<01:08, 34.39s/it, Batch correction: pcr_comparison]\u001b[0m\u001b[A\n",
      "Embeddings:  12%|\u001b[32m████████████▌                                                                                       \u001b[0m| 1/8 [07:14<50:41, 434.44s/it]\u001b[0m\u001b[A\n",
      "Metrics:   0%|\u001b[34m                                                                                                               \u001b[0m| 0/10 [00:00<?, ?it/s]\u001b[0m\u001b[A\n",
      "                                                                                                                                                    \u001b[A\n",
      "Metrics:   0%|\u001b[34m                                                                            \u001b[0m| 0/10 [00:00<?, ?it/s, Bio conservation: isolated_labels]\u001b[0m\u001b[A\n",
      "Metrics:  10%|\u001b[34m██████▍                                                         \u001b[0m| 1/10 [48:57<7:20:38, 2937.57s/it, Bio conservation: isolated_labels]\u001b[0m\u001b[A\n",
      "Metrics:  10%|\u001b[34m█████                                             \u001b[0m| 1/10 [48:57<7:20:38, 2937.57s/it, Bio conservation: nmi_ari_cluster_labels_kmeans]\u001b[0m\u001b[A\n",
      "Metrics:  20%|\u001b[34m██████████                                        \u001b[0m| 2/10 [49:13<2:42:30, 1218.81s/it, Bio conservation: nmi_ari_cluster_labels_kmeans]\u001b[0m\u001b[A\n",
      "Metrics:  20%|\u001b[34m████████████▌                                                  \u001b[0m| 2/10 [49:13<2:42:30, 1218.81s/it, Bio conservation: silhouette_label]\u001b[0m\u001b[A\n",
      "Metrics:  30%|\u001b[34m██████████████████▎                                          \u001b[0m| 3/10 [1:14:12<2:37:09, 1347.06s/it, Bio conservation: silhouette_label]\u001b[0m\u001b[A\n",
      "Metrics:  30%|\u001b[34m████████████████████▍                                               \u001b[0m| 3/10 [1:14:12<2:37:09, 1347.06s/it, Bio conservation: clisi_knn]\u001b[0m\u001b[A\n",
      "Metrics:  40%|\u001b[34m███████████████████████████▌                                         \u001b[0m| 4/10 [1:14:14<1:21:36, 816.04s/it, Bio conservation: clisi_knn]\u001b[0m\u001b[A\n",
      "Metrics:  40%|\u001b[34m████████████████████████▊                                     \u001b[0m| 4/10 [1:14:14<1:21:36, 816.04s/it, Batch correction: silhouette_batch]\u001b[0m\u001b[A\n",
      "Metrics:  50%|\u001b[34m████████████████████████████████                                \u001b[0m| 5/10 [1:18:33<51:15, 615.06s/it, Batch correction: silhouette_batch]\u001b[0m\u001b[A\n",
      "Metrics:  50%|\u001b[34m███████████████████████████████████▌                                   \u001b[0m| 5/10 [1:18:33<51:15, 615.06s/it, Batch correction: ilisi_knn]\u001b[0m\u001b[A\n",
      "Metrics:  60%|\u001b[34m██████████████████████████████████████████▌                            \u001b[0m| 6/10 [1:18:35<27:06, 406.62s/it, Batch correction: ilisi_knn]\u001b[0m\u001b[A\n",
      "Metrics:  60%|\u001b[34m███████████████████████████████████████▌                          \u001b[0m| 6/10 [1:18:35<27:06, 406.62s/it, Batch correction: kbet_per_label]\u001b[0m\u001b[A"
     ]
    },
    {
     "name": "stdout",
     "output_type": "stream",
     "text": [
      "\u001b[34mINFO    \u001b[0m ICM consists of a single batch or is too small. Skip.                                                     \n",
      "\u001b[34mINFO    \u001b[0m Node consists of a single batch or is too small. Skip.                                                    \n"
     ]
    },
    {
     "name": "stderr",
     "output_type": "stream",
     "text": [
      "\n",
      "Metrics:  70%|\u001b[34m██████████████████████████████████████████████▏                   \u001b[0m| 7/10 [1:20:07<15:11, 303.67s/it, Batch correction: kbet_per_label]\u001b[0m\u001b[A\n",
      "Metrics:  70%|\u001b[34m███████████████████████████████████████████▍                  \u001b[0m| 7/10 [1:20:07<15:11, 303.67s/it, Batch correction: graph_connectivity]\u001b[0m\u001b[A\n",
      "Metrics:  80%|\u001b[34m█████████████████████████████████████████████████▌            \u001b[0m| 8/10 [1:20:07<06:54, 207.07s/it, Batch correction: graph_connectivity]\u001b[0m\u001b[A\n",
      "Metrics:  80%|\u001b[34m████████████████████████████████████████████████████▊             \u001b[0m| 8/10 [1:20:07<06:54, 207.07s/it, Batch correction: pcr_comparison]\u001b[0m\u001b[A\n",
      "Embeddings:  25%|\u001b[32m███████████████████████▊                                                                       \u001b[0m| 2/8 [1:27:23<5:00:46, 3007.71s/it]\u001b[0m\u001b[A\n",
      "Metrics:   0%|\u001b[34m                                                                                                               \u001b[0m| 0/10 [00:00<?, ?it/s]\u001b[0m\u001b[A\n",
      "                                                                                                                                                    \u001b[A\n",
      "Metrics:   0%|\u001b[34m                                                                            \u001b[0m| 0/10 [00:00<?, ?it/s, Bio conservation: isolated_labels]\u001b[0m\u001b[A\n",
      "Metrics:  10%|\u001b[34m██████▋                                                            \u001b[0m| 1/10 [02:20<21:08, 140.96s/it, Bio conservation: isolated_labels]\u001b[0m\u001b[A\n",
      "Metrics:  10%|\u001b[34m█████▎                                               \u001b[0m| 1/10 [02:20<21:08, 140.96s/it, Bio conservation: nmi_ari_cluster_labels_kmeans]\u001b[0m\u001b[A\n",
      "Metrics:  20%|\u001b[34m██████████▊                                           \u001b[0m| 2/10 [02:32<08:40, 65.10s/it, Bio conservation: nmi_ari_cluster_labels_kmeans]\u001b[0m\u001b[A\n",
      "Metrics:  20%|\u001b[34m█████████████▍                                                     \u001b[0m| 2/10 [02:32<08:40, 65.10s/it, Bio conservation: silhouette_label]\u001b[0m\u001b[A\n",
      "Metrics:  30%|\u001b[34m████████████████████                                               \u001b[0m| 3/10 [03:41<07:45, 66.54s/it, Bio conservation: silhouette_label]\u001b[0m\u001b[A\n",
      "Metrics:  30%|\u001b[34m██████████████████████▏                                                   \u001b[0m| 3/10 [03:41<07:45, 66.54s/it, Bio conservation: clisi_knn]\u001b[0m\u001b[A\n",
      "Metrics:  40%|\u001b[34m█████████████████████████████▌                                            \u001b[0m| 4/10 [03:43<04:07, 41.21s/it, Bio conservation: clisi_knn]\u001b[0m\u001b[A\n",
      "Metrics:  40%|\u001b[34m██████████████████████████▊                                        \u001b[0m| 4/10 [03:43<04:07, 41.21s/it, Batch correction: silhouette_batch]\u001b[0m\u001b[A\n",
      "Metrics:  50%|\u001b[34m█████████████████████████████████▌                                 \u001b[0m| 5/10 [03:58<02:38, 31.65s/it, Batch correction: silhouette_batch]\u001b[0m\u001b[A\n",
      "Metrics:  50%|\u001b[34m█████████████████████████████████████                                     \u001b[0m| 5/10 [03:58<02:38, 31.65s/it, Batch correction: ilisi_knn]\u001b[0m\u001b[A\n",
      "Metrics:  60%|\u001b[34m████████████████████████████████████████████▍                             \u001b[0m| 6/10 [04:00<01:26, 21.65s/it, Batch correction: ilisi_knn]\u001b[0m\u001b[A\n",
      "Metrics:  60%|\u001b[34m█████████████████████████████████████████▍                           \u001b[0m| 6/10 [04:00<01:26, 21.65s/it, Batch correction: kbet_per_label]\u001b[0m\u001b[A"
     ]
    },
    {
     "name": "stdout",
     "output_type": "stream",
     "text": [
      "\u001b[34mINFO    \u001b[0m ICM consists of a single batch or is too small. Skip.                                                     \n",
      "\u001b[34mINFO    \u001b[0m Node consists of a single batch or is too small. Skip.                                                    \n"
     ]
    },
    {
     "name": "stderr",
     "output_type": "stream",
     "text": [
      "\n",
      "Metrics:  70%|\u001b[34m████████████████████████████████████████████████▎                    \u001b[0m| 7/10 [05:34<02:15, 45.19s/it, Batch correction: kbet_per_label]\u001b[0m\u001b[A\n",
      "Metrics:  70%|\u001b[34m█████████████████████████████████████████████▌                   \u001b[0m| 7/10 [05:34<02:15, 45.19s/it, Batch correction: graph_connectivity]\u001b[0m\u001b[A\n",
      "Metrics:  80%|\u001b[34m████████████████████████████████████████████████████             \u001b[0m| 8/10 [05:34<01:01, 30.87s/it, Batch correction: graph_connectivity]\u001b[0m\u001b[A\n",
      "Metrics:  80%|\u001b[34m███████████████████████████████████████████████████████▏             \u001b[0m| 8/10 [05:34<01:01, 30.87s/it, Batch correction: pcr_comparison]\u001b[0m\u001b[A\n",
      "Embeddings:  38%|\u001b[32m███████████████████████████████████▋                                                           \u001b[0m| 3/8 [1:32:58<2:28:56, 1787.28s/it]\u001b[0m\u001b[A\n",
      "Metrics:   0%|\u001b[34m                                                                                                               \u001b[0m| 0/10 [00:00<?, ?it/s]\u001b[0m\u001b[A\n",
      "                                                                                                                                                    \u001b[A\n",
      "Metrics:   0%|\u001b[34m                                                                            \u001b[0m| 0/10 [00:00<?, ?it/s, Bio conservation: isolated_labels]\u001b[0m\u001b[A\n",
      "Metrics:  10%|\u001b[34m██████▋                                                            \u001b[0m| 1/10 [02:19<20:59, 139.89s/it, Bio conservation: isolated_labels]\u001b[0m\u001b[A\n",
      "Metrics:  10%|\u001b[34m█████▎                                               \u001b[0m| 1/10 [02:19<20:59, 139.89s/it, Bio conservation: nmi_ari_cluster_labels_kmeans]\u001b[0m\u001b[A\n",
      "Metrics:  20%|\u001b[34m██████████▊                                           \u001b[0m| 2/10 [02:33<08:44, 65.55s/it, Bio conservation: nmi_ari_cluster_labels_kmeans]\u001b[0m\u001b[A\n",
      "Metrics:  20%|\u001b[34m█████████████▍                                                     \u001b[0m| 2/10 [02:33<08:44, 65.55s/it, Bio conservation: silhouette_label]\u001b[0m\u001b[A\n",
      "Metrics:  30%|\u001b[34m████████████████████                                               \u001b[0m| 3/10 [03:41<07:48, 66.86s/it, Bio conservation: silhouette_label]\u001b[0m\u001b[A\n",
      "Metrics:  30%|\u001b[34m██████████████████████▏                                                   \u001b[0m| 3/10 [03:41<07:48, 66.86s/it, Bio conservation: clisi_knn]\u001b[0m\u001b[A\n",
      "Metrics:  40%|\u001b[34m█████████████████████████████▌                                            \u001b[0m| 4/10 [03:44<04:07, 41.33s/it, Bio conservation: clisi_knn]\u001b[0m\u001b[A\n",
      "Metrics:  40%|\u001b[34m██████████████████████████▊                                        \u001b[0m| 4/10 [03:44<04:07, 41.33s/it, Batch correction: silhouette_batch]\u001b[0m\u001b[A\n",
      "Metrics:  50%|\u001b[34m█████████████████████████████████▌                                 \u001b[0m| 5/10 [03:58<02:38, 31.74s/it, Batch correction: silhouette_batch]\u001b[0m\u001b[A\n",
      "Metrics:  50%|\u001b[34m█████████████████████████████████████                                     \u001b[0m| 5/10 [03:58<02:38, 31.74s/it, Batch correction: ilisi_knn]\u001b[0m\u001b[A\n",
      "Metrics:  60%|\u001b[34m████████████████████████████████████████████▍                             \u001b[0m| 6/10 [04:00<01:26, 21.63s/it, Batch correction: ilisi_knn]\u001b[0m\u001b[A\n",
      "Metrics:  60%|\u001b[34m█████████████████████████████████████████▍                           \u001b[0m| 6/10 [04:00<01:26, 21.63s/it, Batch correction: kbet_per_label]\u001b[0m\u001b[A"
     ]
    },
    {
     "name": "stdout",
     "output_type": "stream",
     "text": [
      "\u001b[34mINFO    \u001b[0m ICM consists of a single batch or is too small. Skip.                                                     \n",
      "\u001b[34mINFO    \u001b[0m Node consists of a single batch or is too small. Skip.                                                    \n"
     ]
    },
    {
     "name": "stderr",
     "output_type": "stream",
     "text": [
      "\n",
      "Metrics:  70%|\u001b[34m████████████████████████████████████████████████▎                    \u001b[0m| 7/10 [05:23<02:04, 41.55s/it, Batch correction: kbet_per_label]\u001b[0m\u001b[A\n",
      "Metrics:  70%|\u001b[34m█████████████████████████████████████████████▌                   \u001b[0m| 7/10 [05:23<02:04, 41.55s/it, Batch correction: graph_connectivity]\u001b[0m\u001b[A\n",
      "Metrics:  80%|\u001b[34m████████████████████████████████████████████████████             \u001b[0m| 8/10 [05:23<00:56, 28.39s/it, Batch correction: graph_connectivity]\u001b[0m\u001b[A\n",
      "Metrics:  80%|\u001b[34m███████████████████████████████████████████████████████▏             \u001b[0m| 8/10 [05:23<00:56, 28.39s/it, Batch correction: pcr_comparison]\u001b[0m\u001b[A\n",
      "Embeddings:  50%|\u001b[32m███████████████████████████████████████████████▌                                               \u001b[0m| 4/8 [1:38:22<1:20:38, 1209.67s/it]\u001b[0m\u001b[A\n",
      "Metrics:   0%|\u001b[34m                                                                                                               \u001b[0m| 0/10 [00:00<?, ?it/s]\u001b[0m\u001b[A\n",
      "                                                                                                                                                    \u001b[A\n",
      "Metrics:   0%|\u001b[34m                                                                            \u001b[0m| 0/10 [00:00<?, ?it/s, Bio conservation: isolated_labels]\u001b[0m\u001b[A\n",
      "Metrics:  10%|\u001b[34m██████▋                                                            \u001b[0m| 1/10 [02:09<19:22, 129.19s/it, Bio conservation: isolated_labels]\u001b[0m\u001b[A\n",
      "Metrics:  10%|\u001b[34m█████▎                                               \u001b[0m| 1/10 [02:09<19:22, 129.19s/it, Bio conservation: nmi_ari_cluster_labels_kmeans]\u001b[0m\u001b[A\n",
      "Metrics:  20%|\u001b[34m██████████▊                                           \u001b[0m| 2/10 [02:22<08:08, 61.07s/it, Bio conservation: nmi_ari_cluster_labels_kmeans]\u001b[0m\u001b[A\n",
      "Metrics:  20%|\u001b[34m█████████████▍                                                     \u001b[0m| 2/10 [02:22<08:08, 61.07s/it, Bio conservation: silhouette_label]\u001b[0m\u001b[A\n",
      "Metrics:  30%|\u001b[34m████████████████████                                               \u001b[0m| 3/10 [03:25<07:14, 62.05s/it, Bio conservation: silhouette_label]\u001b[0m\u001b[A\n",
      "Metrics:  30%|\u001b[34m██████████████████████▏                                                   \u001b[0m| 3/10 [03:25<07:14, 62.05s/it, Bio conservation: clisi_knn]\u001b[0m\u001b[A\n",
      "Metrics:  40%|\u001b[34m█████████████████████████████▌                                            \u001b[0m| 4/10 [03:27<03:50, 38.37s/it, Bio conservation: clisi_knn]\u001b[0m\u001b[A\n",
      "Metrics:  40%|\u001b[34m██████████████████████████▊                                        \u001b[0m| 4/10 [03:27<03:50, 38.37s/it, Batch correction: silhouette_batch]\u001b[0m\u001b[A\n",
      "Metrics:  50%|\u001b[34m█████████████████████████████████▌                                 \u001b[0m| 5/10 [03:41<02:26, 29.38s/it, Batch correction: silhouette_batch]\u001b[0m\u001b[A\n",
      "Metrics:  50%|\u001b[34m█████████████████████████████████████                                     \u001b[0m| 5/10 [03:41<02:26, 29.38s/it, Batch correction: ilisi_knn]\u001b[0m\u001b[A\n",
      "Metrics:  60%|\u001b[34m████████████████████████████████████████████▍                             \u001b[0m| 6/10 [03:43<01:20, 20.03s/it, Batch correction: ilisi_knn]\u001b[0m\u001b[A\n",
      "Metrics:  60%|\u001b[34m█████████████████████████████████████████▍                           \u001b[0m| 6/10 [03:43<01:20, 20.03s/it, Batch correction: kbet_per_label]\u001b[0m\u001b[A"
     ]
    },
    {
     "name": "stdout",
     "output_type": "stream",
     "text": [
      "\u001b[34mINFO    \u001b[0m ICM consists of a single batch or is too small. Skip.                                                     \n",
      "\u001b[34mINFO    \u001b[0m Node consists of a single batch or is too small. Skip.                                                    \n"
     ]
    },
    {
     "name": "stderr",
     "output_type": "stream",
     "text": [
      "\n",
      "Metrics:  70%|\u001b[34m████████████████████████████████████████████████▎                    \u001b[0m| 7/10 [05:07<02:03, 41.09s/it, Batch correction: kbet_per_label]\u001b[0m\u001b[A\n",
      "Metrics:  70%|\u001b[34m█████████████████████████████████████████████▌                   \u001b[0m| 7/10 [05:07<02:03, 41.09s/it, Batch correction: graph_connectivity]\u001b[0m\u001b[A\n",
      "Metrics:  80%|\u001b[34m████████████████████████████████████████████████████             \u001b[0m| 8/10 [05:07<00:56, 28.08s/it, Batch correction: graph_connectivity]\u001b[0m\u001b[A\n",
      "Metrics:  80%|\u001b[34m███████████████████████████████████████████████████████▏             \u001b[0m| 8/10 [05:07<00:56, 28.08s/it, Batch correction: pcr_comparison]\u001b[0m\u001b[A\n",
      "Embeddings:  62%|\u001b[32m█████████████████████████████████████████████████████████████▎                                    \u001b[0m| 5/8 [1:43:30<44:13, 884.65s/it]\u001b[0m\u001b[A\n",
      "Metrics:   0%|\u001b[34m                                                                                                               \u001b[0m| 0/10 [00:00<?, ?it/s]\u001b[0m\u001b[A\n",
      "                                                                                                                                                    \u001b[A\n",
      "Metrics:   0%|\u001b[34m                                                                            \u001b[0m| 0/10 [00:00<?, ?it/s, Bio conservation: isolated_labels]\u001b[0m\u001b[A\n",
      "Metrics:  10%|\u001b[34m██████▋                                                            \u001b[0m| 1/10 [02:14<20:11, 134.57s/it, Bio conservation: isolated_labels]\u001b[0m\u001b[A\n",
      "Metrics:  10%|\u001b[34m█████▎                                               \u001b[0m| 1/10 [02:14<20:11, 134.57s/it, Bio conservation: nmi_ari_cluster_labels_kmeans]\u001b[0m\u001b[A\n",
      "Metrics:  20%|\u001b[34m██████████▊                                           \u001b[0m| 2/10 [02:27<08:22, 62.76s/it, Bio conservation: nmi_ari_cluster_labels_kmeans]\u001b[0m\u001b[A\n",
      "Metrics:  20%|\u001b[34m█████████████▍                                                     \u001b[0m| 2/10 [02:27<08:22, 62.76s/it, Bio conservation: silhouette_label]\u001b[0m\u001b[A\n",
      "Metrics:  30%|\u001b[34m████████████████████                                               \u001b[0m| 3/10 [03:34<07:34, 64.89s/it, Bio conservation: silhouette_label]\u001b[0m\u001b[A\n",
      "Metrics:  30%|\u001b[34m██████████████████████▏                                                   \u001b[0m| 3/10 [03:34<07:34, 64.89s/it, Bio conservation: clisi_knn]\u001b[0m\u001b[A\n",
      "Metrics:  40%|\u001b[34m█████████████████████████████▌                                            \u001b[0m| 4/10 [03:36<04:00, 40.06s/it, Bio conservation: clisi_knn]\u001b[0m\u001b[A\n",
      "Metrics:  40%|\u001b[34m██████████████████████████▊                                        \u001b[0m| 4/10 [03:36<04:00, 40.06s/it, Batch correction: silhouette_batch]\u001b[0m\u001b[A\n",
      "Metrics:  50%|\u001b[34m█████████████████████████████████▌                                 \u001b[0m| 5/10 [03:50<02:33, 30.71s/it, Batch correction: silhouette_batch]\u001b[0m\u001b[A\n",
      "Metrics:  50%|\u001b[34m█████████████████████████████████████                                     \u001b[0m| 5/10 [03:50<02:33, 30.71s/it, Batch correction: ilisi_knn]\u001b[0m\u001b[A\n",
      "Metrics:  60%|\u001b[34m████████████████████████████████████████████▍                             \u001b[0m| 6/10 [03:52<01:23, 20.96s/it, Batch correction: ilisi_knn]\u001b[0m\u001b[A\n",
      "Metrics:  60%|\u001b[34m█████████████████████████████████████████▍                           \u001b[0m| 6/10 [03:52<01:23, 20.96s/it, Batch correction: kbet_per_label]\u001b[0m\u001b[A"
     ]
    },
    {
     "name": "stdout",
     "output_type": "stream",
     "text": [
      "\u001b[34mINFO    \u001b[0m ICM consists of a single batch or is too small. Skip.                                                     \n",
      "\u001b[34mINFO    \u001b[0m Node consists of a single batch or is too small. Skip.                                                    \n"
     ]
    },
    {
     "name": "stderr",
     "output_type": "stream",
     "text": [
      "\n",
      "Metrics:  70%|\u001b[34m████████████████████████████████████████████████▎                    \u001b[0m| 7/10 [05:13<02:01, 40.42s/it, Batch correction: kbet_per_label]\u001b[0m\u001b[A\n",
      "Metrics:  70%|\u001b[34m█████████████████████████████████████████████▌                   \u001b[0m| 7/10 [05:13<02:01, 40.42s/it, Batch correction: graph_connectivity]\u001b[0m\u001b[A\n",
      "Metrics:  80%|\u001b[34m████████████████████████████████████████████████████             \u001b[0m| 8/10 [05:13<00:55, 27.62s/it, Batch correction: graph_connectivity]\u001b[0m\u001b[A\n",
      "Metrics:  80%|\u001b[34m███████████████████████████████████████████████████████▏             \u001b[0m| 8/10 [05:13<00:55, 27.62s/it, Batch correction: pcr_comparison]\u001b[0m\u001b[A\n",
      "Embeddings:  75%|\u001b[32m█████████████████████████████████████████████████████████████████████████▌                        \u001b[0m| 6/8 [1:48:44<23:01, 690.61s/it]\u001b[0m\u001b[A\n",
      "Metrics:   0%|\u001b[34m                                                                                                               \u001b[0m| 0/10 [00:00<?, ?it/s]\u001b[0m\u001b[A\n",
      "                                                                                                                                                    \u001b[A\n",
      "Metrics:   0%|\u001b[34m                                                                            \u001b[0m| 0/10 [00:00<?, ?it/s, Bio conservation: isolated_labels]\u001b[0m\u001b[A\n",
      "Metrics:  10%|\u001b[34m██████▍                                                         \u001b[0m| 1/10 [27:24<4:06:40, 1644.48s/it, Bio conservation: isolated_labels]\u001b[0m\u001b[A\n",
      "Metrics:  10%|\u001b[34m█████                                             \u001b[0m| 1/10 [27:24<4:06:40, 1644.48s/it, Bio conservation: nmi_ari_cluster_labels_kmeans]\u001b[0m\u001b[A\n",
      "Metrics:  20%|\u001b[34m██████████▏                                        \u001b[0m| 2/10 [27:37<1:31:19, 684.93s/it, Bio conservation: nmi_ari_cluster_labels_kmeans]\u001b[0m\u001b[A\n",
      "Metrics:  20%|\u001b[34m████████████▊                                                   \u001b[0m| 2/10 [27:37<1:31:19, 684.93s/it, Bio conservation: silhouette_label]\u001b[0m\u001b[A\n",
      "Metrics:  30%|\u001b[34m███████████████████▏                                            \u001b[0m| 3/10 [41:08<1:26:37, 742.43s/it, Bio conservation: silhouette_label]\u001b[0m\u001b[A\n",
      "Metrics:  30%|\u001b[34m█████████████████████▎                                                 \u001b[0m| 3/10 [41:08<1:26:37, 742.43s/it, Bio conservation: clisi_knn]\u001b[0m\u001b[A\n",
      "Metrics:  40%|\u001b[34m█████████████████████████████▏                                           \u001b[0m| 4/10 [41:10<44:59, 449.99s/it, Bio conservation: clisi_knn]\u001b[0m\u001b[A\n",
      "Metrics:  40%|\u001b[34m██████████████████████████▍                                       \u001b[0m| 4/10 [41:10<44:59, 449.99s/it, Batch correction: silhouette_batch]\u001b[0m\u001b[A\n",
      "Metrics:  50%|\u001b[34m█████████████████████████████████                                 \u001b[0m| 5/10 [43:12<27:38, 331.73s/it, Batch correction: silhouette_batch]\u001b[0m\u001b[A\n",
      "Metrics:  50%|\u001b[34m████████████████████████████████████▌                                    \u001b[0m| 5/10 [43:12<27:38, 331.73s/it, Batch correction: ilisi_knn]\u001b[0m\u001b[A\n",
      "Metrics:  60%|\u001b[34m███████████████████████████████████████████▊                             \u001b[0m| 6/10 [43:14<14:38, 219.60s/it, Batch correction: ilisi_knn]\u001b[0m\u001b[A\n",
      "Metrics:  60%|\u001b[34m████████████████████████████████████████▊                           \u001b[0m| 6/10 [43:14<14:38, 219.60s/it, Batch correction: kbet_per_label]\u001b[0m\u001b[A"
     ]
    },
    {
     "name": "stdout",
     "output_type": "stream",
     "text": [
      "\u001b[34mINFO    \u001b[0m ICM consists of a single batch or is too small. Skip.                                                     \n",
      "\u001b[34mINFO    \u001b[0m Node consists of a single batch or is too small. Skip.                                                    \n"
     ]
    },
    {
     "name": "stderr",
     "output_type": "stream",
     "text": [
      "\n",
      "Metrics:  70%|\u001b[34m███████████████████████████████████████████████▌                    \u001b[0m| 7/10 [44:31<08:39, 173.04s/it, Batch correction: kbet_per_label]\u001b[0m\u001b[A\n",
      "Metrics:  70%|\u001b[34m████████████████████████████████████████████▊                   \u001b[0m| 7/10 [44:31<08:39, 173.04s/it, Batch correction: graph_connectivity]\u001b[0m\u001b[A\n",
      "Metrics:  80%|\u001b[34m███████████████████████████████████████████████████▏            \u001b[0m| 8/10 [44:31<03:56, 118.02s/it, Batch correction: graph_connectivity]\u001b[0m\u001b[A\n",
      "Metrics:  80%|\u001b[34m██████████████████████████████████████████████████████▍             \u001b[0m| 8/10 [44:31<03:56, 118.02s/it, Batch correction: pcr_comparison]\u001b[0m\u001b[A\n",
      "Embeddings:  88%|\u001b[32m████████████████████████████████████████████████████████████████████████████████████▉            \u001b[0m| 7/8 [2:33:17<22:18, 1338.51s/it]\u001b[0m\u001b[A\n",
      "Metrics:   0%|\u001b[34m                                                                                                               \u001b[0m| 0/10 [00:00<?, ?it/s]\u001b[0m\u001b[A\n",
      "                                                                                                                                                    \u001b[A\n",
      "Metrics:   0%|\u001b[34m                                                                            \u001b[0m| 0/10 [00:00<?, ?it/s, Bio conservation: isolated_labels]\u001b[0m\u001b[A\n",
      "Metrics:  10%|\u001b[34m██████▍                                                         \u001b[0m| 1/10 [26:42<4:00:22, 1602.47s/it, Bio conservation: isolated_labels]\u001b[0m\u001b[A\n",
      "Metrics:  10%|\u001b[34m█████                                             \u001b[0m| 1/10 [26:42<4:00:22, 1602.47s/it, Bio conservation: nmi_ari_cluster_labels_kmeans]\u001b[0m\u001b[A\n",
      "Metrics:  20%|\u001b[34m██████████▏                                        \u001b[0m| 2/10 [26:56<1:29:05, 668.21s/it, Bio conservation: nmi_ari_cluster_labels_kmeans]\u001b[0m\u001b[A\n",
      "Metrics:  20%|\u001b[34m████████████▊                                                   \u001b[0m| 2/10 [26:56<1:29:05, 668.21s/it, Bio conservation: silhouette_label]\u001b[0m\u001b[A\n",
      "Metrics:  30%|\u001b[34m███████████████████▏                                            \u001b[0m| 3/10 [40:30<1:25:41, 734.50s/it, Bio conservation: silhouette_label]\u001b[0m\u001b[A\n",
      "Metrics:  30%|\u001b[34m█████████████████████▎                                                 \u001b[0m| 3/10 [40:30<1:25:41, 734.50s/it, Bio conservation: clisi_knn]\u001b[0m\u001b[A\n",
      "Metrics:  40%|\u001b[34m█████████████████████████████▏                                           \u001b[0m| 4/10 [40:32<44:31, 445.30s/it, Bio conservation: clisi_knn]\u001b[0m\u001b[A\n",
      "Metrics:  40%|\u001b[34m██████████████████████████▍                                       \u001b[0m| 4/10 [40:32<44:31, 445.30s/it, Batch correction: silhouette_batch]\u001b[0m\u001b[A\n",
      "Metrics:  50%|\u001b[34m█████████████████████████████████                                 \u001b[0m| 5/10 [43:08<28:25, 341.16s/it, Batch correction: silhouette_batch]\u001b[0m\u001b[A\n",
      "Metrics:  50%|\u001b[34m████████████████████████████████████▌                                    \u001b[0m| 5/10 [43:08<28:25, 341.16s/it, Batch correction: ilisi_knn]\u001b[0m\u001b[A\n",
      "Metrics:  60%|\u001b[34m███████████████████████████████████████████▊                             \u001b[0m| 6/10 [43:10<15:03, 226.00s/it, Batch correction: ilisi_knn]\u001b[0m\u001b[A\n",
      "Metrics:  60%|\u001b[34m████████████████████████████████████████▊                           \u001b[0m| 6/10 [43:10<15:03, 226.00s/it, Batch correction: kbet_per_label]\u001b[0m\u001b[A"
     ]
    },
    {
     "name": "stdout",
     "output_type": "stream",
     "text": [
      "\u001b[34mINFO    \u001b[0m ICM consists of a single batch or is too small. Skip.                                                     \n",
      "\u001b[34mINFO    \u001b[0m Node consists of a single batch or is too small. Skip.                                                    \n"
     ]
    },
    {
     "name": "stderr",
     "output_type": "stream",
     "text": [
      "\n",
      "Metrics:  70%|\u001b[34m███████████████████████████████████████████████▌                    \u001b[0m| 7/10 [44:52<09:15, 185.21s/it, Batch correction: kbet_per_label]\u001b[0m\u001b[A\n",
      "Metrics:  70%|\u001b[34m████████████████████████████████████████████▊                   \u001b[0m| 7/10 [44:52<09:15, 185.21s/it, Batch correction: graph_connectivity]\u001b[0m\u001b[A\n",
      "Metrics:  80%|\u001b[34m███████████████████████████████████████████████████▏            \u001b[0m| 8/10 [44:52<04:12, 126.34s/it, Batch correction: graph_connectivity]\u001b[0m\u001b[A\n",
      "Metrics:  80%|\u001b[34m██████████████████████████████████████████████████████▍             \u001b[0m| 8/10 [44:52<04:12, 126.34s/it, Batch correction: pcr_comparison]\u001b[0m\u001b[A\n",
      "Embeddings: 100%|\u001b[32m█████████████████████████████████████████████████████████████████████████████████████████████████\u001b[0m| 8/8 [3:18:10<00:00, 1486.32s/it]\u001b[0m\u001b[A\n",
      "\n",
      "                                                                                                                                                    \u001b[A"
     ]
    }
   ],
   "source": [
    "####Perform the benchmark\n",
    "bm = Benchmarker(\n",
    "    adata,\n",
    "    batch_key=\"orig.ident\",\n",
    "    label_key=\"harmo.anno\",\n",
    "    embedding_obsm_keys=[\"Unintegrated\", \"Scanorama\", \"LIGER\", \"Harmony\", \"scVI\", \"scANVI\",\"CCA\",\"FastMNN\"],\n",
    "    n_jobs=6,\n",
    ")\n",
    "bm.benchmark()"
   ]
  },
  {
   "cell_type": "code",
   "execution_count": null,
   "id": "7074e48c-c67e-436a-b1ae-a49ea09b846a",
   "metadata": {},
   "outputs": [],
   "source": [
    "bm.plot_results_table(save_dir=\"/mnt/disk5/Lanxiang/Human_integrated/integrated/8_Progress/monkey_ref_all/figures\")"
   ]
  },
  {
   "cell_type": "code",
   "execution_count": 69,
   "id": "ad95db77-6bce-4d2c-b1d2-1af6102fc5a6",
   "metadata": {},
   "outputs": [
    {
     "data": {
      "text/html": [
       "<pre style=\"white-space:pre;overflow-x:auto;line-height:normal;font-family:Menlo,'DejaVu Sans Mono',consolas,'Courier New',monospace\">               Isolated labels        KMeans NMI        KMeans ARI  \\\n",
       "Embedding                                                            \n",
       "Unintegrated          <span style=\"color: #008080; text-decoration-color: #008080; font-weight: bold\">0.106281</span>          <span style=\"color: #008080; text-decoration-color: #008080; font-weight: bold\">0.293291</span>          <span style=\"color: #008080; text-decoration-color: #008080; font-weight: bold\">0.101369</span>   \n",
       "Scanorama             <span style=\"color: #008080; text-decoration-color: #008080; font-weight: bold\">0.328192</span>           <span style=\"color: #008080; text-decoration-color: #008080; font-weight: bold\">0.56136</span>          <span style=\"color: #008080; text-decoration-color: #008080; font-weight: bold\">0.423138</span>   \n",
       "LIGER                      <span style=\"color: #008080; text-decoration-color: #008080; font-weight: bold\">1.0</span>               <span style=\"color: #008080; text-decoration-color: #008080; font-weight: bold\">0.0</span>               <span style=\"color: #008080; text-decoration-color: #008080; font-weight: bold\">0.0</span>   \n",
       "Harmony                    <span style=\"color: #008080; text-decoration-color: #008080; font-weight: bold\">0.0</span>          <span style=\"color: #008080; text-decoration-color: #008080; font-weight: bold\">0.273595</span>          <span style=\"color: #008080; text-decoration-color: #008080; font-weight: bold\">0.201876</span>   \n",
       "scVI                  <span style=\"color: #008080; text-decoration-color: #008080; font-weight: bold\">0.649641</span>          <span style=\"color: #008080; text-decoration-color: #008080; font-weight: bold\">0.648362</span>          <span style=\"color: #008080; text-decoration-color: #008080; font-weight: bold\">0.358416</span>   \n",
       "scANVI                <span style=\"color: #008080; text-decoration-color: #008080; font-weight: bold\">0.538081</span>               <span style=\"color: #008080; text-decoration-color: #008080; font-weight: bold\">1.0</span>               <span style=\"color: #008080; text-decoration-color: #008080; font-weight: bold\">1.0</span>   \n",
       "CCA                   <span style=\"color: #008080; text-decoration-color: #008080; font-weight: bold\">0.010374</span>          <span style=\"color: #008080; text-decoration-color: #008080; font-weight: bold\">0.662809</span>          <span style=\"color: #008080; text-decoration-color: #008080; font-weight: bold\">0.950838</span>   \n",
       "FastMNN               <span style=\"color: #008080; text-decoration-color: #008080; font-weight: bold\">0.604323</span>          <span style=\"color: #008080; text-decoration-color: #008080; font-weight: bold\">0.735398</span>           <span style=\"color: #008080; text-decoration-color: #008080; font-weight: bold\">0.86354</span>   \n",
       "Metric Type   Bio conservation  Bio conservation  Bio conservation   \n",
       "\n",
       "              Silhouette label             cLISI  Silhouette batch  \\\n",
       "Embedding                                                            \n",
       "Unintegrated          <span style=\"color: #008080; text-decoration-color: #008080; font-weight: bold\">0.449101</span>               <span style=\"color: #008080; text-decoration-color: #008080; font-weight: bold\">1.0</span>               <span style=\"color: #008080; text-decoration-color: #008080; font-weight: bold\">0.0</span>   \n",
       "Scanorama             <span style=\"color: #008080; text-decoration-color: #008080; font-weight: bold\">0.857747</span>          <span style=\"color: #008080; text-decoration-color: #008080; font-weight: bold\">0.950061</span>               <span style=\"color: #008080; text-decoration-color: #008080; font-weight: bold\">1.0</span>   \n",
       "LIGER                   <span style=\"color: #008080; text-decoration-color: #008080; font-weight: bold\">0.5261</span>               <span style=\"color: #008080; text-decoration-color: #008080; font-weight: bold\">0.0</span>          <span style=\"color: #008080; text-decoration-color: #008080; font-weight: bold\">0.700912</span>   \n",
       "Harmony                    <span style=\"color: #008080; text-decoration-color: #008080; font-weight: bold\">0.0</span>           <span style=\"color: #008080; text-decoration-color: #008080; font-weight: bold\">0.83035</span>          <span style=\"color: #008080; text-decoration-color: #008080; font-weight: bold\">0.921375</span>   \n",
       "scVI                  <span style=\"color: #008080; text-decoration-color: #008080; font-weight: bold\">0.678633</span>           <span style=\"color: #008080; text-decoration-color: #008080; font-weight: bold\">0.88213</span>          <span style=\"color: #008080; text-decoration-color: #008080; font-weight: bold\">0.923208</span>   \n",
       "scANVI                     <span style=\"color: #008080; text-decoration-color: #008080; font-weight: bold\">1.0</span>          <span style=\"color: #008080; text-decoration-color: #008080; font-weight: bold\">0.883161</span>          <span style=\"color: #008080; text-decoration-color: #008080; font-weight: bold\">0.838819</span>   \n",
       "CCA                   <span style=\"color: #008080; text-decoration-color: #008080; font-weight: bold\">0.397611</span>          <span style=\"color: #008080; text-decoration-color: #008080; font-weight: bold\">0.684368</span>          <span style=\"color: #008080; text-decoration-color: #008080; font-weight: bold\">0.786479</span>   \n",
       "FastMNN               <span style=\"color: #008080; text-decoration-color: #008080; font-weight: bold\">0.970551</span>          <span style=\"color: #008080; text-decoration-color: #008080; font-weight: bold\">0.801949</span>          <span style=\"color: #008080; text-decoration-color: #008080; font-weight: bold\">0.767449</span>   \n",
       "Metric Type   Bio conservation  Bio conservation  Batch correction   \n",
       "\n",
       "                         iLISI              KBET Graph connectivity  \\\n",
       "Embedding                                                             \n",
       "Unintegrated               <span style=\"color: #008080; text-decoration-color: #008080; font-weight: bold\">0.0</span>               <span style=\"color: #008080; text-decoration-color: #008080; font-weight: bold\">0.0</span>           <span style=\"color: #008080; text-decoration-color: #008080; font-weight: bold\">0.775295</span>   \n",
       "Scanorama             <span style=\"color: #008080; text-decoration-color: #008080; font-weight: bold\">0.000001</span>          <span style=\"color: #008080; text-decoration-color: #008080; font-weight: bold\">0.466107</span>           <span style=\"color: #008080; text-decoration-color: #008080; font-weight: bold\">0.777416</span>   \n",
       "LIGER                      <span style=\"color: #008080; text-decoration-color: #008080; font-weight: bold\">1.0</span>               <span style=\"color: #008080; text-decoration-color: #008080; font-weight: bold\">1.0</span>                <span style=\"color: #008080; text-decoration-color: #008080; font-weight: bold\">0.0</span>   \n",
       "Harmony               <span style=\"color: #008080; text-decoration-color: #008080; font-weight: bold\">0.085394</span>          <span style=\"color: #008080; text-decoration-color: #008080; font-weight: bold\">0.576048</span>           <span style=\"color: #008080; text-decoration-color: #008080; font-weight: bold\">0.785512</span>   \n",
       "scVI                  <span style=\"color: #008080; text-decoration-color: #008080; font-weight: bold\">0.014433</span>          <span style=\"color: #008080; text-decoration-color: #008080; font-weight: bold\">0.460225</span>                <span style=\"color: #008080; text-decoration-color: #008080; font-weight: bold\">1.0</span>   \n",
       "scANVI                <span style=\"color: #008080; text-decoration-color: #008080; font-weight: bold\">0.029017</span>          <span style=\"color: #008080; text-decoration-color: #008080; font-weight: bold\">0.498464</span>           <span style=\"color: #008080; text-decoration-color: #008080; font-weight: bold\">0.965677</span>   \n",
       "CCA                   <span style=\"color: #008080; text-decoration-color: #008080; font-weight: bold\">0.498113</span>          <span style=\"color: #008080; text-decoration-color: #008080; font-weight: bold\">0.747074</span>           <span style=\"color: #008080; text-decoration-color: #008080; font-weight: bold\">0.655236</span>   \n",
       "FastMNN               <span style=\"color: #008080; text-decoration-color: #008080; font-weight: bold\">0.036824</span>          <span style=\"color: #008080; text-decoration-color: #008080; font-weight: bold\">0.476926</span>           <span style=\"color: #008080; text-decoration-color: #008080; font-weight: bold\">0.755993</span>   \n",
       "Metric Type   Batch correction  Batch correction   Batch correction   \n",
       "\n",
       "                PCR comparison Batch correction Bio conservation  \\\n",
       "Embedding                                                          \n",
       "Unintegrated               <span style=\"color: #008080; text-decoration-color: #008080; font-weight: bold\">0.0</span>         <span style=\"color: #008080; text-decoration-color: #008080; font-weight: bold\">0.155059</span>         <span style=\"color: #008080; text-decoration-color: #008080; font-weight: bold\">0.390009</span>   \n",
       "Scanorama             <span style=\"color: #008080; text-decoration-color: #008080; font-weight: bold\">0.340263</span>         <span style=\"color: #008080; text-decoration-color: #008080; font-weight: bold\">0.516758</span>           <span style=\"color: #008080; text-decoration-color: #008080; font-weight: bold\">0.6241</span>   \n",
       "LIGER                      <span style=\"color: #008080; text-decoration-color: #008080; font-weight: bold\">1.0</span>         <span style=\"color: #008080; text-decoration-color: #008080; font-weight: bold\">0.740182</span>          <span style=\"color: #008080; text-decoration-color: #008080; font-weight: bold\">0.30522</span>   \n",
       "Harmony               <span style=\"color: #008080; text-decoration-color: #008080; font-weight: bold\">0.747435</span>         <span style=\"color: #008080; text-decoration-color: #008080; font-weight: bold\">0.623153</span>         <span style=\"color: #008080; text-decoration-color: #008080; font-weight: bold\">0.261164</span>   \n",
       "scVI                  <span style=\"color: #008080; text-decoration-color: #008080; font-weight: bold\">0.820327</span>         <span style=\"color: #008080; text-decoration-color: #008080; font-weight: bold\">0.643639</span>         <span style=\"color: #008080; text-decoration-color: #008080; font-weight: bold\">0.643436</span>   \n",
       "scANVI                <span style=\"color: #008080; text-decoration-color: #008080; font-weight: bold\">0.701324</span>          <span style=\"color: #008080; text-decoration-color: #008080; font-weight: bold\">0.60666</span>         <span style=\"color: #008080; text-decoration-color: #008080; font-weight: bold\">0.884248</span>   \n",
       "CCA                   <span style=\"color: #008080; text-decoration-color: #008080; font-weight: bold\">0.684507</span>         <span style=\"color: #008080; text-decoration-color: #008080; font-weight: bold\">0.674282</span>           <span style=\"color: #008080; text-decoration-color: #008080; font-weight: bold\">0.5412</span>   \n",
       "FastMNN               <span style=\"color: #008080; text-decoration-color: #008080; font-weight: bold\">0.238395</span>         <span style=\"color: #008080; text-decoration-color: #008080; font-weight: bold\">0.455117</span>         <span style=\"color: #008080; text-decoration-color: #008080; font-weight: bold\">0.795152</span>   \n",
       "Metric Type   Batch correction  Aggregate score  Aggregate score   \n",
       "\n",
       "                        Total  \n",
       "Embedding                      \n",
       "Unintegrated         <span style=\"color: #008080; text-decoration-color: #008080; font-weight: bold\">0.296029</span>  \n",
       "Scanorama            <span style=\"color: #008080; text-decoration-color: #008080; font-weight: bold\">0.581163</span>  \n",
       "LIGER                <span style=\"color: #008080; text-decoration-color: #008080; font-weight: bold\">0.479205</span>  \n",
       "Harmony               <span style=\"color: #008080; text-decoration-color: #008080; font-weight: bold\">0.40596</span>  \n",
       "scVI                 <span style=\"color: #008080; text-decoration-color: #008080; font-weight: bold\">0.643517</span>  \n",
       "scANVI               <span style=\"color: #008080; text-decoration-color: #008080; font-weight: bold\">0.773213</span>  \n",
       "CCA                  <span style=\"color: #008080; text-decoration-color: #008080; font-weight: bold\">0.594433</span>  \n",
       "FastMNN              <span style=\"color: #008080; text-decoration-color: #008080; font-weight: bold\">0.659138</span>  \n",
       "Metric Type   Aggregate score  \n",
       "</pre>\n"
      ],
      "text/plain": [
       "               Isolated labels        KMeans NMI        KMeans ARI  \\\n",
       "Embedding                                                            \n",
       "Unintegrated          \u001b[1;36m0.106281\u001b[0m          \u001b[1;36m0.293291\u001b[0m          \u001b[1;36m0.101369\u001b[0m   \n",
       "Scanorama             \u001b[1;36m0.328192\u001b[0m           \u001b[1;36m0.56136\u001b[0m          \u001b[1;36m0.423138\u001b[0m   \n",
       "LIGER                      \u001b[1;36m1.0\u001b[0m               \u001b[1;36m0.0\u001b[0m               \u001b[1;36m0.0\u001b[0m   \n",
       "Harmony                    \u001b[1;36m0.0\u001b[0m          \u001b[1;36m0.273595\u001b[0m          \u001b[1;36m0.201876\u001b[0m   \n",
       "scVI                  \u001b[1;36m0.649641\u001b[0m          \u001b[1;36m0.648362\u001b[0m          \u001b[1;36m0.358416\u001b[0m   \n",
       "scANVI                \u001b[1;36m0.538081\u001b[0m               \u001b[1;36m1.0\u001b[0m               \u001b[1;36m1.0\u001b[0m   \n",
       "CCA                   \u001b[1;36m0.010374\u001b[0m          \u001b[1;36m0.662809\u001b[0m          \u001b[1;36m0.950838\u001b[0m   \n",
       "FastMNN               \u001b[1;36m0.604323\u001b[0m          \u001b[1;36m0.735398\u001b[0m           \u001b[1;36m0.86354\u001b[0m   \n",
       "Metric Type   Bio conservation  Bio conservation  Bio conservation   \n",
       "\n",
       "              Silhouette label             cLISI  Silhouette batch  \\\n",
       "Embedding                                                            \n",
       "Unintegrated          \u001b[1;36m0.449101\u001b[0m               \u001b[1;36m1.0\u001b[0m               \u001b[1;36m0.0\u001b[0m   \n",
       "Scanorama             \u001b[1;36m0.857747\u001b[0m          \u001b[1;36m0.950061\u001b[0m               \u001b[1;36m1.0\u001b[0m   \n",
       "LIGER                   \u001b[1;36m0.5261\u001b[0m               \u001b[1;36m0.0\u001b[0m          \u001b[1;36m0.700912\u001b[0m   \n",
       "Harmony                    \u001b[1;36m0.0\u001b[0m           \u001b[1;36m0.83035\u001b[0m          \u001b[1;36m0.921375\u001b[0m   \n",
       "scVI                  \u001b[1;36m0.678633\u001b[0m           \u001b[1;36m0.88213\u001b[0m          \u001b[1;36m0.923208\u001b[0m   \n",
       "scANVI                     \u001b[1;36m1.0\u001b[0m          \u001b[1;36m0.883161\u001b[0m          \u001b[1;36m0.838819\u001b[0m   \n",
       "CCA                   \u001b[1;36m0.397611\u001b[0m          \u001b[1;36m0.684368\u001b[0m          \u001b[1;36m0.786479\u001b[0m   \n",
       "FastMNN               \u001b[1;36m0.970551\u001b[0m          \u001b[1;36m0.801949\u001b[0m          \u001b[1;36m0.767449\u001b[0m   \n",
       "Metric Type   Bio conservation  Bio conservation  Batch correction   \n",
       "\n",
       "                         iLISI              KBET Graph connectivity  \\\n",
       "Embedding                                                             \n",
       "Unintegrated               \u001b[1;36m0.0\u001b[0m               \u001b[1;36m0.0\u001b[0m           \u001b[1;36m0.775295\u001b[0m   \n",
       "Scanorama             \u001b[1;36m0.000001\u001b[0m          \u001b[1;36m0.466107\u001b[0m           \u001b[1;36m0.777416\u001b[0m   \n",
       "LIGER                      \u001b[1;36m1.0\u001b[0m               \u001b[1;36m1.0\u001b[0m                \u001b[1;36m0.0\u001b[0m   \n",
       "Harmony               \u001b[1;36m0.085394\u001b[0m          \u001b[1;36m0.576048\u001b[0m           \u001b[1;36m0.785512\u001b[0m   \n",
       "scVI                  \u001b[1;36m0.014433\u001b[0m          \u001b[1;36m0.460225\u001b[0m                \u001b[1;36m1.0\u001b[0m   \n",
       "scANVI                \u001b[1;36m0.029017\u001b[0m          \u001b[1;36m0.498464\u001b[0m           \u001b[1;36m0.965677\u001b[0m   \n",
       "CCA                   \u001b[1;36m0.498113\u001b[0m          \u001b[1;36m0.747074\u001b[0m           \u001b[1;36m0.655236\u001b[0m   \n",
       "FastMNN               \u001b[1;36m0.036824\u001b[0m          \u001b[1;36m0.476926\u001b[0m           \u001b[1;36m0.755993\u001b[0m   \n",
       "Metric Type   Batch correction  Batch correction   Batch correction   \n",
       "\n",
       "                PCR comparison Batch correction Bio conservation  \\\n",
       "Embedding                                                          \n",
       "Unintegrated               \u001b[1;36m0.0\u001b[0m         \u001b[1;36m0.155059\u001b[0m         \u001b[1;36m0.390009\u001b[0m   \n",
       "Scanorama             \u001b[1;36m0.340263\u001b[0m         \u001b[1;36m0.516758\u001b[0m           \u001b[1;36m0.6241\u001b[0m   \n",
       "LIGER                      \u001b[1;36m1.0\u001b[0m         \u001b[1;36m0.740182\u001b[0m          \u001b[1;36m0.30522\u001b[0m   \n",
       "Harmony               \u001b[1;36m0.747435\u001b[0m         \u001b[1;36m0.623153\u001b[0m         \u001b[1;36m0.261164\u001b[0m   \n",
       "scVI                  \u001b[1;36m0.820327\u001b[0m         \u001b[1;36m0.643639\u001b[0m         \u001b[1;36m0.643436\u001b[0m   \n",
       "scANVI                \u001b[1;36m0.701324\u001b[0m          \u001b[1;36m0.60666\u001b[0m         \u001b[1;36m0.884248\u001b[0m   \n",
       "CCA                   \u001b[1;36m0.684507\u001b[0m         \u001b[1;36m0.674282\u001b[0m           \u001b[1;36m0.5412\u001b[0m   \n",
       "FastMNN               \u001b[1;36m0.238395\u001b[0m         \u001b[1;36m0.455117\u001b[0m         \u001b[1;36m0.795152\u001b[0m   \n",
       "Metric Type   Batch correction  Aggregate score  Aggregate score   \n",
       "\n",
       "                        Total  \n",
       "Embedding                      \n",
       "Unintegrated         \u001b[1;36m0.296029\u001b[0m  \n",
       "Scanorama            \u001b[1;36m0.581163\u001b[0m  \n",
       "LIGER                \u001b[1;36m0.479205\u001b[0m  \n",
       "Harmony               \u001b[1;36m0.40596\u001b[0m  \n",
       "scVI                 \u001b[1;36m0.643517\u001b[0m  \n",
       "scANVI               \u001b[1;36m0.773213\u001b[0m  \n",
       "CCA                  \u001b[1;36m0.594433\u001b[0m  \n",
       "FastMNN              \u001b[1;36m0.659138\u001b[0m  \n",
       "Metric Type   Aggregate score  \n"
      ]
     },
     "metadata": {},
     "output_type": "display_data"
    }
   ],
   "source": [
    "from rich import print\n",
    "\n",
    "df2 = bm.get_results()\n",
    "print(df2)"
   ]
  },
  {
   "cell_type": "code",
   "execution_count": 70,
   "id": "35979efb-0b64-4dda-a219-465a0cca50d4",
   "metadata": {},
   "outputs": [
    {
     "data": {
      "text/html": [
       "<div>\n",
       "<style scoped>\n",
       "    .dataframe tbody tr th:only-of-type {\n",
       "        vertical-align: middle;\n",
       "    }\n",
       "\n",
       "    .dataframe tbody tr th {\n",
       "        vertical-align: top;\n",
       "    }\n",
       "\n",
       "    .dataframe thead th {\n",
       "        text-align: right;\n",
       "    }\n",
       "</style>\n",
       "<table border=\"1\" class=\"dataframe\">\n",
       "  <thead>\n",
       "    <tr style=\"text-align: right;\">\n",
       "      <th>Embedding</th>\n",
       "      <th>Unintegrated</th>\n",
       "      <th>Scanorama</th>\n",
       "      <th>LIGER</th>\n",
       "      <th>Harmony</th>\n",
       "      <th>scVI</th>\n",
       "      <th>scANVI</th>\n",
       "      <th>CCA</th>\n",
       "      <th>FastMNN</th>\n",
       "      <th>Metric Type</th>\n",
       "    </tr>\n",
       "  </thead>\n",
       "  <tbody>\n",
       "    <tr>\n",
       "      <th>Isolated labels</th>\n",
       "      <td>0.106281</td>\n",
       "      <td>0.328192</td>\n",
       "      <td>1.0</td>\n",
       "      <td>0.0</td>\n",
       "      <td>0.649641</td>\n",
       "      <td>0.538081</td>\n",
       "      <td>0.010374</td>\n",
       "      <td>0.604323</td>\n",
       "      <td>Bio conservation</td>\n",
       "    </tr>\n",
       "    <tr>\n",
       "      <th>KMeans NMI</th>\n",
       "      <td>0.293291</td>\n",
       "      <td>0.56136</td>\n",
       "      <td>0.0</td>\n",
       "      <td>0.273595</td>\n",
       "      <td>0.648362</td>\n",
       "      <td>1.0</td>\n",
       "      <td>0.662809</td>\n",
       "      <td>0.735398</td>\n",
       "      <td>Bio conservation</td>\n",
       "    </tr>\n",
       "    <tr>\n",
       "      <th>KMeans ARI</th>\n",
       "      <td>0.101369</td>\n",
       "      <td>0.423138</td>\n",
       "      <td>0.0</td>\n",
       "      <td>0.201876</td>\n",
       "      <td>0.358416</td>\n",
       "      <td>1.0</td>\n",
       "      <td>0.950838</td>\n",
       "      <td>0.86354</td>\n",
       "      <td>Bio conservation</td>\n",
       "    </tr>\n",
       "    <tr>\n",
       "      <th>Silhouette label</th>\n",
       "      <td>0.449101</td>\n",
       "      <td>0.857747</td>\n",
       "      <td>0.5261</td>\n",
       "      <td>0.0</td>\n",
       "      <td>0.678633</td>\n",
       "      <td>1.0</td>\n",
       "      <td>0.397611</td>\n",
       "      <td>0.970551</td>\n",
       "      <td>Bio conservation</td>\n",
       "    </tr>\n",
       "    <tr>\n",
       "      <th>cLISI</th>\n",
       "      <td>1.0</td>\n",
       "      <td>0.950061</td>\n",
       "      <td>0.0</td>\n",
       "      <td>0.83035</td>\n",
       "      <td>0.88213</td>\n",
       "      <td>0.883161</td>\n",
       "      <td>0.684368</td>\n",
       "      <td>0.801949</td>\n",
       "      <td>Bio conservation</td>\n",
       "    </tr>\n",
       "    <tr>\n",
       "      <th>Silhouette batch</th>\n",
       "      <td>0.0</td>\n",
       "      <td>1.0</td>\n",
       "      <td>0.700912</td>\n",
       "      <td>0.921375</td>\n",
       "      <td>0.923208</td>\n",
       "      <td>0.838819</td>\n",
       "      <td>0.786479</td>\n",
       "      <td>0.767449</td>\n",
       "      <td>Batch correction</td>\n",
       "    </tr>\n",
       "    <tr>\n",
       "      <th>iLISI</th>\n",
       "      <td>0.0</td>\n",
       "      <td>0.000001</td>\n",
       "      <td>1.0</td>\n",
       "      <td>0.085394</td>\n",
       "      <td>0.014433</td>\n",
       "      <td>0.029017</td>\n",
       "      <td>0.498113</td>\n",
       "      <td>0.036824</td>\n",
       "      <td>Batch correction</td>\n",
       "    </tr>\n",
       "    <tr>\n",
       "      <th>KBET</th>\n",
       "      <td>0.0</td>\n",
       "      <td>0.466107</td>\n",
       "      <td>1.0</td>\n",
       "      <td>0.576048</td>\n",
       "      <td>0.460225</td>\n",
       "      <td>0.498464</td>\n",
       "      <td>0.747074</td>\n",
       "      <td>0.476926</td>\n",
       "      <td>Batch correction</td>\n",
       "    </tr>\n",
       "    <tr>\n",
       "      <th>Graph connectivity</th>\n",
       "      <td>0.775295</td>\n",
       "      <td>0.777416</td>\n",
       "      <td>0.0</td>\n",
       "      <td>0.785512</td>\n",
       "      <td>1.0</td>\n",
       "      <td>0.965677</td>\n",
       "      <td>0.655236</td>\n",
       "      <td>0.755993</td>\n",
       "      <td>Batch correction</td>\n",
       "    </tr>\n",
       "    <tr>\n",
       "      <th>PCR comparison</th>\n",
       "      <td>0.0</td>\n",
       "      <td>0.340263</td>\n",
       "      <td>1.0</td>\n",
       "      <td>0.747435</td>\n",
       "      <td>0.820327</td>\n",
       "      <td>0.701324</td>\n",
       "      <td>0.684507</td>\n",
       "      <td>0.238395</td>\n",
       "      <td>Batch correction</td>\n",
       "    </tr>\n",
       "    <tr>\n",
       "      <th>Batch correction</th>\n",
       "      <td>0.155059</td>\n",
       "      <td>0.516758</td>\n",
       "      <td>0.740182</td>\n",
       "      <td>0.623153</td>\n",
       "      <td>0.643639</td>\n",
       "      <td>0.60666</td>\n",
       "      <td>0.674282</td>\n",
       "      <td>0.455117</td>\n",
       "      <td>Aggregate score</td>\n",
       "    </tr>\n",
       "    <tr>\n",
       "      <th>Bio conservation</th>\n",
       "      <td>0.390009</td>\n",
       "      <td>0.6241</td>\n",
       "      <td>0.30522</td>\n",
       "      <td>0.261164</td>\n",
       "      <td>0.643436</td>\n",
       "      <td>0.884248</td>\n",
       "      <td>0.5412</td>\n",
       "      <td>0.795152</td>\n",
       "      <td>Aggregate score</td>\n",
       "    </tr>\n",
       "    <tr>\n",
       "      <th>Total</th>\n",
       "      <td>0.296029</td>\n",
       "      <td>0.581163</td>\n",
       "      <td>0.479205</td>\n",
       "      <td>0.40596</td>\n",
       "      <td>0.643517</td>\n",
       "      <td>0.773213</td>\n",
       "      <td>0.594433</td>\n",
       "      <td>0.659138</td>\n",
       "      <td>Aggregate score</td>\n",
       "    </tr>\n",
       "  </tbody>\n",
       "</table>\n",
       "</div>"
      ],
      "text/plain": [
       "Embedding          Unintegrated Scanorama     LIGER   Harmony      scVI  \\\n",
       "Isolated labels        0.106281  0.328192       1.0       0.0  0.649641   \n",
       "KMeans NMI             0.293291   0.56136       0.0  0.273595  0.648362   \n",
       "KMeans ARI             0.101369  0.423138       0.0  0.201876  0.358416   \n",
       "Silhouette label       0.449101  0.857747    0.5261       0.0  0.678633   \n",
       "cLISI                       1.0  0.950061       0.0   0.83035   0.88213   \n",
       "Silhouette batch            0.0       1.0  0.700912  0.921375  0.923208   \n",
       "iLISI                       0.0  0.000001       1.0  0.085394  0.014433   \n",
       "KBET                        0.0  0.466107       1.0  0.576048  0.460225   \n",
       "Graph connectivity     0.775295  0.777416       0.0  0.785512       1.0   \n",
       "PCR comparison              0.0  0.340263       1.0  0.747435  0.820327   \n",
       "Batch correction       0.155059  0.516758  0.740182  0.623153  0.643639   \n",
       "Bio conservation       0.390009    0.6241   0.30522  0.261164  0.643436   \n",
       "Total                  0.296029  0.581163  0.479205   0.40596  0.643517   \n",
       "\n",
       "Embedding             scANVI       CCA   FastMNN       Metric Type  \n",
       "Isolated labels     0.538081  0.010374  0.604323  Bio conservation  \n",
       "KMeans NMI               1.0  0.662809  0.735398  Bio conservation  \n",
       "KMeans ARI               1.0  0.950838   0.86354  Bio conservation  \n",
       "Silhouette label         1.0  0.397611  0.970551  Bio conservation  \n",
       "cLISI               0.883161  0.684368  0.801949  Bio conservation  \n",
       "Silhouette batch    0.838819  0.786479  0.767449  Batch correction  \n",
       "iLISI               0.029017  0.498113  0.036824  Batch correction  \n",
       "KBET                0.498464  0.747074  0.476926  Batch correction  \n",
       "Graph connectivity  0.965677  0.655236  0.755993  Batch correction  \n",
       "PCR comparison      0.701324  0.684507  0.238395  Batch correction  \n",
       "Batch correction     0.60666  0.674282  0.455117   Aggregate score  \n",
       "Bio conservation    0.884248    0.5412  0.795152   Aggregate score  \n",
       "Total               0.773213  0.594433  0.659138   Aggregate score  "
      ]
     },
     "execution_count": 70,
     "metadata": {},
     "output_type": "execute_result"
    }
   ],
   "source": [
    "df2.transpose()"
   ]
  },
  {
   "cell_type": "code",
   "execution_count": 71,
   "id": "ba228a1c-f6e8-4c54-aa8e-134489e59b40",
   "metadata": {},
   "outputs": [],
   "source": [
    "df2_transposed = df2.transpose()\n",
    "df2_transposed.to_csv('scib_df_transposed_min_max_scale=True.csv', index=False)"
   ]
  },
  {
   "cell_type": "code",
   "execution_count": null,
   "id": "0e329b65-ba99-4141-b255-f58a094ff626",
   "metadata": {},
   "outputs": [],
   "source": [
    "bm.plot_results_table(min_max_scale=False,save_dir=\"/mnt/disk5/Lanxiang/Human_integrated/integrated/8_Progress/monkey_ref_all/figures/\")"
   ]
  },
  {
   "cell_type": "code",
   "execution_count": 63,
   "id": "dc397323-7441-4a51-bf28-84d68b564909",
   "metadata": {},
   "outputs": [],
   "source": [
    "adata.raw.var.rename(columns={'_index': 'index'}, inplace=True)\n",
    "adata.write_h5ad(filename=\"scib_monkey_remove_Sasaki8.20.h5ad\")"
   ]
  },
  {
   "cell_type": "code",
   "execution_count": 64,
   "id": "2aedcfd1-a69f-40fc-b78d-4ec7793c2bad",
   "metadata": {},
   "outputs": [
    {
     "data": {
      "text/html": [
       "<pre style=\"white-space:pre;overflow-x:auto;line-height:normal;font-family:Menlo,'DejaVu Sans Mono',consolas,'Courier New',monospace\">               Isolated labels        KMeans NMI        KMeans ARI  \\\n",
       "Embedding                                                            \n",
       "Unintegrated          <span style=\"color: #008080; text-decoration-color: #008080; font-weight: bold\">0.450284</span>          <span style=\"color: #008080; text-decoration-color: #008080; font-weight: bold\">0.467911</span>          <span style=\"color: #008080; text-decoration-color: #008080; font-weight: bold\">0.240439</span>   \n",
       "Scanorama             <span style=\"color: #008080; text-decoration-color: #008080; font-weight: bold\">0.494926</span>          <span style=\"color: #008080; text-decoration-color: #008080; font-weight: bold\">0.506873</span>          <span style=\"color: #008080; text-decoration-color: #008080; font-weight: bold\">0.298482</span>   \n",
       "LIGER                 <span style=\"color: #008080; text-decoration-color: #008080; font-weight: bold\">0.630077</span>          <span style=\"color: #008080; text-decoration-color: #008080; font-weight: bold\">0.425284</span>          <span style=\"color: #008080; text-decoration-color: #008080; font-weight: bold\">0.222153</span>   \n",
       "Harmony               <span style=\"color: #008080; text-decoration-color: #008080; font-weight: bold\">0.428903</span>          <span style=\"color: #008080; text-decoration-color: #008080; font-weight: bold\">0.465049</span>          <span style=\"color: #008080; text-decoration-color: #008080; font-weight: bold\">0.258569</span>   \n",
       "scVI                  <span style=\"color: #008080; text-decoration-color: #008080; font-weight: bold\">0.559593</span>          <span style=\"color: #008080; text-decoration-color: #008080; font-weight: bold\">0.519518</span>          <span style=\"color: #008080; text-decoration-color: #008080; font-weight: bold\">0.286807</span>   \n",
       "scANVI                <span style=\"color: #008080; text-decoration-color: #008080; font-weight: bold\">0.537151</span>          <span style=\"color: #008080; text-decoration-color: #008080; font-weight: bold\">0.570626</span>          <span style=\"color: #008080; text-decoration-color: #008080; font-weight: bold\">0.402541</span>   \n",
       "CCA                    <span style=\"color: #008080; text-decoration-color: #008080; font-weight: bold\">0.43099</span>          <span style=\"color: #008080; text-decoration-color: #008080; font-weight: bold\">0.521618</span>          <span style=\"color: #008080; text-decoration-color: #008080; font-weight: bold\">0.393672</span>   \n",
       "FastMNN               <span style=\"color: #008080; text-decoration-color: #008080; font-weight: bold\">0.550477</span>          <span style=\"color: #008080; text-decoration-color: #008080; font-weight: bold\">0.532168</span>          <span style=\"color: #008080; text-decoration-color: #008080; font-weight: bold\">0.377925</span>   \n",
       "Metric Type   Bio conservation  Bio conservation  Bio conservation   \n",
       "\n",
       "              Silhouette label             cLISI  Silhouette batch  \\\n",
       "Embedding                                                            \n",
       "Unintegrated          <span style=\"color: #008080; text-decoration-color: #008080; font-weight: bold\">0.497519</span>          <span style=\"color: #008080; text-decoration-color: #008080; font-weight: bold\">0.998962</span>           <span style=\"color: #008080; text-decoration-color: #008080; font-weight: bold\">0.77526</span>   \n",
       "Scanorama              <span style=\"color: #008080; text-decoration-color: #008080; font-weight: bold\">0.52551</span>          <span style=\"color: #008080; text-decoration-color: #008080; font-weight: bold\">0.998392</span>           <span style=\"color: #008080; text-decoration-color: #008080; font-weight: bold\">0.87171</span>   \n",
       "LIGER                 <span style=\"color: #008080; text-decoration-color: #008080; font-weight: bold\">0.502793</span>          <span style=\"color: #008080; text-decoration-color: #008080; font-weight: bold\">0.987538</span>          <span style=\"color: #008080; text-decoration-color: #008080; font-weight: bold\">0.842863</span>   \n",
       "Harmony               <span style=\"color: #008080; text-decoration-color: #008080; font-weight: bold\">0.466756</span>          <span style=\"color: #008080; text-decoration-color: #008080; font-weight: bold\">0.997024</span>          <span style=\"color: #008080; text-decoration-color: #008080; font-weight: bold\">0.864127</span>   \n",
       "scVI                  <span style=\"color: #008080; text-decoration-color: #008080; font-weight: bold\">0.513241</span>          <span style=\"color: #008080; text-decoration-color: #008080; font-weight: bold\">0.997616</span>          <span style=\"color: #008080; text-decoration-color: #008080; font-weight: bold\">0.864303</span>   \n",
       "scANVI                <span style=\"color: #008080; text-decoration-color: #008080; font-weight: bold\">0.535254</span>          <span style=\"color: #008080; text-decoration-color: #008080; font-weight: bold\">0.997628</span>          <span style=\"color: #008080; text-decoration-color: #008080; font-weight: bold\">0.856164</span>   \n",
       "CCA                   <span style=\"color: #008080; text-decoration-color: #008080; font-weight: bold\">0.493992</span>          <span style=\"color: #008080; text-decoration-color: #008080; font-weight: bold\">0.995357</span>          <span style=\"color: #008080; text-decoration-color: #008080; font-weight: bold\">0.851116</span>   \n",
       "FastMNN               <span style=\"color: #008080; text-decoration-color: #008080; font-weight: bold\">0.533237</span>            <span style=\"color: #008080; text-decoration-color: #008080; font-weight: bold\">0.9967</span>           <span style=\"color: #008080; text-decoration-color: #008080; font-weight: bold\">0.84928</span>   \n",
       "Metric Type   Bio conservation  Bio conservation  Batch correction   \n",
       "\n",
       "                         iLISI              KBET Graph connectivity  \\\n",
       "Embedding                                                             \n",
       "Unintegrated               <span style=\"color: #008080; text-decoration-color: #008080; font-weight: bold\">0.0</span>            <span style=\"color: #008080; text-decoration-color: #008080; font-weight: bold\">0.1741</span>           <span style=\"color: #008080; text-decoration-color: #008080; font-weight: bold\">0.840131</span>   \n",
       "Scanorama                  <span style=\"color: #008080; text-decoration-color: #008080; font-weight: bold\">0.0</span>           <span style=\"color: #008080; text-decoration-color: #008080; font-weight: bold\">0.25923</span>           <span style=\"color: #008080; text-decoration-color: #008080; font-weight: bold\">0.840603</span>   \n",
       "LIGER                 <span style=\"color: #008080; text-decoration-color: #008080; font-weight: bold\">0.063976</span>           <span style=\"color: #008080; text-decoration-color: #008080; font-weight: bold\">0.35674</span>           <span style=\"color: #008080; text-decoration-color: #008080; font-weight: bold\">0.667429</span>   \n",
       "Harmony               <span style=\"color: #008080; text-decoration-color: #008080; font-weight: bold\">0.005463</span>          <span style=\"color: #008080; text-decoration-color: #008080; font-weight: bold\">0.279309</span>           <span style=\"color: #008080; text-decoration-color: #008080; font-weight: bold\">0.842407</span>   \n",
       "scVI                  <span style=\"color: #008080; text-decoration-color: #008080; font-weight: bold\">0.000923</span>          <span style=\"color: #008080; text-decoration-color: #008080; font-weight: bold\">0.258155</span>           <span style=\"color: #008080; text-decoration-color: #008080; font-weight: bold\">0.890185</span>   \n",
       "scANVI                <span style=\"color: #008080; text-decoration-color: #008080; font-weight: bold\">0.001856</span>          <span style=\"color: #008080; text-decoration-color: #008080; font-weight: bold\">0.265139</span>           <span style=\"color: #008080; text-decoration-color: #008080; font-weight: bold\">0.882539</span>   \n",
       "CCA                   <span style=\"color: #008080; text-decoration-color: #008080; font-weight: bold\">0.031867</span>          <span style=\"color: #008080; text-decoration-color: #008080; font-weight: bold\">0.310545</span>           <span style=\"color: #008080; text-decoration-color: #008080; font-weight: bold\">0.813387</span>   \n",
       "FastMNN               <span style=\"color: #008080; text-decoration-color: #008080; font-weight: bold\">0.002356</span>          <span style=\"color: #008080; text-decoration-color: #008080; font-weight: bold\">0.261206</span>           <span style=\"color: #008080; text-decoration-color: #008080; font-weight: bold\">0.835831</span>   \n",
       "Metric Type   Batch correction  Batch correction   Batch correction   \n",
       "\n",
       "                PCR comparison Batch correction Bio conservation  \\\n",
       "Embedding                                                          \n",
       "Unintegrated          <span style=\"color: #008080; text-decoration-color: #008080; font-weight: bold\">0.367755</span>         <span style=\"color: #008080; text-decoration-color: #008080; font-weight: bold\">0.431449</span>         <span style=\"color: #008080; text-decoration-color: #008080; font-weight: bold\">0.531023</span>   \n",
       "Scanorama             <span style=\"color: #008080; text-decoration-color: #008080; font-weight: bold\">0.552723</span>         <span style=\"color: #008080; text-decoration-color: #008080; font-weight: bold\">0.504853</span>         <span style=\"color: #008080; text-decoration-color: #008080; font-weight: bold\">0.564837</span>   \n",
       "LIGER                 <span style=\"color: #008080; text-decoration-color: #008080; font-weight: bold\">0.911358</span>         <span style=\"color: #008080; text-decoration-color: #008080; font-weight: bold\">0.568473</span>         <span style=\"color: #008080; text-decoration-color: #008080; font-weight: bold\">0.553569</span>   \n",
       "Harmony               <span style=\"color: #008080; text-decoration-color: #008080; font-weight: bold\">0.774062</span>         <span style=\"color: #008080; text-decoration-color: #008080; font-weight: bold\">0.553074</span>          <span style=\"color: #008080; text-decoration-color: #008080; font-weight: bold\">0.52326</span>   \n",
       "scVI                  <span style=\"color: #008080; text-decoration-color: #008080; font-weight: bold\">0.813687</span>         <span style=\"color: #008080; text-decoration-color: #008080; font-weight: bold\">0.565451</span>         <span style=\"color: #008080; text-decoration-color: #008080; font-weight: bold\">0.575355</span>   \n",
       "scANVI                <span style=\"color: #008080; text-decoration-color: #008080; font-weight: bold\">0.748997</span>         <span style=\"color: #008080; text-decoration-color: #008080; font-weight: bold\">0.550939</span>          <span style=\"color: #008080; text-decoration-color: #008080; font-weight: bold\">0.60864</span>   \n",
       "CCA                   <span style=\"color: #008080; text-decoration-color: #008080; font-weight: bold\">0.739855</span>         <span style=\"color: #008080; text-decoration-color: #008080; font-weight: bold\">0.549354</span>         <span style=\"color: #008080; text-decoration-color: #008080; font-weight: bold\">0.567126</span>   \n",
       "FastMNN               <span style=\"color: #008080; text-decoration-color: #008080; font-weight: bold\">0.497347</span>         <span style=\"color: #008080; text-decoration-color: #008080; font-weight: bold\">0.489204</span>         <span style=\"color: #008080; text-decoration-color: #008080; font-weight: bold\">0.598101</span>   \n",
       "Metric Type   Batch correction  Aggregate score  Aggregate score   \n",
       "\n",
       "                        Total  \n",
       "Embedding                      \n",
       "Unintegrated         <span style=\"color: #008080; text-decoration-color: #008080; font-weight: bold\">0.491193</span>  \n",
       "Scanorama            <span style=\"color: #008080; text-decoration-color: #008080; font-weight: bold\">0.540843</span>  \n",
       "LIGER                <span style=\"color: #008080; text-decoration-color: #008080; font-weight: bold\">0.559531</span>  \n",
       "Harmony              <span style=\"color: #008080; text-decoration-color: #008080; font-weight: bold\">0.535186</span>  \n",
       "scVI                 <span style=\"color: #008080; text-decoration-color: #008080; font-weight: bold\">0.571393</span>  \n",
       "scANVI                <span style=\"color: #008080; text-decoration-color: #008080; font-weight: bold\">0.58556</span>  \n",
       "CCA                  <span style=\"color: #008080; text-decoration-color: #008080; font-weight: bold\">0.560017</span>  \n",
       "FastMNN              <span style=\"color: #008080; text-decoration-color: #008080; font-weight: bold\">0.554542</span>  \n",
       "Metric Type   Aggregate score  \n",
       "</pre>\n"
      ],
      "text/plain": [
       "               Isolated labels        KMeans NMI        KMeans ARI  \\\n",
       "Embedding                                                            \n",
       "Unintegrated          \u001b[1;36m0.450284\u001b[0m          \u001b[1;36m0.467911\u001b[0m          \u001b[1;36m0.240439\u001b[0m   \n",
       "Scanorama             \u001b[1;36m0.494926\u001b[0m          \u001b[1;36m0.506873\u001b[0m          \u001b[1;36m0.298482\u001b[0m   \n",
       "LIGER                 \u001b[1;36m0.630077\u001b[0m          \u001b[1;36m0.425284\u001b[0m          \u001b[1;36m0.222153\u001b[0m   \n",
       "Harmony               \u001b[1;36m0.428903\u001b[0m          \u001b[1;36m0.465049\u001b[0m          \u001b[1;36m0.258569\u001b[0m   \n",
       "scVI                  \u001b[1;36m0.559593\u001b[0m          \u001b[1;36m0.519518\u001b[0m          \u001b[1;36m0.286807\u001b[0m   \n",
       "scANVI                \u001b[1;36m0.537151\u001b[0m          \u001b[1;36m0.570626\u001b[0m          \u001b[1;36m0.402541\u001b[0m   \n",
       "CCA                    \u001b[1;36m0.43099\u001b[0m          \u001b[1;36m0.521618\u001b[0m          \u001b[1;36m0.393672\u001b[0m   \n",
       "FastMNN               \u001b[1;36m0.550477\u001b[0m          \u001b[1;36m0.532168\u001b[0m          \u001b[1;36m0.377925\u001b[0m   \n",
       "Metric Type   Bio conservation  Bio conservation  Bio conservation   \n",
       "\n",
       "              Silhouette label             cLISI  Silhouette batch  \\\n",
       "Embedding                                                            \n",
       "Unintegrated          \u001b[1;36m0.497519\u001b[0m          \u001b[1;36m0.998962\u001b[0m           \u001b[1;36m0.77526\u001b[0m   \n",
       "Scanorama              \u001b[1;36m0.52551\u001b[0m          \u001b[1;36m0.998392\u001b[0m           \u001b[1;36m0.87171\u001b[0m   \n",
       "LIGER                 \u001b[1;36m0.502793\u001b[0m          \u001b[1;36m0.987538\u001b[0m          \u001b[1;36m0.842863\u001b[0m   \n",
       "Harmony               \u001b[1;36m0.466756\u001b[0m          \u001b[1;36m0.997024\u001b[0m          \u001b[1;36m0.864127\u001b[0m   \n",
       "scVI                  \u001b[1;36m0.513241\u001b[0m          \u001b[1;36m0.997616\u001b[0m          \u001b[1;36m0.864303\u001b[0m   \n",
       "scANVI                \u001b[1;36m0.535254\u001b[0m          \u001b[1;36m0.997628\u001b[0m          \u001b[1;36m0.856164\u001b[0m   \n",
       "CCA                   \u001b[1;36m0.493992\u001b[0m          \u001b[1;36m0.995357\u001b[0m          \u001b[1;36m0.851116\u001b[0m   \n",
       "FastMNN               \u001b[1;36m0.533237\u001b[0m            \u001b[1;36m0.9967\u001b[0m           \u001b[1;36m0.84928\u001b[0m   \n",
       "Metric Type   Bio conservation  Bio conservation  Batch correction   \n",
       "\n",
       "                         iLISI              KBET Graph connectivity  \\\n",
       "Embedding                                                             \n",
       "Unintegrated               \u001b[1;36m0.0\u001b[0m            \u001b[1;36m0.1741\u001b[0m           \u001b[1;36m0.840131\u001b[0m   \n",
       "Scanorama                  \u001b[1;36m0.0\u001b[0m           \u001b[1;36m0.25923\u001b[0m           \u001b[1;36m0.840603\u001b[0m   \n",
       "LIGER                 \u001b[1;36m0.063976\u001b[0m           \u001b[1;36m0.35674\u001b[0m           \u001b[1;36m0.667429\u001b[0m   \n",
       "Harmony               \u001b[1;36m0.005463\u001b[0m          \u001b[1;36m0.279309\u001b[0m           \u001b[1;36m0.842407\u001b[0m   \n",
       "scVI                  \u001b[1;36m0.000923\u001b[0m          \u001b[1;36m0.258155\u001b[0m           \u001b[1;36m0.890185\u001b[0m   \n",
       "scANVI                \u001b[1;36m0.001856\u001b[0m          \u001b[1;36m0.265139\u001b[0m           \u001b[1;36m0.882539\u001b[0m   \n",
       "CCA                   \u001b[1;36m0.031867\u001b[0m          \u001b[1;36m0.310545\u001b[0m           \u001b[1;36m0.813387\u001b[0m   \n",
       "FastMNN               \u001b[1;36m0.002356\u001b[0m          \u001b[1;36m0.261206\u001b[0m           \u001b[1;36m0.835831\u001b[0m   \n",
       "Metric Type   Batch correction  Batch correction   Batch correction   \n",
       "\n",
       "                PCR comparison Batch correction Bio conservation  \\\n",
       "Embedding                                                          \n",
       "Unintegrated          \u001b[1;36m0.367755\u001b[0m         \u001b[1;36m0.431449\u001b[0m         \u001b[1;36m0.531023\u001b[0m   \n",
       "Scanorama             \u001b[1;36m0.552723\u001b[0m         \u001b[1;36m0.504853\u001b[0m         \u001b[1;36m0.564837\u001b[0m   \n",
       "LIGER                 \u001b[1;36m0.911358\u001b[0m         \u001b[1;36m0.568473\u001b[0m         \u001b[1;36m0.553569\u001b[0m   \n",
       "Harmony               \u001b[1;36m0.774062\u001b[0m         \u001b[1;36m0.553074\u001b[0m          \u001b[1;36m0.52326\u001b[0m   \n",
       "scVI                  \u001b[1;36m0.813687\u001b[0m         \u001b[1;36m0.565451\u001b[0m         \u001b[1;36m0.575355\u001b[0m   \n",
       "scANVI                \u001b[1;36m0.748997\u001b[0m         \u001b[1;36m0.550939\u001b[0m          \u001b[1;36m0.60864\u001b[0m   \n",
       "CCA                   \u001b[1;36m0.739855\u001b[0m         \u001b[1;36m0.549354\u001b[0m         \u001b[1;36m0.567126\u001b[0m   \n",
       "FastMNN               \u001b[1;36m0.497347\u001b[0m         \u001b[1;36m0.489204\u001b[0m         \u001b[1;36m0.598101\u001b[0m   \n",
       "Metric Type   Batch correction  Aggregate score  Aggregate score   \n",
       "\n",
       "                        Total  \n",
       "Embedding                      \n",
       "Unintegrated         \u001b[1;36m0.491193\u001b[0m  \n",
       "Scanorama            \u001b[1;36m0.540843\u001b[0m  \n",
       "LIGER                \u001b[1;36m0.559531\u001b[0m  \n",
       "Harmony              \u001b[1;36m0.535186\u001b[0m  \n",
       "scVI                 \u001b[1;36m0.571393\u001b[0m  \n",
       "scANVI                \u001b[1;36m0.58556\u001b[0m  \n",
       "CCA                  \u001b[1;36m0.560017\u001b[0m  \n",
       "FastMNN              \u001b[1;36m0.554542\u001b[0m  \n",
       "Metric Type   Aggregate score  \n"
      ]
     },
     "metadata": {},
     "output_type": "display_data"
    }
   ],
   "source": [
    "from rich import print\n",
    "\n",
    "df = bm.get_results(min_max_scale=False)\n",
    "print(df)"
   ]
  },
  {
   "cell_type": "code",
   "execution_count": 68,
   "id": "6a4e4a1f-fcd1-4c33-8066-ce1823100bcb",
   "metadata": {},
   "outputs": [],
   "source": [
    "df.to_csv('scib_df.csv')"
   ]
  },
  {
   "cell_type": "code",
   "execution_count": 65,
   "id": "d1d39c8a-7528-43e0-a5ad-f50dcc60e86b",
   "metadata": {},
   "outputs": [
    {
     "data": {
      "text/html": [
       "<div>\n",
       "<style scoped>\n",
       "    .dataframe tbody tr th:only-of-type {\n",
       "        vertical-align: middle;\n",
       "    }\n",
       "\n",
       "    .dataframe tbody tr th {\n",
       "        vertical-align: top;\n",
       "    }\n",
       "\n",
       "    .dataframe thead th {\n",
       "        text-align: right;\n",
       "    }\n",
       "</style>\n",
       "<table border=\"1\" class=\"dataframe\">\n",
       "  <thead>\n",
       "    <tr style=\"text-align: right;\">\n",
       "      <th>Embedding</th>\n",
       "      <th>Unintegrated</th>\n",
       "      <th>Scanorama</th>\n",
       "      <th>LIGER</th>\n",
       "      <th>Harmony</th>\n",
       "      <th>scVI</th>\n",
       "      <th>scANVI</th>\n",
       "      <th>CCA</th>\n",
       "      <th>FastMNN</th>\n",
       "      <th>Metric Type</th>\n",
       "    </tr>\n",
       "  </thead>\n",
       "  <tbody>\n",
       "    <tr>\n",
       "      <th>Isolated labels</th>\n",
       "      <td>0.450284</td>\n",
       "      <td>0.494926</td>\n",
       "      <td>0.630077</td>\n",
       "      <td>0.428903</td>\n",
       "      <td>0.559593</td>\n",
       "      <td>0.537151</td>\n",
       "      <td>0.43099</td>\n",
       "      <td>0.550477</td>\n",
       "      <td>Bio conservation</td>\n",
       "    </tr>\n",
       "    <tr>\n",
       "      <th>KMeans NMI</th>\n",
       "      <td>0.467911</td>\n",
       "      <td>0.506873</td>\n",
       "      <td>0.425284</td>\n",
       "      <td>0.465049</td>\n",
       "      <td>0.519518</td>\n",
       "      <td>0.570626</td>\n",
       "      <td>0.521618</td>\n",
       "      <td>0.532168</td>\n",
       "      <td>Bio conservation</td>\n",
       "    </tr>\n",
       "    <tr>\n",
       "      <th>KMeans ARI</th>\n",
       "      <td>0.240439</td>\n",
       "      <td>0.298482</td>\n",
       "      <td>0.222153</td>\n",
       "      <td>0.258569</td>\n",
       "      <td>0.286807</td>\n",
       "      <td>0.402541</td>\n",
       "      <td>0.393672</td>\n",
       "      <td>0.377925</td>\n",
       "      <td>Bio conservation</td>\n",
       "    </tr>\n",
       "    <tr>\n",
       "      <th>Silhouette label</th>\n",
       "      <td>0.497519</td>\n",
       "      <td>0.52551</td>\n",
       "      <td>0.502793</td>\n",
       "      <td>0.466756</td>\n",
       "      <td>0.513241</td>\n",
       "      <td>0.535254</td>\n",
       "      <td>0.493992</td>\n",
       "      <td>0.533237</td>\n",
       "      <td>Bio conservation</td>\n",
       "    </tr>\n",
       "    <tr>\n",
       "      <th>cLISI</th>\n",
       "      <td>0.998962</td>\n",
       "      <td>0.998392</td>\n",
       "      <td>0.987538</td>\n",
       "      <td>0.997024</td>\n",
       "      <td>0.997616</td>\n",
       "      <td>0.997628</td>\n",
       "      <td>0.995357</td>\n",
       "      <td>0.9967</td>\n",
       "      <td>Bio conservation</td>\n",
       "    </tr>\n",
       "    <tr>\n",
       "      <th>Silhouette batch</th>\n",
       "      <td>0.77526</td>\n",
       "      <td>0.87171</td>\n",
       "      <td>0.842863</td>\n",
       "      <td>0.864127</td>\n",
       "      <td>0.864303</td>\n",
       "      <td>0.856164</td>\n",
       "      <td>0.851116</td>\n",
       "      <td>0.84928</td>\n",
       "      <td>Batch correction</td>\n",
       "    </tr>\n",
       "    <tr>\n",
       "      <th>iLISI</th>\n",
       "      <td>0.0</td>\n",
       "      <td>0.0</td>\n",
       "      <td>0.063976</td>\n",
       "      <td>0.005463</td>\n",
       "      <td>0.000923</td>\n",
       "      <td>0.001856</td>\n",
       "      <td>0.031867</td>\n",
       "      <td>0.002356</td>\n",
       "      <td>Batch correction</td>\n",
       "    </tr>\n",
       "    <tr>\n",
       "      <th>KBET</th>\n",
       "      <td>0.1741</td>\n",
       "      <td>0.25923</td>\n",
       "      <td>0.35674</td>\n",
       "      <td>0.279309</td>\n",
       "      <td>0.258155</td>\n",
       "      <td>0.265139</td>\n",
       "      <td>0.310545</td>\n",
       "      <td>0.261206</td>\n",
       "      <td>Batch correction</td>\n",
       "    </tr>\n",
       "    <tr>\n",
       "      <th>Graph connectivity</th>\n",
       "      <td>0.840131</td>\n",
       "      <td>0.840603</td>\n",
       "      <td>0.667429</td>\n",
       "      <td>0.842407</td>\n",
       "      <td>0.890185</td>\n",
       "      <td>0.882539</td>\n",
       "      <td>0.813387</td>\n",
       "      <td>0.835831</td>\n",
       "      <td>Batch correction</td>\n",
       "    </tr>\n",
       "    <tr>\n",
       "      <th>PCR comparison</th>\n",
       "      <td>0.367755</td>\n",
       "      <td>0.552723</td>\n",
       "      <td>0.911358</td>\n",
       "      <td>0.774062</td>\n",
       "      <td>0.813687</td>\n",
       "      <td>0.748997</td>\n",
       "      <td>0.739855</td>\n",
       "      <td>0.497347</td>\n",
       "      <td>Batch correction</td>\n",
       "    </tr>\n",
       "    <tr>\n",
       "      <th>Batch correction</th>\n",
       "      <td>0.431449</td>\n",
       "      <td>0.504853</td>\n",
       "      <td>0.568473</td>\n",
       "      <td>0.553074</td>\n",
       "      <td>0.565451</td>\n",
       "      <td>0.550939</td>\n",
       "      <td>0.549354</td>\n",
       "      <td>0.489204</td>\n",
       "      <td>Aggregate score</td>\n",
       "    </tr>\n",
       "    <tr>\n",
       "      <th>Bio conservation</th>\n",
       "      <td>0.531023</td>\n",
       "      <td>0.564837</td>\n",
       "      <td>0.553569</td>\n",
       "      <td>0.52326</td>\n",
       "      <td>0.575355</td>\n",
       "      <td>0.60864</td>\n",
       "      <td>0.567126</td>\n",
       "      <td>0.598101</td>\n",
       "      <td>Aggregate score</td>\n",
       "    </tr>\n",
       "    <tr>\n",
       "      <th>Total</th>\n",
       "      <td>0.491193</td>\n",
       "      <td>0.540843</td>\n",
       "      <td>0.559531</td>\n",
       "      <td>0.535186</td>\n",
       "      <td>0.571393</td>\n",
       "      <td>0.58556</td>\n",
       "      <td>0.560017</td>\n",
       "      <td>0.554542</td>\n",
       "      <td>Aggregate score</td>\n",
       "    </tr>\n",
       "  </tbody>\n",
       "</table>\n",
       "</div>"
      ],
      "text/plain": [
       "Embedding          Unintegrated Scanorama     LIGER   Harmony      scVI  \\\n",
       "Isolated labels        0.450284  0.494926  0.630077  0.428903  0.559593   \n",
       "KMeans NMI             0.467911  0.506873  0.425284  0.465049  0.519518   \n",
       "KMeans ARI             0.240439  0.298482  0.222153  0.258569  0.286807   \n",
       "Silhouette label       0.497519   0.52551  0.502793  0.466756  0.513241   \n",
       "cLISI                  0.998962  0.998392  0.987538  0.997024  0.997616   \n",
       "Silhouette batch        0.77526   0.87171  0.842863  0.864127  0.864303   \n",
       "iLISI                       0.0       0.0  0.063976  0.005463  0.000923   \n",
       "KBET                     0.1741   0.25923   0.35674  0.279309  0.258155   \n",
       "Graph connectivity     0.840131  0.840603  0.667429  0.842407  0.890185   \n",
       "PCR comparison         0.367755  0.552723  0.911358  0.774062  0.813687   \n",
       "Batch correction       0.431449  0.504853  0.568473  0.553074  0.565451   \n",
       "Bio conservation       0.531023  0.564837  0.553569   0.52326  0.575355   \n",
       "Total                  0.491193  0.540843  0.559531  0.535186  0.571393   \n",
       "\n",
       "Embedding             scANVI       CCA   FastMNN       Metric Type  \n",
       "Isolated labels     0.537151   0.43099  0.550477  Bio conservation  \n",
       "KMeans NMI          0.570626  0.521618  0.532168  Bio conservation  \n",
       "KMeans ARI          0.402541  0.393672  0.377925  Bio conservation  \n",
       "Silhouette label    0.535254  0.493992  0.533237  Bio conservation  \n",
       "cLISI               0.997628  0.995357    0.9967  Bio conservation  \n",
       "Silhouette batch    0.856164  0.851116   0.84928  Batch correction  \n",
       "iLISI               0.001856  0.031867  0.002356  Batch correction  \n",
       "KBET                0.265139  0.310545  0.261206  Batch correction  \n",
       "Graph connectivity  0.882539  0.813387  0.835831  Batch correction  \n",
       "PCR comparison      0.748997  0.739855  0.497347  Batch correction  \n",
       "Batch correction    0.550939  0.549354  0.489204   Aggregate score  \n",
       "Bio conservation     0.60864  0.567126  0.598101   Aggregate score  \n",
       "Total                0.58556  0.560017  0.554542   Aggregate score  "
      ]
     },
     "execution_count": 65,
     "metadata": {},
     "output_type": "execute_result"
    }
   ],
   "source": [
    "df.transpose()"
   ]
  },
  {
   "cell_type": "code",
   "execution_count": 67,
   "id": "1bd49a7d-1de1-4e72-85be-aada5f6a6fc2",
   "metadata": {},
   "outputs": [],
   "source": [
    "df_transposed = df.transpose()\n",
    "df_transposed.to_csv('scib_df_transposed.csv', index=False)"
   ]
  },
  {
   "cell_type": "code",
   "execution_count": null,
   "id": "18d3f369-7d32-43ce-8845-0d06deaea8b0",
   "metadata": {},
   "outputs": [],
   "source": []
  }
 ],
 "metadata": {
  "kernelspec": {
   "display_name": "Python 3 (ipykernel)",
   "language": "python",
   "name": "python3"
  },
  "language_info": {
   "codemirror_mode": {
    "name": "ipython",
    "version": 3
   },
   "file_extension": ".py",
   "mimetype": "text/x-python",
   "name": "python",
   "nbconvert_exporter": "python",
   "pygments_lexer": "ipython3",
   "version": "3.8.12"
  }
 },
 "nbformat": 4,
 "nbformat_minor": 5
}
